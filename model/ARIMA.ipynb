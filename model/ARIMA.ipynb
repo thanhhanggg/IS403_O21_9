{
 "cells": [
  {
   "cell_type": "markdown",
   "id": "e3d65518",
   "metadata": {},
   "source": [
    "# ARIMA in Crude Oil, Gasoline RBOB, Heating Oil"
   ]
  },
  {
   "cell_type": "markdown",
   "id": "32f56137",
   "metadata": {},
   "source": [
    "### Các thư viện cần thiết"
   ]
  },
  {
   "cell_type": "code",
   "execution_count": 2,
   "id": "0a9fa218",
   "metadata": {},
   "outputs": [],
   "source": [
    "import numpy as np\n",
    "import pandas as pd\n",
    "import matplotlib.pyplot as plt\n",
    "from sklearn.preprocessing import MinMaxScaler\n",
    "from sklearn.linear_model import LinearRegression\n",
    "from sklearn.metrics import mean_absolute_error\n",
    "from sklearn.metrics import mean_squared_error"
   ]
  },
  {
   "cell_type": "code",
   "execution_count": 3,
   "id": "fc4f95ca",
   "metadata": {},
   "outputs": [
    {
     "name": "stdout",
     "output_type": "stream",
     "text": [
      "Collecting pmdarima\n",
      "  Downloading pmdarima-2.0.4-cp311-cp311-win_amd64.whl.metadata (8.0 kB)\n",
      "Requirement already satisfied: joblib>=0.11 in c:\\users\\hoqua\\anaconda3\\lib\\site-packages (from pmdarima) (1.2.0)\n",
      "Collecting Cython!=0.29.18,!=0.29.31,>=0.29 (from pmdarima)\n",
      "  Downloading Cython-3.0.10-cp311-cp311-win_amd64.whl.metadata (3.2 kB)\n",
      "Requirement already satisfied: numpy>=1.21.2 in c:\\users\\hoqua\\anaconda3\\lib\\site-packages (from pmdarima) (1.26.4)\n",
      "Requirement already satisfied: pandas>=0.19 in c:\\users\\hoqua\\anaconda3\\lib\\site-packages (from pmdarima) (2.1.4)\n",
      "Requirement already satisfied: scikit-learn>=0.22 in c:\\users\\hoqua\\anaconda3\\lib\\site-packages (from pmdarima) (1.2.2)\n",
      "Requirement already satisfied: scipy>=1.3.2 in c:\\users\\hoqua\\anaconda3\\lib\\site-packages (from pmdarima) (1.11.4)\n",
      "Requirement already satisfied: statsmodels>=0.13.2 in c:\\users\\hoqua\\anaconda3\\lib\\site-packages (from pmdarima) (0.14.0)\n",
      "Requirement already satisfied: urllib3 in c:\\users\\hoqua\\anaconda3\\lib\\site-packages (from pmdarima) (2.0.7)\n",
      "Requirement already satisfied: setuptools!=50.0.0,>=38.6.0 in c:\\users\\hoqua\\anaconda3\\lib\\site-packages (from pmdarima) (68.2.2)\n",
      "Requirement already satisfied: packaging>=17.1 in c:\\users\\hoqua\\anaconda3\\lib\\site-packages (from pmdarima) (23.1)\n",
      "Requirement already satisfied: python-dateutil>=2.8.2 in c:\\users\\hoqua\\anaconda3\\lib\\site-packages (from pandas>=0.19->pmdarima) (2.8.2)\n",
      "Requirement already satisfied: pytz>=2020.1 in c:\\users\\hoqua\\anaconda3\\lib\\site-packages (from pandas>=0.19->pmdarima) (2023.3.post1)\n",
      "Requirement already satisfied: tzdata>=2022.1 in c:\\users\\hoqua\\anaconda3\\lib\\site-packages (from pandas>=0.19->pmdarima) (2023.3)\n",
      "Requirement already satisfied: threadpoolctl>=2.0.0 in c:\\users\\hoqua\\anaconda3\\lib\\site-packages (from scikit-learn>=0.22->pmdarima) (2.2.0)\n",
      "Requirement already satisfied: patsy>=0.5.2 in c:\\users\\hoqua\\anaconda3\\lib\\site-packages (from statsmodels>=0.13.2->pmdarima) (0.5.3)\n",
      "Requirement already satisfied: six in c:\\users\\hoqua\\anaconda3\\lib\\site-packages (from patsy>=0.5.2->statsmodels>=0.13.2->pmdarima) (1.16.0)\n",
      "Downloading pmdarima-2.0.4-cp311-cp311-win_amd64.whl (614 kB)\n",
      "   ---------------------------------------- 0.0/614.7 kB ? eta -:--:--\n",
      "   ---------------------------------------- 0.0/614.7 kB ? eta -:--:--\n",
      "    --------------------------------------- 10.2/614.7 kB ? eta -:--:--\n",
      "   - ------------------------------------- 30.7/614.7 kB 330.3 kB/s eta 0:00:02\n",
      "   ---- ---------------------------------- 71.7/614.7 kB 491.5 kB/s eta 0:00:02\n",
      "   ------------- -------------------------- 215.0/614.7 kB 1.2 MB/s eta 0:00:01\n",
      "   ---------------------- ----------------- 348.2/614.7 kB 1.7 MB/s eta 0:00:01\n",
      "   --------------------------------- ------ 522.2/614.7 kB 2.0 MB/s eta 0:00:01\n",
      "   ---------------------------------------- 614.7/614.7 kB 2.2 MB/s eta 0:00:00\n",
      "Downloading Cython-3.0.10-cp311-cp311-win_amd64.whl (2.8 MB)\n",
      "   ---------------------------------------- 0.0/2.8 MB ? eta -:--:--\n",
      "   --- ------------------------------------ 0.3/2.8 MB 5.4 MB/s eta 0:00:01\n",
      "   ---- ----------------------------------- 0.3/2.8 MB 4.6 MB/s eta 0:00:01\n",
      "   --------- ------------------------------ 0.7/2.8 MB 5.2 MB/s eta 0:00:01\n",
      "   ----------- ---------------------------- 0.8/2.8 MB 5.1 MB/s eta 0:00:01\n",
      "   ---------------- ----------------------- 1.1/2.8 MB 5.1 MB/s eta 0:00:01\n",
      "   ------------------ --------------------- 1.3/2.8 MB 4.9 MB/s eta 0:00:01\n",
      "   ---------------------- ----------------- 1.5/2.8 MB 4.9 MB/s eta 0:00:01\n",
      "   ------------------------ --------------- 1.7/2.8 MB 5.0 MB/s eta 0:00:01\n",
      "   -------------------------- ------------- 1.8/2.8 MB 4.8 MB/s eta 0:00:01\n",
      "   ------------------------------ --------- 2.1/2.8 MB 4.8 MB/s eta 0:00:01\n",
      "   --------------------------------- ------ 2.3/2.8 MB 4.9 MB/s eta 0:00:01\n",
      "   ------------------------------------ --- 2.5/2.8 MB 4.9 MB/s eta 0:00:01\n",
      "   ---------------------------------------  2.8/2.8 MB 4.9 MB/s eta 0:00:01\n",
      "   ---------------------------------------- 2.8/2.8 MB 4.8 MB/s eta 0:00:00\n",
      "Installing collected packages: Cython, pmdarima\n",
      "Successfully installed Cython-3.0.10 pmdarima-2.0.4\n"
     ]
    }
   ],
   "source": [
    "!pip install pmdarima"
   ]
  },
  {
   "cell_type": "code",
   "execution_count": 4,
   "id": "eddfade2",
   "metadata": {},
   "outputs": [],
   "source": [
    "from pmdarima.arima import auto_arima"
   ]
  },
  {
   "cell_type": "markdown",
   "id": "5ce7a84f",
   "metadata": {},
   "source": [
    "# Train-Test 7:3"
   ]
  },
  {
   "cell_type": "markdown",
   "id": "4572a5e4",
   "metadata": {},
   "source": [
    "# Crude Oil WTI - 7:3"
   ]
  },
  {
   "cell_type": "code",
   "execution_count": 5,
   "id": "93a4715c",
   "metadata": {},
   "outputs": [],
   "source": [
    "# Đọc file dữ liệu và loại bỏ những dòng bị thiếu\n",
    "df= pd.read_csv('Crude Oil WTI Futures Historical Data.csv')\n",
    "df = df.dropna() # Drop missing values"
   ]
  },
  {
   "cell_type": "code",
   "execution_count": 6,
   "id": "80f462e5-fc4f-42c5-92de-1ab288955d1c",
   "metadata": {},
   "outputs": [
    {
     "data": {
      "text/html": [
       "<div>\n",
       "<style scoped>\n",
       "    .dataframe tbody tr th:only-of-type {\n",
       "        vertical-align: middle;\n",
       "    }\n",
       "\n",
       "    .dataframe tbody tr th {\n",
       "        vertical-align: top;\n",
       "    }\n",
       "\n",
       "    .dataframe thead th {\n",
       "        text-align: right;\n",
       "    }\n",
       "</style>\n",
       "<table border=\"1\" class=\"dataframe\">\n",
       "  <thead>\n",
       "    <tr style=\"text-align: right;\">\n",
       "      <th></th>\n",
       "      <th>Date</th>\n",
       "      <th>Price</th>\n",
       "      <th>Open</th>\n",
       "      <th>High</th>\n",
       "      <th>Low</th>\n",
       "      <th>Vol.</th>\n",
       "      <th>Change %</th>\n",
       "    </tr>\n",
       "  </thead>\n",
       "  <tbody>\n",
       "    <tr>\n",
       "      <th>0</th>\n",
       "      <td>27-03-2024</td>\n",
       "      <td>81.35</td>\n",
       "      <td>81.29</td>\n",
       "      <td>81.74</td>\n",
       "      <td>80.55</td>\n",
       "      <td>249960</td>\n",
       "      <td>-0.33</td>\n",
       "    </tr>\n",
       "    <tr>\n",
       "      <th>1</th>\n",
       "      <td>26-03-2024</td>\n",
       "      <td>81.62</td>\n",
       "      <td>81.94</td>\n",
       "      <td>82.36</td>\n",
       "      <td>81.22</td>\n",
       "      <td>235850</td>\n",
       "      <td>-0.40</td>\n",
       "    </tr>\n",
       "    <tr>\n",
       "      <th>2</th>\n",
       "      <td>25-03-2024</td>\n",
       "      <td>81.95</td>\n",
       "      <td>80.85</td>\n",
       "      <td>82.48</td>\n",
       "      <td>80.59</td>\n",
       "      <td>300360</td>\n",
       "      <td>1.64</td>\n",
       "    </tr>\n",
       "    <tr>\n",
       "      <th>3</th>\n",
       "      <td>22-03-2024</td>\n",
       "      <td>80.63</td>\n",
       "      <td>80.84</td>\n",
       "      <td>81.45</td>\n",
       "      <td>80.42</td>\n",
       "      <td>231100</td>\n",
       "      <td>-0.54</td>\n",
       "    </tr>\n",
       "    <tr>\n",
       "      <th>4</th>\n",
       "      <td>21-03-2024</td>\n",
       "      <td>81.07</td>\n",
       "      <td>81.49</td>\n",
       "      <td>81.92</td>\n",
       "      <td>80.30</td>\n",
       "      <td>266860</td>\n",
       "      <td>-0.75</td>\n",
       "    </tr>\n",
       "    <tr>\n",
       "      <th>...</th>\n",
       "      <td>...</td>\n",
       "      <td>...</td>\n",
       "      <td>...</td>\n",
       "      <td>...</td>\n",
       "      <td>...</td>\n",
       "      <td>...</td>\n",
       "      <td>...</td>\n",
       "    </tr>\n",
       "    <tr>\n",
       "      <th>1379</th>\n",
       "      <td>08-01-2019</td>\n",
       "      <td>49.78</td>\n",
       "      <td>48.73</td>\n",
       "      <td>49.95</td>\n",
       "      <td>48.31</td>\n",
       "      <td>765980</td>\n",
       "      <td>2.60</td>\n",
       "    </tr>\n",
       "    <tr>\n",
       "      <th>1380</th>\n",
       "      <td>07-01-2019</td>\n",
       "      <td>48.52</td>\n",
       "      <td>48.30</td>\n",
       "      <td>49.79</td>\n",
       "      <td>48.11</td>\n",
       "      <td>819940</td>\n",
       "      <td>1.17</td>\n",
       "    </tr>\n",
       "    <tr>\n",
       "      <th>1381</th>\n",
       "      <td>04-01-2019</td>\n",
       "      <td>47.96</td>\n",
       "      <td>46.90</td>\n",
       "      <td>49.22</td>\n",
       "      <td>46.65</td>\n",
       "      <td>817280</td>\n",
       "      <td>1.85</td>\n",
       "    </tr>\n",
       "    <tr>\n",
       "      <th>1382</th>\n",
       "      <td>03-01-2019</td>\n",
       "      <td>47.09</td>\n",
       "      <td>46.26</td>\n",
       "      <td>47.49</td>\n",
       "      <td>45.35</td>\n",
       "      <td>788720</td>\n",
       "      <td>1.18</td>\n",
       "    </tr>\n",
       "    <tr>\n",
       "      <th>1383</th>\n",
       "      <td>02-01-2019</td>\n",
       "      <td>46.54</td>\n",
       "      <td>45.80</td>\n",
       "      <td>47.78</td>\n",
       "      <td>44.35</td>\n",
       "      <td>850480</td>\n",
       "      <td>1.42</td>\n",
       "    </tr>\n",
       "  </tbody>\n",
       "</table>\n",
       "<p>1296 rows × 7 columns</p>\n",
       "</div>"
      ],
      "text/plain": [
       "            Date  Price   Open   High    Low    Vol.  Change %\n",
       "0     27-03-2024  81.35  81.29  81.74  80.55  249960     -0.33\n",
       "1     26-03-2024  81.62  81.94  82.36  81.22  235850     -0.40\n",
       "2     25-03-2024  81.95  80.85  82.48  80.59  300360      1.64\n",
       "3     22-03-2024  80.63  80.84  81.45  80.42  231100     -0.54\n",
       "4     21-03-2024  81.07  81.49  81.92  80.30  266860     -0.75\n",
       "...          ...    ...    ...    ...    ...     ...       ...\n",
       "1379  08-01-2019  49.78  48.73  49.95  48.31  765980      2.60\n",
       "1380  07-01-2019  48.52  48.30  49.79  48.11  819940      1.17\n",
       "1381  04-01-2019  47.96  46.90  49.22  46.65  817280      1.85\n",
       "1382  03-01-2019  47.09  46.26  47.49  45.35  788720      1.18\n",
       "1383  02-01-2019  46.54  45.80  47.78  44.35  850480      1.42\n",
       "\n",
       "[1296 rows x 7 columns]"
      ]
     },
     "execution_count": 6,
     "metadata": {},
     "output_type": "execute_result"
    }
   ],
   "source": [
    "def convert_volume_to_number(volume_str):\n",
    "    if isinstance(volume_str, float):\n",
    "        return volume_str\n",
    "    if volume_str[-1] == 'K':\n",
    "        return int(float(volume_str[:-1]) * 1000)\n",
    "    elif volume_str[-1] == 'M':\n",
    "        return int(float(volume_str[:-1]) * 1000000)\n",
    "    elif volume_str[-1] == 'B':\n",
    "        return int(float(volume_str[:-1]) * 1000000000)\n",
    "    else:\n",
    "        return volume_str\n",
    "\n",
    "\n",
    "def convert_change_to_number(change_str):\n",
    "    new_change = float(change_str.strip('%'))\n",
    "    return new_change\n",
    "\n",
    "def convert_str_to_number(str):\n",
    "    return float(str.replace(',', ''))\n",
    "\n",
    "df['Vol.'] = df['Vol.'] .apply(convert_volume_to_number)\n",
    "df['Change %'] = df['Change %'].apply(convert_change_to_number)\n",
    "df['Date'] = pd.to_datetime(df['Date'])\n",
    "df[\"Date\"] = df[\"Date\"].dt.strftime('%d-%m-%Y')\n",
    "df"
   ]
  },
  {
   "cell_type": "code",
   "execution_count": 7,
   "id": "0a81519f-1ab8-4b25-9f60-a3898f5309fb",
   "metadata": {
    "scrolled": true
   },
   "outputs": [
    {
     "name": "stdout",
     "output_type": "stream",
     "text": [
      "<class 'pandas.core.frame.DataFrame'>\n",
      "Index: 1296 entries, 0 to 1383\n",
      "Data columns (total 7 columns):\n",
      " #   Column    Non-Null Count  Dtype  \n",
      "---  ------    --------------  -----  \n",
      " 0   Date      1296 non-null   object \n",
      " 1   Price     1296 non-null   float64\n",
      " 2   Open      1296 non-null   float64\n",
      " 3   High      1296 non-null   float64\n",
      " 4   Low       1296 non-null   float64\n",
      " 5   Vol.      1296 non-null   int64  \n",
      " 6   Change %  1296 non-null   float64\n",
      "dtypes: float64(5), int64(1), object(1)\n",
      "memory usage: 81.0+ KB\n"
     ]
    }
   ],
   "source": [
    "df.info()"
   ]
  },
  {
   "cell_type": "code",
   "execution_count": 38,
   "id": "f8b01f6c-fccd-4294-90fa-b04ad4a440db",
   "metadata": {},
   "outputs": [],
   "source": [
    "# Chuyển đổi cột 'Price' thành mảng NumPy\n",
    "df = df[['Price']]\n",
    "df = df.dropna() # Drop missing values\n",
    "df = df.reset_index(drop=True) # Reset the index"
   ]
  },
  {
   "cell_type": "code",
   "execution_count": 9,
   "id": "1744db58-0364-446a-8c58-21df5325b119",
   "metadata": {},
   "outputs": [],
   "source": [
    "# Tách dữ liệu train-test 7:3\n",
    "train_size = int(0.7 * len(df))\n",
    "test_size = len(df)-train_size\n",
    "train_data = df[:train_size]\n",
    "test_data = df[train_size:train_size+test_size]"
   ]
  },
  {
   "cell_type": "code",
   "execution_count": 10,
   "id": "879d19ee-add9-4381-9278-b9111a756ae7",
   "metadata": {},
   "outputs": [],
   "source": [
    "# Tạo hàm đánh giá sai số cho dự đoán (sử dụng MAE, MAPE, RMSE)\n",
    "def evaluate(test,pred):\n",
    "  print('- Calculate Error Values -')\n",
    "  test_mae = mean_absolute_error(test, pred)\n",
    "  print('MAE: ', test_mae)\n",
    "\n",
    "  test_ape = np.abs((test - pred) / test)\n",
    "  test_mape = np.mean(test_ape) * 100\n",
    "  print('MAPE: ', test_mape)\n",
    "\n",
    "  test_mse = mean_squared_error(test, pred)\n",
    "  test_rmse = np.sqrt(test_mse)\n",
    "  print('RMSE: ', test_rmse)"
   ]
  },
  {
   "cell_type": "code",
   "execution_count": 11,
   "id": "56c2bf87-2b07-4081-aa1a-47f267811fae",
   "metadata": {},
   "outputs": [
    {
     "name": "stdout",
     "output_type": "stream",
     "text": [
      "Performing stepwise search to minimize aic\n",
      " ARIMA(2,1,2)(0,0,0)[0] intercept   : AIC=3825.174, Time=1.15 sec\n",
      " ARIMA(0,1,0)(0,0,0)[0] intercept   : AIC=3843.512, Time=0.05 sec\n",
      " ARIMA(1,1,0)(0,0,0)[0] intercept   : AIC=3845.478, Time=0.14 sec\n",
      " ARIMA(0,1,1)(0,0,0)[0] intercept   : AIC=3845.472, Time=0.12 sec\n",
      " ARIMA(0,1,0)(0,0,0)[0]             : AIC=3841.959, Time=0.05 sec\n",
      " ARIMA(1,1,2)(0,0,0)[0] intercept   : AIC=3839.933, Time=0.55 sec\n",
      " ARIMA(2,1,1)(0,0,0)[0] intercept   : AIC=3840.073, Time=0.44 sec\n",
      " ARIMA(3,1,2)(0,0,0)[0] intercept   : AIC=3827.611, Time=2.12 sec\n",
      " ARIMA(2,1,3)(0,0,0)[0] intercept   : AIC=3827.978, Time=1.62 sec\n",
      " ARIMA(1,1,1)(0,0,0)[0] intercept   : AIC=3841.596, Time=0.38 sec\n",
      " ARIMA(1,1,3)(0,0,0)[0] intercept   : AIC=3842.781, Time=0.61 sec\n",
      " ARIMA(3,1,1)(0,0,0)[0] intercept   : AIC=3843.481, Time=0.47 sec\n",
      " ARIMA(3,1,3)(0,0,0)[0] intercept   : AIC=inf, Time=1.75 sec\n",
      " ARIMA(2,1,2)(0,0,0)[0]             : AIC=3823.656, Time=0.71 sec\n",
      " ARIMA(1,1,2)(0,0,0)[0]             : AIC=3838.723, Time=0.25 sec\n",
      " ARIMA(2,1,1)(0,0,0)[0]             : AIC=3838.864, Time=0.23 sec\n",
      " ARIMA(3,1,2)(0,0,0)[0]             : AIC=3825.314, Time=0.99 sec\n",
      " ARIMA(2,1,3)(0,0,0)[0]             : AIC=3825.291, Time=1.07 sec\n",
      " ARIMA(1,1,1)(0,0,0)[0]             : AIC=3840.377, Time=0.24 sec\n",
      " ARIMA(1,1,3)(0,0,0)[0]             : AIC=3841.355, Time=0.38 sec\n",
      " ARIMA(3,1,1)(0,0,0)[0]             : AIC=3842.029, Time=0.27 sec\n",
      " ARIMA(3,1,3)(0,0,0)[0]             : AIC=3826.446, Time=1.20 sec\n",
      "\n",
      "Best model:  ARIMA(2,1,2)(0,0,0)[0]          \n",
      "Total fit time: 14.839 seconds\n"
     ]
    },
    {
     "data": {
      "text/html": [
       "<style>#sk-container-id-1 {color: black;background-color: white;}#sk-container-id-1 pre{padding: 0;}#sk-container-id-1 div.sk-toggleable {background-color: white;}#sk-container-id-1 label.sk-toggleable__label {cursor: pointer;display: block;width: 100%;margin-bottom: 0;padding: 0.3em;box-sizing: border-box;text-align: center;}#sk-container-id-1 label.sk-toggleable__label-arrow:before {content: \"▸\";float: left;margin-right: 0.25em;color: #696969;}#sk-container-id-1 label.sk-toggleable__label-arrow:hover:before {color: black;}#sk-container-id-1 div.sk-estimator:hover label.sk-toggleable__label-arrow:before {color: black;}#sk-container-id-1 div.sk-toggleable__content {max-height: 0;max-width: 0;overflow: hidden;text-align: left;background-color: #f0f8ff;}#sk-container-id-1 div.sk-toggleable__content pre {margin: 0.2em;color: black;border-radius: 0.25em;background-color: #f0f8ff;}#sk-container-id-1 input.sk-toggleable__control:checked~div.sk-toggleable__content {max-height: 200px;max-width: 100%;overflow: auto;}#sk-container-id-1 input.sk-toggleable__control:checked~label.sk-toggleable__label-arrow:before {content: \"▾\";}#sk-container-id-1 div.sk-estimator input.sk-toggleable__control:checked~label.sk-toggleable__label {background-color: #d4ebff;}#sk-container-id-1 div.sk-label input.sk-toggleable__control:checked~label.sk-toggleable__label {background-color: #d4ebff;}#sk-container-id-1 input.sk-hidden--visually {border: 0;clip: rect(1px 1px 1px 1px);clip: rect(1px, 1px, 1px, 1px);height: 1px;margin: -1px;overflow: hidden;padding: 0;position: absolute;width: 1px;}#sk-container-id-1 div.sk-estimator {font-family: monospace;background-color: #f0f8ff;border: 1px dotted black;border-radius: 0.25em;box-sizing: border-box;margin-bottom: 0.5em;}#sk-container-id-1 div.sk-estimator:hover {background-color: #d4ebff;}#sk-container-id-1 div.sk-parallel-item::after {content: \"\";width: 100%;border-bottom: 1px solid gray;flex-grow: 1;}#sk-container-id-1 div.sk-label:hover label.sk-toggleable__label {background-color: #d4ebff;}#sk-container-id-1 div.sk-serial::before {content: \"\";position: absolute;border-left: 1px solid gray;box-sizing: border-box;top: 0;bottom: 0;left: 50%;z-index: 0;}#sk-container-id-1 div.sk-serial {display: flex;flex-direction: column;align-items: center;background-color: white;padding-right: 0.2em;padding-left: 0.2em;position: relative;}#sk-container-id-1 div.sk-item {position: relative;z-index: 1;}#sk-container-id-1 div.sk-parallel {display: flex;align-items: stretch;justify-content: center;background-color: white;position: relative;}#sk-container-id-1 div.sk-item::before, #sk-container-id-1 div.sk-parallel-item::before {content: \"\";position: absolute;border-left: 1px solid gray;box-sizing: border-box;top: 0;bottom: 0;left: 50%;z-index: -1;}#sk-container-id-1 div.sk-parallel-item {display: flex;flex-direction: column;z-index: 1;position: relative;background-color: white;}#sk-container-id-1 div.sk-parallel-item:first-child::after {align-self: flex-end;width: 50%;}#sk-container-id-1 div.sk-parallel-item:last-child::after {align-self: flex-start;width: 50%;}#sk-container-id-1 div.sk-parallel-item:only-child::after {width: 0;}#sk-container-id-1 div.sk-dashed-wrapped {border: 1px dashed gray;margin: 0 0.4em 0.5em 0.4em;box-sizing: border-box;padding-bottom: 0.4em;background-color: white;}#sk-container-id-1 div.sk-label label {font-family: monospace;font-weight: bold;display: inline-block;line-height: 1.2em;}#sk-container-id-1 div.sk-label-container {text-align: center;}#sk-container-id-1 div.sk-container {/* jupyter's `normalize.less` sets `[hidden] { display: none; }` but bootstrap.min.css set `[hidden] { display: none !important; }` so we also need the `!important` here to be able to override the default hidden behavior on the sphinx rendered scikit-learn.org. See: https://github.com/scikit-learn/scikit-learn/issues/21755 */display: inline-block !important;position: relative;}#sk-container-id-1 div.sk-text-repr-fallback {display: none;}</style><div id=\"sk-container-id-1\" class=\"sk-top-container\"><div class=\"sk-text-repr-fallback\"><pre> ARIMA(2,1,2)(0,0,0)[0]          </pre><b>In a Jupyter environment, please rerun this cell to show the HTML representation or trust the notebook. <br />On GitHub, the HTML representation is unable to render, please try loading this page with nbviewer.org.</b></div><div class=\"sk-container\" hidden><div class=\"sk-item\"><div class=\"sk-estimator sk-toggleable\"><input class=\"sk-toggleable__control sk-hidden--visually\" id=\"sk-estimator-id-1\" type=\"checkbox\" checked><label for=\"sk-estimator-id-1\" class=\"sk-toggleable__label sk-toggleable__label-arrow\">ARIMA</label><div class=\"sk-toggleable__content\"><pre> ARIMA(2,1,2)(0,0,0)[0]          </pre></div></div></div></div></div>"
      ],
      "text/plain": [
       "ARIMA(order=(2, 1, 2), scoring_args={}, suppress_warnings=True,\n",
       "      with_intercept=False)"
      ]
     },
     "execution_count": 11,
     "metadata": {},
     "output_type": "execute_result"
    }
   ],
   "source": [
    "# Training model\n",
    "x_train = np.array(train_data.index).reshape(-1, 1)\n",
    "y_train = np.array(train_data['Price'])\n",
    "\n",
    "# Tìm mô hình ARIMA tối ưu nhất\n",
    "model = auto_arima(y_train, trace=True, error_action='ignore', suppress_warnings=True)\n",
    "model.fit(y_train)"
   ]
  },
  {
   "cell_type": "code",
   "execution_count": 12,
   "id": "23435e50-f445-49f8-8066-c51a96b1d14f",
   "metadata": {},
   "outputs": [],
   "source": [
    "# Testing model \n",
    "x_test = np.array(test_data.index).reshape(-1, 1)\n",
    "y_test = np.array(test_data['Price'])\n",
    "y_pred = model.predict(n_periods=len(y_test))"
   ]
  },
  {
   "cell_type": "code",
   "execution_count": 13,
   "id": "9f04706f-2241-47fe-a879-1af2a681707f",
   "metadata": {},
   "outputs": [
    {
     "name": "stdout",
     "output_type": "stream",
     "text": [
      "Predict closing prices for the next 30 days:\n",
      "[40.82433112 40.93543674 40.92543466 40.81608101 40.82190048 40.92938287\n",
      " 40.92759798 40.82209849 40.81999806 40.9234106  40.92924614 40.82801713\n",
      " 40.81859737 40.91755361 40.93040632 40.83380487 40.81767058 40.91184232\n",
      " 40.93110696 40.83943291 40.81718874 40.90630393 40.93137743 40.84487563\n",
      " 40.81712212 40.90096248 40.9312478  40.85011057 40.81744038 40.89583892]\n"
     ]
    }
   ],
   "source": [
    "# Dự đoán 30 ngày tiếp theo\n",
    "last_index =  df.index[-1]\n",
    "last_data = pd.RangeIndex(start=last_index, stop=last_index+30, step=1)\n",
    "\n",
    "x_next_30_days = np.array(range(last_index+1, last_index+31)).reshape(-1, 1)\n",
    "y_next_30_days = model.predict(n_periods=len(x_next_30_days))\n",
    "\n",
    "print('Predict closing prices for the next 30 days:')\n",
    "print(y_next_30_days)"
   ]
  },
  {
   "cell_type": "code",
   "execution_count": 14,
   "id": "601c57c1-5e6f-4422-8c5c-1b736352347a",
   "metadata": {},
   "outputs": [
    {
     "name": "stdout",
     "output_type": "stream",
     "text": [
      "- Calculate Error Values -\n",
      "MAE:  14.65452598574906\n",
      "MAPE:  33.42757365588305\n",
      "RMSE:  16.11868110728755\n"
     ]
    },
    {
     "data": {
      "image/png": "[encoded data removed]",
      "text/plain": [
       "<Figure size 640x480 with 1 Axes>"
      ]
     },
     "metadata": {},
     "output_type": "display_data"
    }
   ],
   "source": [
    "# Đánh giá mô hình dựa trên các đánh giá sai số và vẽ đồ thị đường\n",
    "evaluate(y_test, y_pred)\n",
    "\n",
    "plt.plot(train_data.index, train_data['Price'])\n",
    "plt.plot(test_data.index, test_data['Price'])\n",
    "plt.plot(test_data.index, y_pred)\n",
    "plt.plot(last_data,y_next_30_days)\n",
    "plt.legend(['Train', 'Test', 'Predictions','Next30Day'])\n",
    "plt.show()"
   ]
  },
  {
   "cell_type": "markdown",
   "id": "81b27da5",
   "metadata": {},
   "source": [
    "# Gasoline RBOB - 7:3"
   ]
  },
  {
   "cell_type": "code",
   "execution_count": 25,
   "id": "5fd5619b",
   "metadata": {},
   "outputs": [],
   "source": [
    "# Đọc file dữ liệu, loại bỏ những dòng bị thiếu và chuẩn hóa dữ liệu\n",
    "df= pd.read_csv('Gasoline RBOB Futures Historical Data.csv')\n",
    "df = df.dropna() # Drop missing values"
   ]
  },
  {
   "cell_type": "code",
   "execution_count": 26,
   "id": "83410fec-b611-471e-988a-57dd6b22371d",
   "metadata": {},
   "outputs": [
    {
     "data": {
      "text/html": [
       "<div>\n",
       "<style scoped>\n",
       "    .dataframe tbody tr th:only-of-type {\n",
       "        vertical-align: middle;\n",
       "    }\n",
       "\n",
       "    .dataframe tbody tr th {\n",
       "        vertical-align: top;\n",
       "    }\n",
       "\n",
       "    .dataframe thead th {\n",
       "        text-align: right;\n",
       "    }\n",
       "</style>\n",
       "<table border=\"1\" class=\"dataframe\">\n",
       "  <thead>\n",
       "    <tr style=\"text-align: right;\">\n",
       "      <th></th>\n",
       "      <th>Date</th>\n",
       "      <th>Price</th>\n",
       "      <th>Open</th>\n",
       "      <th>High</th>\n",
       "      <th>Low</th>\n",
       "      <th>Vol.</th>\n",
       "      <th>Change %</th>\n",
       "    </tr>\n",
       "  </thead>\n",
       "  <tbody>\n",
       "    <tr>\n",
       "      <th>0</th>\n",
       "      <td>27-03-2024</td>\n",
       "      <td>2.6847</td>\n",
       "      <td>2.6878</td>\n",
       "      <td>2.6976</td>\n",
       "      <td>2.6877</td>\n",
       "      <td>150</td>\n",
       "      <td>-0.59</td>\n",
       "    </tr>\n",
       "    <tr>\n",
       "      <th>1</th>\n",
       "      <td>26-03-2024</td>\n",
       "      <td>2.7006</td>\n",
       "      <td>2.7489</td>\n",
       "      <td>2.7500</td>\n",
       "      <td>2.6980</td>\n",
       "      <td>390</td>\n",
       "      <td>-1.74</td>\n",
       "    </tr>\n",
       "    <tr>\n",
       "      <th>2</th>\n",
       "      <td>25-03-2024</td>\n",
       "      <td>2.7484</td>\n",
       "      <td>2.7370</td>\n",
       "      <td>2.7603</td>\n",
       "      <td>2.7310</td>\n",
       "      <td>620</td>\n",
       "      <td>1.11</td>\n",
       "    </tr>\n",
       "    <tr>\n",
       "      <th>4</th>\n",
       "      <td>22-03-2024</td>\n",
       "      <td>2.7398</td>\n",
       "      <td>2.7090</td>\n",
       "      <td>2.7456</td>\n",
       "      <td>2.7090</td>\n",
       "      <td>610</td>\n",
       "      <td>0.47</td>\n",
       "    </tr>\n",
       "    <tr>\n",
       "      <th>5</th>\n",
       "      <td>21-03-2024</td>\n",
       "      <td>2.7271</td>\n",
       "      <td>2.7370</td>\n",
       "      <td>2.7376</td>\n",
       "      <td>2.7119</td>\n",
       "      <td>150</td>\n",
       "      <td>-0.22</td>\n",
       "    </tr>\n",
       "    <tr>\n",
       "      <th>...</th>\n",
       "      <td>...</td>\n",
       "      <td>...</td>\n",
       "      <td>...</td>\n",
       "      <td>...</td>\n",
       "      <td>...</td>\n",
       "      <td>...</td>\n",
       "      <td>...</td>\n",
       "    </tr>\n",
       "    <tr>\n",
       "      <th>1616</th>\n",
       "      <td>08-01-2019</td>\n",
       "      <td>1.4740</td>\n",
       "      <td>1.3466</td>\n",
       "      <td>1.3722</td>\n",
       "      <td>1.3385</td>\n",
       "      <td>74920</td>\n",
       "      <td>1.62</td>\n",
       "    </tr>\n",
       "    <tr>\n",
       "      <th>1617</th>\n",
       "      <td>07-01-2019</td>\n",
       "      <td>1.4505</td>\n",
       "      <td>1.3560</td>\n",
       "      <td>1.3945</td>\n",
       "      <td>1.3389</td>\n",
       "      <td>79090</td>\n",
       "      <td>5.95</td>\n",
       "    </tr>\n",
       "    <tr>\n",
       "      <th>1619</th>\n",
       "      <td>04-01-2019</td>\n",
       "      <td>1.4515</td>\n",
       "      <td>1.3364</td>\n",
       "      <td>1.3981</td>\n",
       "      <td>1.3293</td>\n",
       "      <td>66360</td>\n",
       "      <td>0.96</td>\n",
       "    </tr>\n",
       "    <tr>\n",
       "      <th>1620</th>\n",
       "      <td>03-01-2019</td>\n",
       "      <td>1.4377</td>\n",
       "      <td>1.3160</td>\n",
       "      <td>1.3676</td>\n",
       "      <td>1.3016</td>\n",
       "      <td>57750</td>\n",
       "      <td>1.60</td>\n",
       "    </tr>\n",
       "    <tr>\n",
       "      <th>1621</th>\n",
       "      <td>02-01-2019</td>\n",
       "      <td>1.4150</td>\n",
       "      <td>1.3136</td>\n",
       "      <td>1.3790</td>\n",
       "      <td>1.2685</td>\n",
       "      <td>87520</td>\n",
       "      <td>7.81</td>\n",
       "    </tr>\n",
       "  </tbody>\n",
       "</table>\n",
       "<p>1330 rows × 7 columns</p>\n",
       "</div>"
      ],
      "text/plain": [
       "            Date   Price    Open    High     Low   Vol.  Change %\n",
       "0     27-03-2024  2.6847  2.6878  2.6976  2.6877    150     -0.59\n",
       "1     26-03-2024  2.7006  2.7489  2.7500  2.6980    390     -1.74\n",
       "2     25-03-2024  2.7484  2.7370  2.7603  2.7310    620      1.11\n",
       "4     22-03-2024  2.7398  2.7090  2.7456  2.7090    610      0.47\n",
       "5     21-03-2024  2.7271  2.7370  2.7376  2.7119    150     -0.22\n",
       "...          ...     ...     ...     ...     ...    ...       ...\n",
       "1616  08-01-2019  1.4740  1.3466  1.3722  1.3385  74920      1.62\n",
       "1617  07-01-2019  1.4505  1.3560  1.3945  1.3389  79090      5.95\n",
       "1619  04-01-2019  1.4515  1.3364  1.3981  1.3293  66360      0.96\n",
       "1620  03-01-2019  1.4377  1.3160  1.3676  1.3016  57750      1.60\n",
       "1621  02-01-2019  1.4150  1.3136  1.3790  1.2685  87520      7.81\n",
       "\n",
       "[1330 rows x 7 columns]"
      ]
     },
     "execution_count": 26,
     "metadata": {},
     "output_type": "execute_result"
    }
   ],
   "source": [
    "def convert_volume_to_number(volume_str):\n",
    "    if isinstance(volume_str, float):\n",
    "        return volume_str\n",
    "    if volume_str[-1] == 'K':\n",
    "        return int(float(volume_str[:-1]) * 1000)\n",
    "    elif volume_str[-1] == 'M':\n",
    "        return int(float(volume_str[:-1]) * 1000000)\n",
    "    elif volume_str[-1] == 'B':\n",
    "        return int(float(volume_str[:-1]) * 1000000000)\n",
    "    else:\n",
    "        return volume_str\n",
    "\n",
    "\n",
    "def convert_change_to_number(change_str):\n",
    "    new_change = float(change_str.strip('%'))\n",
    "    return new_change\n",
    "\n",
    "def convert_str_to_number(str):\n",
    "    return float(str.replace(',', ''))\n",
    "\n",
    "df['Vol.'] = df['Vol.'] .apply(convert_volume_to_number)\n",
    "df['Change %'] = df['Change %'].apply(convert_change_to_number)\n",
    "df['Date'] = pd.to_datetime(df['Date'])\n",
    "df[\"Date\"] = df[\"Date\"].dt.strftime('%d-%m-%Y')\n",
    "df"
   ]
  },
  {
   "cell_type": "code",
   "execution_count": 27,
   "id": "b4938607-a626-4d89-a9d6-f3cd272909dd",
   "metadata": {},
   "outputs": [
    {
     "name": "stdout",
     "output_type": "stream",
     "text": [
      "<class 'pandas.core.frame.DataFrame'>\n",
      "Index: 1330 entries, 0 to 1621\n",
      "Data columns (total 7 columns):\n",
      " #   Column    Non-Null Count  Dtype  \n",
      "---  ------    --------------  -----  \n",
      " 0   Date      1330 non-null   object \n",
      " 1   Price     1330 non-null   float64\n",
      " 2   Open      1330 non-null   float64\n",
      " 3   High      1330 non-null   float64\n",
      " 4   Low       1330 non-null   float64\n",
      " 5   Vol.      1330 non-null   int64  \n",
      " 6   Change %  1330 non-null   float64\n",
      "dtypes: float64(5), int64(1), object(1)\n",
      "memory usage: 83.1+ KB\n"
     ]
    }
   ],
   "source": [
    "df.info()"
   ]
  },
  {
   "cell_type": "code",
   "execution_count": 28,
   "id": "3a2d94c2-9e77-4a13-8b54-19decba6673d",
   "metadata": {},
   "outputs": [],
   "source": [
    "# Chuyển đổi cột 'Price' thành mảng NumPy\n",
    "df = df[['Price']]\n",
    "df = df.dropna() # Drop missing values\n",
    "df = df.reset_index(drop=True) # Reset the index"
   ]
  },
  {
   "cell_type": "code",
   "execution_count": 29,
   "id": "00a84b99-4fbb-492f-817e-a8f80f5321b4",
   "metadata": {},
   "outputs": [],
   "source": [
    "# Tách dữ liệu train-test 7:3\n",
    "train_size = int(0.7 * len(df))\n",
    "test_size = len(df)-train_size\n",
    "train_data = df[:train_size]\n",
    "test_data = df[train_size:train_size+test_size]"
   ]
  },
  {
   "cell_type": "code",
   "execution_count": 30,
   "id": "6394f1ab-3fc4-4e83-a7f1-c8fbef33bd8e",
   "metadata": {},
   "outputs": [],
   "source": [
    "# Tạo hàm đánh giá sai số cho dự đoán (sử dụng MAE, MAPE, RMSE)\n",
    "def evaluate(test,pred):\n",
    "  print('- Calculate Error Values -')\n",
    "  test_mae = mean_absolute_error(test, pred)\n",
    "  print('MAE: ', test_mae)\n",
    "\n",
    "  test_ape = np.abs((test - pred) / test)\n",
    "  test_mape = np.mean(test_ape) * 100\n",
    "  print('MAPE: ', test_mape)\n",
    "\n",
    "  test_mse = mean_squared_error(test, pred)\n",
    "  test_rmse = np.sqrt(test_mse)\n",
    "  print('RMSE: ', test_rmse)"
   ]
  },
  {
   "cell_type": "code",
   "execution_count": 31,
   "id": "5f24ff94-f146-4cd0-b4b2-5b931689bba6",
   "metadata": {},
   "outputs": [
    {
     "name": "stdout",
     "output_type": "stream",
     "text": [
      "Performing stepwise search to minimize aic\n",
      " ARIMA(2,1,2)(0,0,0)[0] intercept   : AIC=-2301.012, Time=1.36 sec\n",
      " ARIMA(0,1,0)(0,0,0)[0] intercept   : AIC=-2228.799, Time=0.12 sec\n",
      " ARIMA(1,1,0)(0,0,0)[0] intercept   : AIC=-2274.657, Time=0.11 sec\n",
      " ARIMA(0,1,1)(0,0,0)[0] intercept   : AIC=-2294.386, Time=0.33 sec\n",
      " ARIMA(0,1,0)(0,0,0)[0]             : AIC=-2230.366, Time=0.12 sec\n",
      " ARIMA(1,1,2)(0,0,0)[0] intercept   : AIC=-2303.154, Time=0.37 sec\n",
      " ARIMA(0,1,2)(0,0,0)[0] intercept   : AIC=-2304.985, Time=0.43 sec\n",
      " ARIMA(0,1,3)(0,0,0)[0] intercept   : AIC=-2303.240, Time=0.32 sec\n",
      " ARIMA(1,1,1)(0,0,0)[0] intercept   : AIC=-2304.859, Time=0.78 sec\n",
      " ARIMA(1,1,3)(0,0,0)[0] intercept   : AIC=-2301.262, Time=0.72 sec\n",
      " ARIMA(0,1,2)(0,0,0)[0]             : AIC=-2305.674, Time=0.38 sec\n",
      " ARIMA(0,1,1)(0,0,0)[0]             : AIC=-2295.392, Time=0.12 sec\n",
      " ARIMA(1,1,2)(0,0,0)[0]             : AIC=-2303.844, Time=0.43 sec\n",
      " ARIMA(0,1,3)(0,0,0)[0]             : AIC=-2303.878, Time=0.24 sec\n",
      " ARIMA(1,1,1)(0,0,0)[0]             : AIC=-2305.376, Time=0.37 sec\n",
      " ARIMA(1,1,3)(0,0,0)[0]             : AIC=-2301.895, Time=0.77 sec\n",
      "\n",
      "Best model:  ARIMA(0,1,2)(0,0,0)[0]          \n",
      "Total fit time: 7.011 seconds\n"
     ]
    },
    {
     "data": {
      "text/html": [
       "<style>#sk-container-id-3 {color: black;background-color: white;}#sk-container-id-3 pre{padding: 0;}#sk-container-id-3 div.sk-toggleable {background-color: white;}#sk-container-id-3 label.sk-toggleable__label {cursor: pointer;display: block;width: 100%;margin-bottom: 0;padding: 0.3em;box-sizing: border-box;text-align: center;}#sk-container-id-3 label.sk-toggleable__label-arrow:before {content: \"▸\";float: left;margin-right: 0.25em;color: #696969;}#sk-container-id-3 label.sk-toggleable__label-arrow:hover:before {color: black;}#sk-container-id-3 div.sk-estimator:hover label.sk-toggleable__label-arrow:before {color: black;}#sk-container-id-3 div.sk-toggleable__content {max-height: 0;max-width: 0;overflow: hidden;text-align: left;background-color: #f0f8ff;}#sk-container-id-3 div.sk-toggleable__content pre {margin: 0.2em;color: black;border-radius: 0.25em;background-color: #f0f8ff;}#sk-container-id-3 input.sk-toggleable__control:checked~div.sk-toggleable__content {max-height: 200px;max-width: 100%;overflow: auto;}#sk-container-id-3 input.sk-toggleable__control:checked~label.sk-toggleable__label-arrow:before {content: \"▾\";}#sk-container-id-3 div.sk-estimator input.sk-toggleable__control:checked~label.sk-toggleable__label {background-color: #d4ebff;}#sk-container-id-3 div.sk-label input.sk-toggleable__control:checked~label.sk-toggleable__label {background-color: #d4ebff;}#sk-container-id-3 input.sk-hidden--visually {border: 0;clip: rect(1px 1px 1px 1px);clip: rect(1px, 1px, 1px, 1px);height: 1px;margin: -1px;overflow: hidden;padding: 0;position: absolute;width: 1px;}#sk-container-id-3 div.sk-estimator {font-family: monospace;background-color: #f0f8ff;border: 1px dotted black;border-radius: 0.25em;box-sizing: border-box;margin-bottom: 0.5em;}#sk-container-id-3 div.sk-estimator:hover {background-color: #d4ebff;}#sk-container-id-3 div.sk-parallel-item::after {content: \"\";width: 100%;border-bottom: 1px solid gray;flex-grow: 1;}#sk-container-id-3 div.sk-label:hover label.sk-toggleable__label {background-color: #d4ebff;}#sk-container-id-3 div.sk-serial::before {content: \"\";position: absolute;border-left: 1px solid gray;box-sizing: border-box;top: 0;bottom: 0;left: 50%;z-index: 0;}#sk-container-id-3 div.sk-serial {display: flex;flex-direction: column;align-items: center;background-color: white;padding-right: 0.2em;padding-left: 0.2em;position: relative;}#sk-container-id-3 div.sk-item {position: relative;z-index: 1;}#sk-container-id-3 div.sk-parallel {display: flex;align-items: stretch;justify-content: center;background-color: white;position: relative;}#sk-container-id-3 div.sk-item::before, #sk-container-id-3 div.sk-parallel-item::before {content: \"\";position: absolute;border-left: 1px solid gray;box-sizing: border-box;top: 0;bottom: 0;left: 50%;z-index: -1;}#sk-container-id-3 div.sk-parallel-item {display: flex;flex-direction: column;z-index: 1;position: relative;background-color: white;}#sk-container-id-3 div.sk-parallel-item:first-child::after {align-self: flex-end;width: 50%;}#sk-container-id-3 div.sk-parallel-item:last-child::after {align-self: flex-start;width: 50%;}#sk-container-id-3 div.sk-parallel-item:only-child::after {width: 0;}#sk-container-id-3 div.sk-dashed-wrapped {border: 1px dashed gray;margin: 0 0.4em 0.5em 0.4em;box-sizing: border-box;padding-bottom: 0.4em;background-color: white;}#sk-container-id-3 div.sk-label label {font-family: monospace;font-weight: bold;display: inline-block;line-height: 1.2em;}#sk-container-id-3 div.sk-label-container {text-align: center;}#sk-container-id-3 div.sk-container {/* jupyter's `normalize.less` sets `[hidden] { display: none; }` but bootstrap.min.css set `[hidden] { display: none !important; }` so we also need the `!important` here to be able to override the default hidden behavior on the sphinx rendered scikit-learn.org. See: https://github.com/scikit-learn/scikit-learn/issues/21755 */display: inline-block !important;position: relative;}#sk-container-id-3 div.sk-text-repr-fallback {display: none;}</style><div id=\"sk-container-id-3\" class=\"sk-top-container\"><div class=\"sk-text-repr-fallback\"><pre> ARIMA(0,1,2)(0,0,0)[0]          </pre><b>In a Jupyter environment, please rerun this cell to show the HTML representation or trust the notebook. <br />On GitHub, the HTML representation is unable to render, please try loading this page with nbviewer.org.</b></div><div class=\"sk-container\" hidden><div class=\"sk-item\"><div class=\"sk-estimator sk-toggleable\"><input class=\"sk-toggleable__control sk-hidden--visually\" id=\"sk-estimator-id-3\" type=\"checkbox\" checked><label for=\"sk-estimator-id-3\" class=\"sk-toggleable__label sk-toggleable__label-arrow\">ARIMA</label><div class=\"sk-toggleable__content\"><pre> ARIMA(0,1,2)(0,0,0)[0]          </pre></div></div></div></div></div>"
      ],
      "text/plain": [
       "ARIMA(order=(0, 1, 2), scoring_args={}, suppress_warnings=True,\n",
       "      with_intercept=False)"
      ]
     },
     "execution_count": 31,
     "metadata": {},
     "output_type": "execute_result"
    }
   ],
   "source": [
    "# Training model\n",
    "x_train = np.array(train_data.index).reshape(-1, 1)\n",
    "y_train = np.array(train_data['Price'])\n",
    "\n",
    "# Tìm mô hình ARIMA tối ưu nhất\n",
    "model = auto_arima(y_train, trace=True, error_action='ignore', suppress_warnings=True)\n",
    "model.fit(y_train)"
   ]
  },
  {
   "cell_type": "code",
   "execution_count": 32,
   "id": "b9cc42af-d165-4f2d-9c68-4ab9e5b8a779",
   "metadata": {},
   "outputs": [],
   "source": [
    "# Testing model \n",
    "x_test = np.array(test_data.index).reshape(-1, 1)\n",
    "y_test = np.array(test_data['Price'])\n",
    "y_pred = model.predict(n_periods=len(y_test))"
   ]
  },
  {
   "cell_type": "code",
   "execution_count": 33,
   "id": "c96936e1-ce65-4cbd-8cb2-c1090e7a0b8d",
   "metadata": {},
   "outputs": [
    {
     "name": "stdout",
     "output_type": "stream",
     "text": [
      "Predict closing prices for the next 30 days:\n",
      "[1.22822927 1.22936476 1.22936476 1.22936476 1.22936476 1.22936476\n",
      " 1.22936476 1.22936476 1.22936476 1.22936476 1.22936476 1.22936476\n",
      " 1.22936476 1.22936476 1.22936476 1.22936476 1.22936476 1.22936476\n",
      " 1.22936476 1.22936476 1.22936476 1.22936476 1.22936476 1.22936476\n",
      " 1.22936476 1.22936476 1.22936476 1.22936476 1.22936476 1.22936476]\n"
     ]
    }
   ],
   "source": [
    "# Dự đoán 30 ngày tiếp theo\n",
    "last_index =  df.index[-1]\n",
    "last_data = pd.RangeIndex(start=last_index, stop=last_index+30, step=1)\n",
    "\n",
    "x_next_30_days = np.array(range(last_index+1, last_index+31)).reshape(-1, 1)\n",
    "y_next_30_days = model.predict(n_periods=len(x_next_30_days))\n",
    "\n",
    "print('Predict closing prices for the next 30 days:')\n",
    "print(y_next_30_days)"
   ]
  },
  {
   "cell_type": "code",
   "execution_count": 34,
   "id": "1905989c-8c91-41e1-9bd4-909a9bda5a41",
   "metadata": {},
   "outputs": [
    {
     "name": "stdout",
     "output_type": "stream",
     "text": [
      "- Calculate Error Values -\n",
      "MAE:  0.21193025484653139\n",
      "MAPE:  15.74001455464006\n",
      "RMSE:  0.23301793399593893\n"
     ]
    },
    {
     "data": {
      "image/png": "[encoded data removed]",
      "text/plain": [
       "<Figure size 640x480 with 1 Axes>"
      ]
     },
     "metadata": {},
     "output_type": "display_data"
    }
   ],
   "source": [
    "# Đánh giá mô hình dựa trên các đánh giá sai số và vẽ đồ thị đường\n",
    "evaluate(y_test, y_pred)\n",
    "\n",
    "plt.plot(train_data.index, train_data['Price'])\n",
    "plt.plot(test_data.index, test_data['Price'])\n",
    "plt.plot(test_data.index, y_pred)\n",
    "plt.plot(last_data,y_next_30_days)\n",
    "plt.legend(['Train', 'Test', 'Predictions','Next30Day'])\n",
    "plt.show()"
   ]
  },
  {
   "cell_type": "markdown",
   "id": "58223245",
   "metadata": {},
   "source": [
    "# Heating Oil - 7:3"
   ]
  },
  {
   "cell_type": "code",
   "execution_count": 35,
   "id": "0a0d5805",
   "metadata": {},
   "outputs": [],
   "source": [
    "# Đọc file dữ liệu, loại bỏ những dòng bị thiếu và chuẩn hóa dữ liệu\n",
    "df= pd.read_csv('Heating Oil Futures Historical Data.csv')\n",
    "df = df.dropna() # Drop missing values"
   ]
  },
  {
   "cell_type": "code",
   "execution_count": 36,
   "id": "b5b2436c",
   "metadata": {},
   "outputs": [
    {
     "data": {
      "text/html": [
       "<div>\n",
       "<style scoped>\n",
       "    .dataframe tbody tr th:only-of-type {\n",
       "        vertical-align: middle;\n",
       "    }\n",
       "\n",
       "    .dataframe tbody tr th {\n",
       "        vertical-align: top;\n",
       "    }\n",
       "\n",
       "    .dataframe thead th {\n",
       "        text-align: right;\n",
       "    }\n",
       "</style>\n",
       "<table border=\"1\" class=\"dataframe\">\n",
       "  <thead>\n",
       "    <tr style=\"text-align: right;\">\n",
       "      <th></th>\n",
       "      <th>Date</th>\n",
       "      <th>Price</th>\n",
       "      <th>Open</th>\n",
       "      <th>High</th>\n",
       "      <th>Low</th>\n",
       "      <th>Vol.</th>\n",
       "      <th>Change %</th>\n",
       "    </tr>\n",
       "  </thead>\n",
       "  <tbody>\n",
       "    <tr>\n",
       "      <th>0</th>\n",
       "      <td>27-03-2024</td>\n",
       "      <td>2.5986</td>\n",
       "      <td>2.6109</td>\n",
       "      <td>2.6172</td>\n",
       "      <td>2.5884</td>\n",
       "      <td>20970</td>\n",
       "      <td>-0.88</td>\n",
       "    </tr>\n",
       "    <tr>\n",
       "      <th>1</th>\n",
       "      <td>26-03-2024</td>\n",
       "      <td>2.6218</td>\n",
       "      <td>2.6845</td>\n",
       "      <td>2.6870</td>\n",
       "      <td>2.6097</td>\n",
       "      <td>24090</td>\n",
       "      <td>-2.12</td>\n",
       "    </tr>\n",
       "    <tr>\n",
       "      <th>2</th>\n",
       "      <td>25-03-2024</td>\n",
       "      <td>2.6786</td>\n",
       "      <td>2.6644</td>\n",
       "      <td>2.7062</td>\n",
       "      <td>2.6533</td>\n",
       "      <td>29060</td>\n",
       "      <td>0.95</td>\n",
       "    </tr>\n",
       "    <tr>\n",
       "      <th>3</th>\n",
       "      <td>22-03-2024</td>\n",
       "      <td>2.6534</td>\n",
       "      <td>2.6630</td>\n",
       "      <td>2.6904</td>\n",
       "      <td>2.6471</td>\n",
       "      <td>27590</td>\n",
       "      <td>-0.58</td>\n",
       "    </tr>\n",
       "    <tr>\n",
       "      <th>4</th>\n",
       "      <td>21-03-2024</td>\n",
       "      <td>2.6688</td>\n",
       "      <td>2.6932</td>\n",
       "      <td>2.7026</td>\n",
       "      <td>2.6360</td>\n",
       "      <td>24850</td>\n",
       "      <td>-1.00</td>\n",
       "    </tr>\n",
       "    <tr>\n",
       "      <th>...</th>\n",
       "      <td>...</td>\n",
       "      <td>...</td>\n",
       "      <td>...</td>\n",
       "      <td>...</td>\n",
       "      <td>...</td>\n",
       "      <td>...</td>\n",
       "      <td>...</td>\n",
       "    </tr>\n",
       "    <tr>\n",
       "      <th>1377</th>\n",
       "      <td>08-01-2019</td>\n",
       "      <td>1.8270</td>\n",
       "      <td>1.7810</td>\n",
       "      <td>1.8296</td>\n",
       "      <td>1.7757</td>\n",
       "      <td>57590</td>\n",
       "      <td>2.73</td>\n",
       "    </tr>\n",
       "    <tr>\n",
       "      <th>1378</th>\n",
       "      <td>07-01-2019</td>\n",
       "      <td>1.7784</td>\n",
       "      <td>1.7809</td>\n",
       "      <td>1.8245</td>\n",
       "      <td>1.7764</td>\n",
       "      <td>57180</td>\n",
       "      <td>0.52</td>\n",
       "    </tr>\n",
       "    <tr>\n",
       "      <th>1379</th>\n",
       "      <td>04-01-2019</td>\n",
       "      <td>1.7692</td>\n",
       "      <td>1.7300</td>\n",
       "      <td>1.8035</td>\n",
       "      <td>1.7236</td>\n",
       "      <td>61140</td>\n",
       "      <td>1.56</td>\n",
       "    </tr>\n",
       "    <tr>\n",
       "      <th>1380</th>\n",
       "      <td>03-01-2019</td>\n",
       "      <td>1.7420</td>\n",
       "      <td>1.7008</td>\n",
       "      <td>1.7466</td>\n",
       "      <td>1.6801</td>\n",
       "      <td>56550</td>\n",
       "      <td>2.43</td>\n",
       "    </tr>\n",
       "    <tr>\n",
       "      <th>1381</th>\n",
       "      <td>02-01-2019</td>\n",
       "      <td>1.7006</td>\n",
       "      <td>1.6895</td>\n",
       "      <td>1.7489</td>\n",
       "      <td>1.6424</td>\n",
       "      <td>65510</td>\n",
       "      <td>0.89</td>\n",
       "    </tr>\n",
       "  </tbody>\n",
       "</table>\n",
       "<p>1319 rows × 7 columns</p>\n",
       "</div>"
      ],
      "text/plain": [
       "            Date   Price    Open    High     Low   Vol.  Change %\n",
       "0     27-03-2024  2.5986  2.6109  2.6172  2.5884  20970     -0.88\n",
       "1     26-03-2024  2.6218  2.6845  2.6870  2.6097  24090     -2.12\n",
       "2     25-03-2024  2.6786  2.6644  2.7062  2.6533  29060      0.95\n",
       "3     22-03-2024  2.6534  2.6630  2.6904  2.6471  27590     -0.58\n",
       "4     21-03-2024  2.6688  2.6932  2.7026  2.6360  24850     -1.00\n",
       "...          ...     ...     ...     ...     ...    ...       ...\n",
       "1377  08-01-2019  1.8270  1.7810  1.8296  1.7757  57590      2.73\n",
       "1378  07-01-2019  1.7784  1.7809  1.8245  1.7764  57180      0.52\n",
       "1379  04-01-2019  1.7692  1.7300  1.8035  1.7236  61140      1.56\n",
       "1380  03-01-2019  1.7420  1.7008  1.7466  1.6801  56550      2.43\n",
       "1381  02-01-2019  1.7006  1.6895  1.7489  1.6424  65510      0.89\n",
       "\n",
       "[1319 rows x 7 columns]"
      ]
     },
     "execution_count": 36,
     "metadata": {},
     "output_type": "execute_result"
    }
   ],
   "source": [
    "def convert_volume_to_number(volume_str):\n",
    "    if isinstance(volume_str, float):\n",
    "        return volume_str\n",
    "    if volume_str[-1] == 'K':\n",
    "        return int(float(volume_str[:-1]) * 1000)\n",
    "    elif volume_str[-1] == 'M':\n",
    "        return int(float(volume_str[:-1]) * 1000000)\n",
    "    elif volume_str[-1] == 'B':\n",
    "        return int(float(volume_str[:-1]) * 1000000000)\n",
    "    else:\n",
    "        return volume_str\n",
    "\n",
    "\n",
    "def convert_change_to_number(change_str):\n",
    "    new_change = float(change_str.strip('%'))\n",
    "    return new_change\n",
    "\n",
    "def convert_str_to_number(str):\n",
    "    return float(str.replace(',', ''))\n",
    "\n",
    "df['Vol.'] = df['Vol.'] .apply(convert_volume_to_number)\n",
    "df['Change %'] = df['Change %'].apply(convert_change_to_number)\n",
    "df['Date'] = pd.to_datetime(df['Date'])\n",
    "df[\"Date\"] = df[\"Date\"].dt.strftime('%d-%m-%Y')\n",
    "df"
   ]
  },
  {
   "cell_type": "code",
   "execution_count": 37,
   "id": "83e5a365",
   "metadata": {},
   "outputs": [
    {
     "name": "stdout",
     "output_type": "stream",
     "text": [
      "<class 'pandas.core.frame.DataFrame'>\n",
      "Index: 1319 entries, 0 to 1381\n",
      "Data columns (total 7 columns):\n",
      " #   Column    Non-Null Count  Dtype  \n",
      "---  ------    --------------  -----  \n",
      " 0   Date      1319 non-null   object \n",
      " 1   Price     1319 non-null   float64\n",
      " 2   Open      1319 non-null   float64\n",
      " 3   High      1319 non-null   float64\n",
      " 4   Low       1319 non-null   float64\n",
      " 5   Vol.      1319 non-null   int64  \n",
      " 6   Change %  1319 non-null   float64\n",
      "dtypes: float64(5), int64(1), object(1)\n",
      "memory usage: 82.4+ KB\n"
     ]
    }
   ],
   "source": [
    "df.info()"
   ]
  },
  {
   "cell_type": "code",
   "execution_count": 38,
   "id": "eba1f6aa-d07e-4529-99ed-8a040867b3d0",
   "metadata": {},
   "outputs": [],
   "source": [
    "# Chuyển đổi cột 'Price' thành mảng NumPy\n",
    "df = df[['Price']]\n",
    "df = df.dropna() # Drop missing values\n",
    "df = df.reset_index(drop=True) # Reset the index"
   ]
  },
  {
   "cell_type": "code",
   "execution_count": 39,
   "id": "8a011248-c2ac-4931-b268-af22f8319496",
   "metadata": {},
   "outputs": [],
   "source": [
    "# Tách dữ liệu train-test 7:3\n",
    "train_size = int(0.7 * len(df))\n",
    "test_size = len(df)-train_size\n",
    "train_data = df[:train_size]\n",
    "test_data = df[train_size:train_size+test_size]"
   ]
  },
  {
   "cell_type": "code",
   "execution_count": 40,
   "id": "a51842c0-4e8c-4b0d-b43e-789aaec6ed50",
   "metadata": {},
   "outputs": [],
   "source": [
    "# Tạo hàm đánh giá sai số cho dự đoán (sử dụng MAE, MAPE, RMSE)\n",
    "def evaluate(test,pred):\n",
    "  print('- Calculate Error Values -')\n",
    "  test_mae = mean_absolute_error(test, pred)\n",
    "  print('MAE: ', test_mae)\n",
    "\n",
    "  test_ape = np.abs((test - pred) / test)\n",
    "  test_mape = np.mean(test_ape) * 100\n",
    "  print('MAPE: ', test_mape)\n",
    "\n",
    "  test_mse = mean_squared_error(test, pred)\n",
    "  test_rmse = np.sqrt(test_mse)\n",
    "  print('RMSE: ', test_rmse)"
   ]
  },
  {
   "cell_type": "code",
   "execution_count": 41,
   "id": "c6384c6e-20de-4063-a358-5a209b9ceef5",
   "metadata": {},
   "outputs": [
    {
     "name": "stdout",
     "output_type": "stream",
     "text": [
      "Performing stepwise search to minimize aic\n",
      " ARIMA(2,1,2)(0,0,0)[0] intercept   : AIC=-1820.590, Time=1.33 sec\n",
      " ARIMA(0,1,0)(0,0,0)[0] intercept   : AIC=-1793.474, Time=0.14 sec\n",
      " ARIMA(1,1,0)(0,0,0)[0] intercept   : AIC=-1804.862, Time=0.14 sec\n",
      " ARIMA(0,1,1)(0,0,0)[0] intercept   : AIC=-1806.114, Time=0.22 sec\n",
      " ARIMA(0,1,0)(0,0,0)[0]             : AIC=-1795.238, Time=0.22 sec\n",
      " ARIMA(1,1,2)(0,0,0)[0] intercept   : AIC=-1806.658, Time=0.91 sec\n",
      " ARIMA(2,1,1)(0,0,0)[0] intercept   : AIC=-1818.599, Time=1.23 sec\n",
      " ARIMA(3,1,2)(0,0,0)[0] intercept   : AIC=-1817.318, Time=1.83 sec\n",
      " ARIMA(2,1,3)(0,0,0)[0] intercept   : AIC=-1824.172, Time=1.87 sec\n",
      " ARIMA(1,1,3)(0,0,0)[0] intercept   : AIC=-1820.488, Time=1.26 sec\n",
      " ARIMA(3,1,3)(0,0,0)[0] intercept   : AIC=-1829.052, Time=1.55 sec\n",
      " ARIMA(4,1,3)(0,0,0)[0] intercept   : AIC=-1827.540, Time=1.78 sec\n",
      " ARIMA(3,1,4)(0,0,0)[0] intercept   : AIC=-1824.246, Time=1.87 sec\n",
      " ARIMA(2,1,4)(0,0,0)[0] intercept   : AIC=-1825.292, Time=1.72 sec\n",
      " ARIMA(4,1,2)(0,0,0)[0] intercept   : AIC=-1811.023, Time=1.56 sec\n",
      " ARIMA(4,1,4)(0,0,0)[0] intercept   : AIC=-1827.447, Time=2.08 sec\n",
      " ARIMA(3,1,3)(0,0,0)[0]             : AIC=-1830.783, Time=1.09 sec\n",
      " ARIMA(2,1,3)(0,0,0)[0]             : AIC=-1825.620, Time=1.16 sec\n",
      " ARIMA(3,1,2)(0,0,0)[0]             : AIC=-1819.838, Time=1.28 sec\n",
      " ARIMA(4,1,3)(0,0,0)[0]             : AIC=-1829.402, Time=1.13 sec\n",
      " ARIMA(3,1,4)(0,0,0)[0]             : AIC=-1826.524, Time=1.12 sec\n",
      " ARIMA(2,1,2)(0,0,0)[0]             : AIC=-1822.397, Time=0.69 sec\n",
      " ARIMA(2,1,4)(0,0,0)[0]             : AIC=-1826.751, Time=1.02 sec\n",
      " ARIMA(4,1,2)(0,0,0)[0]             : AIC=-1813.174, Time=0.92 sec\n",
      " ARIMA(4,1,4)(0,0,0)[0]             : AIC=-1829.370, Time=1.17 sec\n",
      "\n",
      "Best model:  ARIMA(3,1,3)(0,0,0)[0]          \n",
      "Total fit time: 29.339 seconds\n"
     ]
    },
    {
     "data": {
      "text/html": [
       "<style>#sk-container-id-4 {color: black;background-color: white;}#sk-container-id-4 pre{padding: 0;}#sk-container-id-4 div.sk-toggleable {background-color: white;}#sk-container-id-4 label.sk-toggleable__label {cursor: pointer;display: block;width: 100%;margin-bottom: 0;padding: 0.3em;box-sizing: border-box;text-align: center;}#sk-container-id-4 label.sk-toggleable__label-arrow:before {content: \"▸\";float: left;margin-right: 0.25em;color: #696969;}#sk-container-id-4 label.sk-toggleable__label-arrow:hover:before {color: black;}#sk-container-id-4 div.sk-estimator:hover label.sk-toggleable__label-arrow:before {color: black;}#sk-container-id-4 div.sk-toggleable__content {max-height: 0;max-width: 0;overflow: hidden;text-align: left;background-color: #f0f8ff;}#sk-container-id-4 div.sk-toggleable__content pre {margin: 0.2em;color: black;border-radius: 0.25em;background-color: #f0f8ff;}#sk-container-id-4 input.sk-toggleable__control:checked~div.sk-toggleable__content {max-height: 200px;max-width: 100%;overflow: auto;}#sk-container-id-4 input.sk-toggleable__control:checked~label.sk-toggleable__label-arrow:before {content: \"▾\";}#sk-container-id-4 div.sk-estimator input.sk-toggleable__control:checked~label.sk-toggleable__label {background-color: #d4ebff;}#sk-container-id-4 div.sk-label input.sk-toggleable__control:checked~label.sk-toggleable__label {background-color: #d4ebff;}#sk-container-id-4 input.sk-hidden--visually {border: 0;clip: rect(1px 1px 1px 1px);clip: rect(1px, 1px, 1px, 1px);height: 1px;margin: -1px;overflow: hidden;padding: 0;position: absolute;width: 1px;}#sk-container-id-4 div.sk-estimator {font-family: monospace;background-color: #f0f8ff;border: 1px dotted black;border-radius: 0.25em;box-sizing: border-box;margin-bottom: 0.5em;}#sk-container-id-4 div.sk-estimator:hover {background-color: #d4ebff;}#sk-container-id-4 div.sk-parallel-item::after {content: \"\";width: 100%;border-bottom: 1px solid gray;flex-grow: 1;}#sk-container-id-4 div.sk-label:hover label.sk-toggleable__label {background-color: #d4ebff;}#sk-container-id-4 div.sk-serial::before {content: \"\";position: absolute;border-left: 1px solid gray;box-sizing: border-box;top: 0;bottom: 0;left: 50%;z-index: 0;}#sk-container-id-4 div.sk-serial {display: flex;flex-direction: column;align-items: center;background-color: white;padding-right: 0.2em;padding-left: 0.2em;position: relative;}#sk-container-id-4 div.sk-item {position: relative;z-index: 1;}#sk-container-id-4 div.sk-parallel {display: flex;align-items: stretch;justify-content: center;background-color: white;position: relative;}#sk-container-id-4 div.sk-item::before, #sk-container-id-4 div.sk-parallel-item::before {content: \"\";position: absolute;border-left: 1px solid gray;box-sizing: border-box;top: 0;bottom: 0;left: 50%;z-index: -1;}#sk-container-id-4 div.sk-parallel-item {display: flex;flex-direction: column;z-index: 1;position: relative;background-color: white;}#sk-container-id-4 div.sk-parallel-item:first-child::after {align-self: flex-end;width: 50%;}#sk-container-id-4 div.sk-parallel-item:last-child::after {align-self: flex-start;width: 50%;}#sk-container-id-4 div.sk-parallel-item:only-child::after {width: 0;}#sk-container-id-4 div.sk-dashed-wrapped {border: 1px dashed gray;margin: 0 0.4em 0.5em 0.4em;box-sizing: border-box;padding-bottom: 0.4em;background-color: white;}#sk-container-id-4 div.sk-label label {font-family: monospace;font-weight: bold;display: inline-block;line-height: 1.2em;}#sk-container-id-4 div.sk-label-container {text-align: center;}#sk-container-id-4 div.sk-container {/* jupyter's `normalize.less` sets `[hidden] { display: none; }` but bootstrap.min.css set `[hidden] { display: none !important; }` so we also need the `!important` here to be able to override the default hidden behavior on the sphinx rendered scikit-learn.org. See: https://github.com/scikit-learn/scikit-learn/issues/21755 */display: inline-block !important;position: relative;}#sk-container-id-4 div.sk-text-repr-fallback {display: none;}</style><div id=\"sk-container-id-4\" class=\"sk-top-container\"><div class=\"sk-text-repr-fallback\"><pre> ARIMA(3,1,3)(0,0,0)[0]          </pre><b>In a Jupyter environment, please rerun this cell to show the HTML representation or trust the notebook. <br />On GitHub, the HTML representation is unable to render, please try loading this page with nbviewer.org.</b></div><div class=\"sk-container\" hidden><div class=\"sk-item\"><div class=\"sk-estimator sk-toggleable\"><input class=\"sk-toggleable__control sk-hidden--visually\" id=\"sk-estimator-id-4\" type=\"checkbox\" checked><label for=\"sk-estimator-id-4\" class=\"sk-toggleable__label sk-toggleable__label-arrow\">ARIMA</label><div class=\"sk-toggleable__content\"><pre> ARIMA(3,1,3)(0,0,0)[0]          </pre></div></div></div></div></div>"
      ],
      "text/plain": [
       "ARIMA(order=(3, 1, 3), scoring_args={}, suppress_warnings=True,\n",
       "      with_intercept=False)"
      ]
     },
     "execution_count": 41,
     "metadata": {},
     "output_type": "execute_result"
    }
   ],
   "source": [
    "# Training model\n",
    "x_train = np.array(train_data.index).reshape(-1, 1)\n",
    "y_train = np.array(train_data['Price'])\n",
    "\n",
    "# Tìm mô hình ARIMA tối ưu nhất\n",
    "model = auto_arima(y_train, trace=True, error_action='ignore', suppress_warnings=True)\n",
    "model.fit(y_train)"
   ]
  },
  {
   "cell_type": "code",
   "execution_count": 42,
   "id": "400c381e-261c-4d9b-ba62-738e81a1a40a",
   "metadata": {},
   "outputs": [],
   "source": [
    "# Testing model \n",
    "x_test = np.array(test_data.index).reshape(-1, 1)\n",
    "y_test = np.array(test_data['Price'])\n",
    "y_pred = model.predict(n_periods=len(y_test))"
   ]
  },
  {
   "cell_type": "code",
   "execution_count": 43,
   "id": "24cb2898-d585-4b26-8484-14a50303e913",
   "metadata": {},
   "outputs": [
    {
     "name": "stdout",
     "output_type": "stream",
     "text": [
      "Predict closing prices for the next 30 days:\n",
      "[1.26165153 1.25780069 1.25364151 1.25569432 1.25231889 1.25227367\n",
      " 1.25162809 1.25054309 1.25044934 1.24980043 1.2494943  1.2492504\n",
      " 1.24894151 1.24878829 1.24860404 1.2484655  1.24836088 1.24825824\n",
      " 1.24818494 1.24811929 1.24806494 1.24802199 1.24798435 1.24795438\n",
      " 1.24792923 1.24790823 1.24789115 1.24787676 1.24786495 1.24785517]\n"
     ]
    }
   ],
   "source": [
    "# Dự đoán 30 ngày tiếp theo\n",
    "last_index =  df.index[-1]\n",
    "last_data = pd.RangeIndex(start=last_index, stop=last_index+30, step=1)\n",
    "\n",
    "x_next_30_days = np.array(range(last_index+1, last_index+31)).reshape(-1, 1)\n",
    "y_next_30_days = model.predict(n_periods=len(x_next_30_days))\n",
    "\n",
    "print('Predict closing prices for the next 30 days:')\n",
    "print(y_next_30_days)"
   ]
  },
  {
   "cell_type": "code",
   "execution_count": 44,
   "id": "e95aadb4-1053-456a-89c3-4d5216aa6971",
   "metadata": {},
   "outputs": [
    {
     "name": "stdout",
     "output_type": "stream",
     "text": [
      "- Calculate Error Values -\n",
      "MAE:  0.5445877665706712\n",
      "MAPE:  31.41870501907031\n",
      "RMSE:  0.5952657823062707\n"
     ]
    },
    {
     "data": {
      "image/png": "[encoded data removed]",
      "text/plain": [
       "<Figure size 640x480 with 1 Axes>"
      ]
     },
     "metadata": {},
     "output_type": "display_data"
    }
   ],
   "source": [
    "# Đánh giá mô hình dựa trên các đánh giá sai số và vẽ đồ thị đường\n",
    "evaluate(y_test, y_pred)\n",
    "\n",
    "plt.plot(train_data.index, train_data['Price'])\n",
    "plt.plot(test_data.index, test_data['Price'])\n",
    "plt.plot(test_data.index, y_pred)\n",
    "plt.plot(last_data,y_next_30_days)\n",
    "plt.legend(['Train', 'Test', 'Predictions','Next30Day'])\n",
    "plt.show()"
   ]
  },
  {
   "cell_type": "markdown",
   "id": "14bc7c72",
   "metadata": {},
   "source": [
    "# Train-Test 8:2"
   ]
  },
  {
   "cell_type": "markdown",
   "id": "be8cad66",
   "metadata": {},
   "source": [
    "# Crude Oil WTI - 8:2"
   ]
  },
  {
   "cell_type": "code",
   "execution_count": 45,
   "id": "cae34314",
   "metadata": {},
   "outputs": [],
   "source": [
    "# Đọc file dữ liệu và loại bỏ những dòng bị thiếu\n",
    "df= pd.read_csv('Crude Oil WTI Futures Historical Data.csv')\n",
    "df = df.dropna() # Drop missing values"
   ]
  },
  {
   "cell_type": "code",
   "execution_count": 46,
   "id": "f7013e7b-0a9c-4f6c-9a7a-53dc6a4f5eb2",
   "metadata": {},
   "outputs": [
    {
     "data": {
      "text/html": [
       "<div>\n",
       "<style scoped>\n",
       "    .dataframe tbody tr th:only-of-type {\n",
       "        vertical-align: middle;\n",
       "    }\n",
       "\n",
       "    .dataframe tbody tr th {\n",
       "        vertical-align: top;\n",
       "    }\n",
       "\n",
       "    .dataframe thead th {\n",
       "        text-align: right;\n",
       "    }\n",
       "</style>\n",
       "<table border=\"1\" class=\"dataframe\">\n",
       "  <thead>\n",
       "    <tr style=\"text-align: right;\">\n",
       "      <th></th>\n",
       "      <th>Date</th>\n",
       "      <th>Price</th>\n",
       "      <th>Open</th>\n",
       "      <th>High</th>\n",
       "      <th>Low</th>\n",
       "      <th>Vol.</th>\n",
       "      <th>Change %</th>\n",
       "    </tr>\n",
       "  </thead>\n",
       "  <tbody>\n",
       "    <tr>\n",
       "      <th>0</th>\n",
       "      <td>27-03-2024</td>\n",
       "      <td>81.35</td>\n",
       "      <td>81.29</td>\n",
       "      <td>81.74</td>\n",
       "      <td>80.55</td>\n",
       "      <td>249960</td>\n",
       "      <td>-0.33</td>\n",
       "    </tr>\n",
       "    <tr>\n",
       "      <th>1</th>\n",
       "      <td>26-03-2024</td>\n",
       "      <td>81.62</td>\n",
       "      <td>81.94</td>\n",
       "      <td>82.36</td>\n",
       "      <td>81.22</td>\n",
       "      <td>235850</td>\n",
       "      <td>-0.40</td>\n",
       "    </tr>\n",
       "    <tr>\n",
       "      <th>2</th>\n",
       "      <td>25-03-2024</td>\n",
       "      <td>81.95</td>\n",
       "      <td>80.85</td>\n",
       "      <td>82.48</td>\n",
       "      <td>80.59</td>\n",
       "      <td>300360</td>\n",
       "      <td>1.64</td>\n",
       "    </tr>\n",
       "    <tr>\n",
       "      <th>3</th>\n",
       "      <td>22-03-2024</td>\n",
       "      <td>80.63</td>\n",
       "      <td>80.84</td>\n",
       "      <td>81.45</td>\n",
       "      <td>80.42</td>\n",
       "      <td>231100</td>\n",
       "      <td>-0.54</td>\n",
       "    </tr>\n",
       "    <tr>\n",
       "      <th>4</th>\n",
       "      <td>21-03-2024</td>\n",
       "      <td>81.07</td>\n",
       "      <td>81.49</td>\n",
       "      <td>81.92</td>\n",
       "      <td>80.30</td>\n",
       "      <td>266860</td>\n",
       "      <td>-0.75</td>\n",
       "    </tr>\n",
       "    <tr>\n",
       "      <th>...</th>\n",
       "      <td>...</td>\n",
       "      <td>...</td>\n",
       "      <td>...</td>\n",
       "      <td>...</td>\n",
       "      <td>...</td>\n",
       "      <td>...</td>\n",
       "      <td>...</td>\n",
       "    </tr>\n",
       "    <tr>\n",
       "      <th>1379</th>\n",
       "      <td>08-01-2019</td>\n",
       "      <td>49.78</td>\n",
       "      <td>48.73</td>\n",
       "      <td>49.95</td>\n",
       "      <td>48.31</td>\n",
       "      <td>765980</td>\n",
       "      <td>2.60</td>\n",
       "    </tr>\n",
       "    <tr>\n",
       "      <th>1380</th>\n",
       "      <td>07-01-2019</td>\n",
       "      <td>48.52</td>\n",
       "      <td>48.30</td>\n",
       "      <td>49.79</td>\n",
       "      <td>48.11</td>\n",
       "      <td>819940</td>\n",
       "      <td>1.17</td>\n",
       "    </tr>\n",
       "    <tr>\n",
       "      <th>1381</th>\n",
       "      <td>04-01-2019</td>\n",
       "      <td>47.96</td>\n",
       "      <td>46.90</td>\n",
       "      <td>49.22</td>\n",
       "      <td>46.65</td>\n",
       "      <td>817280</td>\n",
       "      <td>1.85</td>\n",
       "    </tr>\n",
       "    <tr>\n",
       "      <th>1382</th>\n",
       "      <td>03-01-2019</td>\n",
       "      <td>47.09</td>\n",
       "      <td>46.26</td>\n",
       "      <td>47.49</td>\n",
       "      <td>45.35</td>\n",
       "      <td>788720</td>\n",
       "      <td>1.18</td>\n",
       "    </tr>\n",
       "    <tr>\n",
       "      <th>1383</th>\n",
       "      <td>02-01-2019</td>\n",
       "      <td>46.54</td>\n",
       "      <td>45.80</td>\n",
       "      <td>47.78</td>\n",
       "      <td>44.35</td>\n",
       "      <td>850480</td>\n",
       "      <td>1.42</td>\n",
       "    </tr>\n",
       "  </tbody>\n",
       "</table>\n",
       "<p>1296 rows × 7 columns</p>\n",
       "</div>"
      ],
      "text/plain": [
       "            Date  Price   Open   High    Low    Vol.  Change %\n",
       "0     27-03-2024  81.35  81.29  81.74  80.55  249960     -0.33\n",
       "1     26-03-2024  81.62  81.94  82.36  81.22  235850     -0.40\n",
       "2     25-03-2024  81.95  80.85  82.48  80.59  300360      1.64\n",
       "3     22-03-2024  80.63  80.84  81.45  80.42  231100     -0.54\n",
       "4     21-03-2024  81.07  81.49  81.92  80.30  266860     -0.75\n",
       "...          ...    ...    ...    ...    ...     ...       ...\n",
       "1379  08-01-2019  49.78  48.73  49.95  48.31  765980      2.60\n",
       "1380  07-01-2019  48.52  48.30  49.79  48.11  819940      1.17\n",
       "1381  04-01-2019  47.96  46.90  49.22  46.65  817280      1.85\n",
       "1382  03-01-2019  47.09  46.26  47.49  45.35  788720      1.18\n",
       "1383  02-01-2019  46.54  45.80  47.78  44.35  850480      1.42\n",
       "\n",
       "[1296 rows x 7 columns]"
      ]
     },
     "execution_count": 46,
     "metadata": {},
     "output_type": "execute_result"
    }
   ],
   "source": [
    "def convert_volume_to_number(volume_str):\n",
    "    if isinstance(volume_str, float):\n",
    "        return volume_str\n",
    "    if volume_str[-1] == 'K':\n",
    "        return int(float(volume_str[:-1]) * 1000)\n",
    "    elif volume_str[-1] == 'M':\n",
    "        return int(float(volume_str[:-1]) * 1000000)\n",
    "    elif volume_str[-1] == 'B':\n",
    "        return int(float(volume_str[:-1]) * 1000000000)\n",
    "    else:\n",
    "        return volume_str\n",
    "\n",
    "\n",
    "def convert_change_to_number(change_str):\n",
    "    new_change = float(change_str.strip('%'))\n",
    "    return new_change\n",
    "\n",
    "def convert_str_to_number(str):\n",
    "    return float(str.replace(',', ''))\n",
    "\n",
    "df['Vol.'] = df['Vol.'] .apply(convert_volume_to_number)\n",
    "df['Change %'] = df['Change %'].apply(convert_change_to_number)\n",
    "df['Date'] = pd.to_datetime(df['Date'])\n",
    "df[\"Date\"] = df[\"Date\"].dt.strftime('%d-%m-%Y')\n",
    "df"
   ]
  },
  {
   "cell_type": "code",
   "execution_count": 47,
   "id": "0ccd186f-1fc7-475f-baad-5990b1b32c90",
   "metadata": {},
   "outputs": [
    {
     "name": "stdout",
     "output_type": "stream",
     "text": [
      "<class 'pandas.core.frame.DataFrame'>\n",
      "Index: 1296 entries, 0 to 1383\n",
      "Data columns (total 7 columns):\n",
      " #   Column    Non-Null Count  Dtype  \n",
      "---  ------    --------------  -----  \n",
      " 0   Date      1296 non-null   object \n",
      " 1   Price     1296 non-null   float64\n",
      " 2   Open      1296 non-null   float64\n",
      " 3   High      1296 non-null   float64\n",
      " 4   Low       1296 non-null   float64\n",
      " 5   Vol.      1296 non-null   int64  \n",
      " 6   Change %  1296 non-null   float64\n",
      "dtypes: float64(5), int64(1), object(1)\n",
      "memory usage: 81.0+ KB\n"
     ]
    }
   ],
   "source": [
    "df.info()"
   ]
  },
  {
   "cell_type": "code",
   "execution_count": 48,
   "id": "77d836bd-df38-492b-9c4f-5473990a3ac3",
   "metadata": {},
   "outputs": [],
   "source": [
    "# Chuyển đổi cột 'Price' thành mảng NumPy\n",
    "df = df[['Price']]\n",
    "df = df.dropna() # Drop missing values\n",
    "df = df.reset_index(drop=True) # Reset the index"
   ]
  },
  {
   "cell_type": "code",
   "execution_count": 49,
   "id": "ded44aa4-43c7-40c3-816f-3831fbed225f",
   "metadata": {},
   "outputs": [],
   "source": [
    "# Tách dữ liệu train-test 8:2\n",
    "train_size = int(0.8 * len(df))\n",
    "test_size = len(df)-train_size\n",
    "train_data = df[:train_size]\n",
    "test_data = df[train_size:train_size+test_size]"
   ]
  },
  {
   "cell_type": "code",
   "execution_count": 50,
   "id": "ce915282-da7b-41ea-b50c-e54104a954bf",
   "metadata": {},
   "outputs": [],
   "source": [
    "# Tạo hàm đánh giá sai số cho dự đoán (sử dụng MAE, MAPE, RMSE)\n",
    "def evaluate(test,pred):\n",
    "  print('- Calculate Error Values -')\n",
    "  test_mae = mean_absolute_error(test, pred)\n",
    "  print('MAE: ', test_mae)\n",
    "\n",
    "  test_ape = np.abs((test - pred) / test)\n",
    "  test_mape = np.mean(test_ape) * 100\n",
    "  print('MAPE: ', test_mape)\n",
    "\n",
    "  test_mse = mean_squared_error(test, pred)\n",
    "  test_rmse = np.sqrt(test_mse)\n",
    "  print('RMSE: ', test_rmse)"
   ]
  },
  {
   "cell_type": "code",
   "execution_count": 51,
   "id": "adcbb4ca-e1c9-48a2-b0a1-9c6f05a3a8bf",
   "metadata": {},
   "outputs": [
    {
     "name": "stdout",
     "output_type": "stream",
     "text": [
      "Performing stepwise search to minimize aic\n",
      " ARIMA(2,1,2)(0,0,0)[0] intercept   : AIC=5166.405, Time=1.73 sec\n",
      " ARIMA(0,1,0)(0,0,0)[0] intercept   : AIC=5241.137, Time=0.05 sec\n",
      " ARIMA(1,1,0)(0,0,0)[0] intercept   : AIC=5179.268, Time=0.14 sec\n",
      " ARIMA(0,1,1)(0,0,0)[0] intercept   : AIC=5165.591, Time=0.14 sec\n",
      " ARIMA(0,1,0)(0,0,0)[0]             : AIC=5239.193, Time=0.03 sec\n",
      " ARIMA(1,1,1)(0,0,0)[0] intercept   : AIC=5162.847, Time=0.31 sec\n",
      " ARIMA(2,1,1)(0,0,0)[0] intercept   : AIC=5164.397, Time=0.31 sec\n",
      " ARIMA(1,1,2)(0,0,0)[0] intercept   : AIC=5164.339, Time=0.44 sec\n",
      " ARIMA(0,1,2)(0,0,0)[0] intercept   : AIC=5163.628, Time=0.24 sec\n",
      " ARIMA(2,1,0)(0,0,0)[0] intercept   : AIC=5169.161, Time=0.13 sec\n",
      " ARIMA(1,1,1)(0,0,0)[0]             : AIC=5161.000, Time=0.10 sec\n",
      " ARIMA(0,1,1)(0,0,0)[0]             : AIC=5163.715, Time=0.06 sec\n",
      " ARIMA(1,1,0)(0,0,0)[0]             : AIC=5177.362, Time=0.05 sec\n",
      " ARIMA(2,1,1)(0,0,0)[0]             : AIC=5162.562, Time=0.17 sec\n",
      " ARIMA(1,1,2)(0,0,0)[0]             : AIC=5162.507, Time=0.24 sec\n",
      " ARIMA(0,1,2)(0,0,0)[0]             : AIC=5161.771, Time=0.09 sec\n",
      " ARIMA(2,1,0)(0,0,0)[0]             : AIC=5167.277, Time=0.09 sec\n",
      " ARIMA(2,1,2)(0,0,0)[0]             : AIC=5164.563, Time=0.83 sec\n",
      "\n",
      "Best model:  ARIMA(1,1,1)(0,0,0)[0]          \n",
      "Total fit time: 5.184 seconds\n"
     ]
    },
    {
     "data": {
      "text/html": [
       "<style>#sk-container-id-5 {color: black;background-color: white;}#sk-container-id-5 pre{padding: 0;}#sk-container-id-5 div.sk-toggleable {background-color: white;}#sk-container-id-5 label.sk-toggleable__label {cursor: pointer;display: block;width: 100%;margin-bottom: 0;padding: 0.3em;box-sizing: border-box;text-align: center;}#sk-container-id-5 label.sk-toggleable__label-arrow:before {content: \"▸\";float: left;margin-right: 0.25em;color: #696969;}#sk-container-id-5 label.sk-toggleable__label-arrow:hover:before {color: black;}#sk-container-id-5 div.sk-estimator:hover label.sk-toggleable__label-arrow:before {color: black;}#sk-container-id-5 div.sk-toggleable__content {max-height: 0;max-width: 0;overflow: hidden;text-align: left;background-color: #f0f8ff;}#sk-container-id-5 div.sk-toggleable__content pre {margin: 0.2em;color: black;border-radius: 0.25em;background-color: #f0f8ff;}#sk-container-id-5 input.sk-toggleable__control:checked~div.sk-toggleable__content {max-height: 200px;max-width: 100%;overflow: auto;}#sk-container-id-5 input.sk-toggleable__control:checked~label.sk-toggleable__label-arrow:before {content: \"▾\";}#sk-container-id-5 div.sk-estimator input.sk-toggleable__control:checked~label.sk-toggleable__label {background-color: #d4ebff;}#sk-container-id-5 div.sk-label input.sk-toggleable__control:checked~label.sk-toggleable__label {background-color: #d4ebff;}#sk-container-id-5 input.sk-hidden--visually {border: 0;clip: rect(1px 1px 1px 1px);clip: rect(1px, 1px, 1px, 1px);height: 1px;margin: -1px;overflow: hidden;padding: 0;position: absolute;width: 1px;}#sk-container-id-5 div.sk-estimator {font-family: monospace;background-color: #f0f8ff;border: 1px dotted black;border-radius: 0.25em;box-sizing: border-box;margin-bottom: 0.5em;}#sk-container-id-5 div.sk-estimator:hover {background-color: #d4ebff;}#sk-container-id-5 div.sk-parallel-item::after {content: \"\";width: 100%;border-bottom: 1px solid gray;flex-grow: 1;}#sk-container-id-5 div.sk-label:hover label.sk-toggleable__label {background-color: #d4ebff;}#sk-container-id-5 div.sk-serial::before {content: \"\";position: absolute;border-left: 1px solid gray;box-sizing: border-box;top: 0;bottom: 0;left: 50%;z-index: 0;}#sk-container-id-5 div.sk-serial {display: flex;flex-direction: column;align-items: center;background-color: white;padding-right: 0.2em;padding-left: 0.2em;position: relative;}#sk-container-id-5 div.sk-item {position: relative;z-index: 1;}#sk-container-id-5 div.sk-parallel {display: flex;align-items: stretch;justify-content: center;background-color: white;position: relative;}#sk-container-id-5 div.sk-item::before, #sk-container-id-5 div.sk-parallel-item::before {content: \"\";position: absolute;border-left: 1px solid gray;box-sizing: border-box;top: 0;bottom: 0;left: 50%;z-index: -1;}#sk-container-id-5 div.sk-parallel-item {display: flex;flex-direction: column;z-index: 1;position: relative;background-color: white;}#sk-container-id-5 div.sk-parallel-item:first-child::after {align-self: flex-end;width: 50%;}#sk-container-id-5 div.sk-parallel-item:last-child::after {align-self: flex-start;width: 50%;}#sk-container-id-5 div.sk-parallel-item:only-child::after {width: 0;}#sk-container-id-5 div.sk-dashed-wrapped {border: 1px dashed gray;margin: 0 0.4em 0.5em 0.4em;box-sizing: border-box;padding-bottom: 0.4em;background-color: white;}#sk-container-id-5 div.sk-label label {font-family: monospace;font-weight: bold;display: inline-block;line-height: 1.2em;}#sk-container-id-5 div.sk-label-container {text-align: center;}#sk-container-id-5 div.sk-container {/* jupyter's `normalize.less` sets `[hidden] { display: none; }` but bootstrap.min.css set `[hidden] { display: none !important; }` so we also need the `!important` here to be able to override the default hidden behavior on the sphinx rendered scikit-learn.org. See: https://github.com/scikit-learn/scikit-learn/issues/21755 */display: inline-block !important;position: relative;}#sk-container-id-5 div.sk-text-repr-fallback {display: none;}</style><div id=\"sk-container-id-5\" class=\"sk-top-container\"><div class=\"sk-text-repr-fallback\"><pre> ARIMA(1,1,1)(0,0,0)[0]          </pre><b>In a Jupyter environment, please rerun this cell to show the HTML representation or trust the notebook. <br />On GitHub, the HTML representation is unable to render, please try loading this page with nbviewer.org.</b></div><div class=\"sk-container\" hidden><div class=\"sk-item\"><div class=\"sk-estimator sk-toggleable\"><input class=\"sk-toggleable__control sk-hidden--visually\" id=\"sk-estimator-id-5\" type=\"checkbox\" checked><label for=\"sk-estimator-id-5\" class=\"sk-toggleable__label sk-toggleable__label-arrow\">ARIMA</label><div class=\"sk-toggleable__content\"><pre> ARIMA(1,1,1)(0,0,0)[0]          </pre></div></div></div></div></div>"
      ],
      "text/plain": [
       "ARIMA(order=(1, 1, 1), scoring_args={}, suppress_warnings=True,\n",
       "      with_intercept=False)"
      ]
     },
     "execution_count": 51,
     "metadata": {},
     "output_type": "execute_result"
    }
   ],
   "source": [
    "# Training model\n",
    "x_train = np.array(train_data.index).reshape(-1, 1)\n",
    "y_train = np.array(train_data['Price'])\n",
    "\n",
    "# Tìm mô hình ARIMA tối ưu nhất\n",
    "model = auto_arima(y_train, trace=True, error_action='ignore', suppress_warnings=True)\n",
    "model.fit(y_train)"
   ]
  },
  {
   "cell_type": "code",
   "execution_count": 52,
   "id": "002a992e-c5d6-4e0b-ac1c-0f448d2bece1",
   "metadata": {},
   "outputs": [],
   "source": [
    "# Testing model \n",
    "x_test = np.array(test_data.index).reshape(-1, 1)\n",
    "y_test = np.array(test_data['Price'])\n",
    "y_pred = model.predict(n_periods=len(y_test))"
   ]
  },
  {
   "cell_type": "code",
   "execution_count": 53,
   "id": "151762fa-e1fa-4548-9866-247ab2bb91f7",
   "metadata": {},
   "outputs": [
    {
     "name": "stdout",
     "output_type": "stream",
     "text": [
      "Predict closing prices for the next 30 days:\n",
      "[58.15502925 58.13732122 58.1331386  58.13215067 58.13191733 58.13186221\n",
      " 58.13184919 58.13184612 58.13184539 58.13184522 58.13184518 58.13184517\n",
      " 58.13184516 58.13184516 58.13184516 58.13184516 58.13184516 58.13184516\n",
      " 58.13184516 58.13184516 58.13184516 58.13184516 58.13184516 58.13184516\n",
      " 58.13184516 58.13184516 58.13184516 58.13184516 58.13184516 58.13184516]\n"
     ]
    }
   ],
   "source": [
    "# Dự đoán 30 ngày tiếp theo\n",
    "last_index =  df.index[-1]\n",
    "last_data = pd.RangeIndex(start=last_index, stop=last_index+30, step=1)\n",
    "\n",
    "x_next_30_days = np.array(range(last_index+1, last_index+31)).reshape(-1, 1)\n",
    "y_next_30_days = model.predict(n_periods=len(x_next_30_days))\n",
    "\n",
    "print('Predict closing prices for the next 30 days:')\n",
    "print(y_next_30_days)"
   ]
  },
  {
   "cell_type": "code",
   "execution_count": 54,
   "id": "36129f9a-5019-4031-bcf0-d391e5e38fc5",
   "metadata": {},
   "outputs": [
    {
     "name": "stdout",
     "output_type": "stream",
     "text": [
      "- Calculate Error Values -\n",
      "MAE:  3.1397021413193045\n",
      "MAPE:  5.595256609740273\n",
      "RMSE:  3.820444666625679\n"
     ]
    },
    {
     "data": {
      "image/png": "[encoded data removed]",
      "text/plain": [
       "<Figure size 640x480 with 1 Axes>"
      ]
     },
     "metadata": {},
     "output_type": "display_data"
    }
   ],
   "source": [
    "# Đánh giá mô hình dựa trên các đánh giá sai số và vẽ đồ thị đường\n",
    "evaluate(y_test, y_pred)\n",
    "\n",
    "plt.plot(train_data.index, train_data['Price'])\n",
    "plt.plot(test_data.index, test_data['Price'])\n",
    "plt.plot(test_data.index, y_pred)\n",
    "plt.plot(last_data,y_next_30_days)\n",
    "plt.legend(['Train', 'Test', 'Predictions','Next30Day'])\n",
    "plt.show()"
   ]
  },
  {
   "cell_type": "markdown",
   "id": "80231f50",
   "metadata": {},
   "source": [
    "# Gasoline RBOB - 8:2"
   ]
  },
  {
   "cell_type": "code",
   "execution_count": 55,
   "id": "146eaad1",
   "metadata": {},
   "outputs": [],
   "source": [
    "# Đọc file dữ liệu, loại bỏ những dòng bị thiếu và chuẩn hóa dữ liệu\n",
    "df= pd.read_csv('Gasoline RBOB Futures Historical Data.csv')\n",
    "df = df.dropna() # Drop missing values"
   ]
  },
  {
   "cell_type": "code",
   "execution_count": 56,
   "id": "546a7a5b-e6fc-4ed3-8456-1e3389020d4d",
   "metadata": {},
   "outputs": [
    {
     "data": {
      "text/html": [
       "<div>\n",
       "<style scoped>\n",
       "    .dataframe tbody tr th:only-of-type {\n",
       "        vertical-align: middle;\n",
       "    }\n",
       "\n",
       "    .dataframe tbody tr th {\n",
       "        vertical-align: top;\n",
       "    }\n",
       "\n",
       "    .dataframe thead th {\n",
       "        text-align: right;\n",
       "    }\n",
       "</style>\n",
       "<table border=\"1\" class=\"dataframe\">\n",
       "  <thead>\n",
       "    <tr style=\"text-align: right;\">\n",
       "      <th></th>\n",
       "      <th>Date</th>\n",
       "      <th>Price</th>\n",
       "      <th>Open</th>\n",
       "      <th>High</th>\n",
       "      <th>Low</th>\n",
       "      <th>Vol.</th>\n",
       "      <th>Change %</th>\n",
       "    </tr>\n",
       "  </thead>\n",
       "  <tbody>\n",
       "    <tr>\n",
       "      <th>0</th>\n",
       "      <td>27-03-2024</td>\n",
       "      <td>2.6847</td>\n",
       "      <td>2.6878</td>\n",
       "      <td>2.6976</td>\n",
       "      <td>2.6877</td>\n",
       "      <td>150</td>\n",
       "      <td>-0.59</td>\n",
       "    </tr>\n",
       "    <tr>\n",
       "      <th>1</th>\n",
       "      <td>26-03-2024</td>\n",
       "      <td>2.7006</td>\n",
       "      <td>2.7489</td>\n",
       "      <td>2.7500</td>\n",
       "      <td>2.6980</td>\n",
       "      <td>390</td>\n",
       "      <td>-1.74</td>\n",
       "    </tr>\n",
       "    <tr>\n",
       "      <th>2</th>\n",
       "      <td>25-03-2024</td>\n",
       "      <td>2.7484</td>\n",
       "      <td>2.7370</td>\n",
       "      <td>2.7603</td>\n",
       "      <td>2.7310</td>\n",
       "      <td>620</td>\n",
       "      <td>1.11</td>\n",
       "    </tr>\n",
       "    <tr>\n",
       "      <th>4</th>\n",
       "      <td>22-03-2024</td>\n",
       "      <td>2.7398</td>\n",
       "      <td>2.7090</td>\n",
       "      <td>2.7456</td>\n",
       "      <td>2.7090</td>\n",
       "      <td>610</td>\n",
       "      <td>0.47</td>\n",
       "    </tr>\n",
       "    <tr>\n",
       "      <th>5</th>\n",
       "      <td>21-03-2024</td>\n",
       "      <td>2.7271</td>\n",
       "      <td>2.7370</td>\n",
       "      <td>2.7376</td>\n",
       "      <td>2.7119</td>\n",
       "      <td>150</td>\n",
       "      <td>-0.22</td>\n",
       "    </tr>\n",
       "    <tr>\n",
       "      <th>...</th>\n",
       "      <td>...</td>\n",
       "      <td>...</td>\n",
       "      <td>...</td>\n",
       "      <td>...</td>\n",
       "      <td>...</td>\n",
       "      <td>...</td>\n",
       "      <td>...</td>\n",
       "    </tr>\n",
       "    <tr>\n",
       "      <th>1616</th>\n",
       "      <td>08-01-2019</td>\n",
       "      <td>1.4740</td>\n",
       "      <td>1.3466</td>\n",
       "      <td>1.3722</td>\n",
       "      <td>1.3385</td>\n",
       "      <td>74920</td>\n",
       "      <td>1.62</td>\n",
       "    </tr>\n",
       "    <tr>\n",
       "      <th>1617</th>\n",
       "      <td>07-01-2019</td>\n",
       "      <td>1.4505</td>\n",
       "      <td>1.3560</td>\n",
       "      <td>1.3945</td>\n",
       "      <td>1.3389</td>\n",
       "      <td>79090</td>\n",
       "      <td>5.95</td>\n",
       "    </tr>\n",
       "    <tr>\n",
       "      <th>1619</th>\n",
       "      <td>04-01-2019</td>\n",
       "      <td>1.4515</td>\n",
       "      <td>1.3364</td>\n",
       "      <td>1.3981</td>\n",
       "      <td>1.3293</td>\n",
       "      <td>66360</td>\n",
       "      <td>0.96</td>\n",
       "    </tr>\n",
       "    <tr>\n",
       "      <th>1620</th>\n",
       "      <td>03-01-2019</td>\n",
       "      <td>1.4377</td>\n",
       "      <td>1.3160</td>\n",
       "      <td>1.3676</td>\n",
       "      <td>1.3016</td>\n",
       "      <td>57750</td>\n",
       "      <td>1.60</td>\n",
       "    </tr>\n",
       "    <tr>\n",
       "      <th>1621</th>\n",
       "      <td>02-01-2019</td>\n",
       "      <td>1.4150</td>\n",
       "      <td>1.3136</td>\n",
       "      <td>1.3790</td>\n",
       "      <td>1.2685</td>\n",
       "      <td>87520</td>\n",
       "      <td>7.81</td>\n",
       "    </tr>\n",
       "  </tbody>\n",
       "</table>\n",
       "<p>1330 rows × 7 columns</p>\n",
       "</div>"
      ],
      "text/plain": [
       "            Date   Price    Open    High     Low   Vol.  Change %\n",
       "0     27-03-2024  2.6847  2.6878  2.6976  2.6877    150     -0.59\n",
       "1     26-03-2024  2.7006  2.7489  2.7500  2.6980    390     -1.74\n",
       "2     25-03-2024  2.7484  2.7370  2.7603  2.7310    620      1.11\n",
       "4     22-03-2024  2.7398  2.7090  2.7456  2.7090    610      0.47\n",
       "5     21-03-2024  2.7271  2.7370  2.7376  2.7119    150     -0.22\n",
       "...          ...     ...     ...     ...     ...    ...       ...\n",
       "1616  08-01-2019  1.4740  1.3466  1.3722  1.3385  74920      1.62\n",
       "1617  07-01-2019  1.4505  1.3560  1.3945  1.3389  79090      5.95\n",
       "1619  04-01-2019  1.4515  1.3364  1.3981  1.3293  66360      0.96\n",
       "1620  03-01-2019  1.4377  1.3160  1.3676  1.3016  57750      1.60\n",
       "1621  02-01-2019  1.4150  1.3136  1.3790  1.2685  87520      7.81\n",
       "\n",
       "[1330 rows x 7 columns]"
      ]
     },
     "execution_count": 56,
     "metadata": {},
     "output_type": "execute_result"
    }
   ],
   "source": [
    "def convert_volume_to_number(volume_str):\n",
    "    if isinstance(volume_str, float):\n",
    "        return volume_str\n",
    "    if volume_str[-1] == 'K':\n",
    "        return int(float(volume_str[:-1]) * 1000)\n",
    "    elif volume_str[-1] == 'M':\n",
    "        return int(float(volume_str[:-1]) * 1000000)\n",
    "    elif volume_str[-1] == 'B':\n",
    "        return int(float(volume_str[:-1]) * 1000000000)\n",
    "    else:\n",
    "        return volume_str\n",
    "\n",
    "\n",
    "def convert_change_to_number(change_str):\n",
    "    new_change = float(change_str.strip('%'))\n",
    "    return new_change\n",
    "\n",
    "def convert_str_to_number(str):\n",
    "    return float(str.replace(',', ''))\n",
    "\n",
    "df['Vol.'] = df['Vol.'] .apply(convert_volume_to_number)\n",
    "df['Change %'] = df['Change %'].apply(convert_change_to_number)\n",
    "df['Date'] = pd.to_datetime(df['Date'])\n",
    "df[\"Date\"] = df[\"Date\"].dt.strftime('%d-%m-%Y')\n",
    "df"
   ]
  },
  {
   "cell_type": "code",
   "execution_count": 57,
   "id": "0e66ec91-a731-4a44-82f4-fb795c42e1f8",
   "metadata": {},
   "outputs": [
    {
     "name": "stdout",
     "output_type": "stream",
     "text": [
      "<class 'pandas.core.frame.DataFrame'>\n",
      "Index: 1330 entries, 0 to 1621\n",
      "Data columns (total 7 columns):\n",
      " #   Column    Non-Null Count  Dtype  \n",
      "---  ------    --------------  -----  \n",
      " 0   Date      1330 non-null   object \n",
      " 1   Price     1330 non-null   float64\n",
      " 2   Open      1330 non-null   float64\n",
      " 3   High      1330 non-null   float64\n",
      " 4   Low       1330 non-null   float64\n",
      " 5   Vol.      1330 non-null   int64  \n",
      " 6   Change %  1330 non-null   float64\n",
      "dtypes: float64(5), int64(1), object(1)\n",
      "memory usage: 83.1+ KB\n"
     ]
    }
   ],
   "source": [
    "df.info()"
   ]
  },
  {
   "cell_type": "code",
   "execution_count": 58,
   "id": "2bfab6b9-eec2-48b6-b348-7f22006590e8",
   "metadata": {},
   "outputs": [],
   "source": [
    "# Chuyển đổi cột 'Price' thành mảng NumPy\n",
    "df = df[['Price']]\n",
    "df = df.dropna() # Drop missing values\n",
    "df = df.reset_index(drop=True) # Reset the index"
   ]
  },
  {
   "cell_type": "code",
   "execution_count": 59,
   "id": "9607c804-9800-44ab-8126-6f9a263c547a",
   "metadata": {},
   "outputs": [],
   "source": [
    "# Tách dữ liệu train-test 8:2\n",
    "train_size = int(0.8 * len(df))\n",
    "test_size = len(df)-train_size\n",
    "train_data = df[:train_size]\n",
    "test_data = df[train_size:train_size+test_size]"
   ]
  },
  {
   "cell_type": "code",
   "execution_count": 60,
   "id": "25475edc-b71b-43fb-b273-661b3e4671b5",
   "metadata": {},
   "outputs": [],
   "source": [
    "# Tạo hàm đánh giá sai số cho dự đoán (sử dụng MAE, MAPE, RMSE)\n",
    "def evaluate(test,pred):\n",
    "  print('- Calculate Error Values -')\n",
    "  test_mae = mean_absolute_error(test, pred)\n",
    "  print('MAE: ', test_mae)\n",
    "\n",
    "  test_ape = np.abs((test - pred) / test)\n",
    "  test_mape = np.mean(test_ape) * 100\n",
    "  print('MAPE: ', test_mape)\n",
    "\n",
    "  test_mse = mean_squared_error(test, pred)\n",
    "  test_rmse = np.sqrt(test_mse)\n",
    "  print('RMSE: ', test_rmse)"
   ]
  },
  {
   "cell_type": "code",
   "execution_count": 61,
   "id": "da511fc7-38fd-4526-bc63-81358d6eaa2d",
   "metadata": {},
   "outputs": [
    {
     "name": "stdout",
     "output_type": "stream",
     "text": [
      "Performing stepwise search to minimize aic\n",
      " ARIMA(2,1,2)(0,0,0)[0] intercept   : AIC=-2743.103, Time=1.44 sec\n",
      " ARIMA(0,1,0)(0,0,0)[0] intercept   : AIC=-2666.629, Time=0.16 sec\n",
      " ARIMA(1,1,0)(0,0,0)[0] intercept   : AIC=-2717.194, Time=0.12 sec\n",
      " ARIMA(0,1,1)(0,0,0)[0] intercept   : AIC=-2736.909, Time=0.27 sec\n",
      " ARIMA(0,1,0)(0,0,0)[0]             : AIC=-2668.283, Time=0.09 sec\n",
      " ARIMA(1,1,2)(0,0,0)[0] intercept   : AIC=-2744.875, Time=0.39 sec\n",
      " ARIMA(0,1,2)(0,0,0)[0] intercept   : AIC=-2746.822, Time=0.37 sec\n",
      " ARIMA(0,1,3)(0,0,0)[0] intercept   : AIC=-2744.899, Time=0.47 sec\n",
      " ARIMA(1,1,1)(0,0,0)[0] intercept   : AIC=-2746.074, Time=0.81 sec\n",
      " ARIMA(1,1,3)(0,0,0)[0] intercept   : AIC=-2742.905, Time=0.92 sec\n",
      " ARIMA(0,1,2)(0,0,0)[0]             : AIC=-2747.831, Time=0.16 sec\n",
      " ARIMA(0,1,1)(0,0,0)[0]             : AIC=-2738.136, Time=0.14 sec\n",
      " ARIMA(1,1,2)(0,0,0)[0]             : AIC=-2745.870, Time=0.30 sec\n",
      " ARIMA(0,1,3)(0,0,0)[0]             : AIC=-2745.889, Time=0.25 sec\n",
      " ARIMA(1,1,1)(0,0,0)[0]             : AIC=-2747.005, Time=0.30 sec\n",
      " ARIMA(1,1,3)(0,0,0)[0]             : AIC=-2743.892, Time=0.40 sec\n",
      "\n",
      "Best model:  ARIMA(0,1,2)(0,0,0)[0]          \n",
      "Total fit time: 6.599 seconds\n"
     ]
    },
    {
     "data": {
      "text/html": [
       "<style>#sk-container-id-6 {color: black;background-color: white;}#sk-container-id-6 pre{padding: 0;}#sk-container-id-6 div.sk-toggleable {background-color: white;}#sk-container-id-6 label.sk-toggleable__label {cursor: pointer;display: block;width: 100%;margin-bottom: 0;padding: 0.3em;box-sizing: border-box;text-align: center;}#sk-container-id-6 label.sk-toggleable__label-arrow:before {content: \"▸\";float: left;margin-right: 0.25em;color: #696969;}#sk-container-id-6 label.sk-toggleable__label-arrow:hover:before {color: black;}#sk-container-id-6 div.sk-estimator:hover label.sk-toggleable__label-arrow:before {color: black;}#sk-container-id-6 div.sk-toggleable__content {max-height: 0;max-width: 0;overflow: hidden;text-align: left;background-color: #f0f8ff;}#sk-container-id-6 div.sk-toggleable__content pre {margin: 0.2em;color: black;border-radius: 0.25em;background-color: #f0f8ff;}#sk-container-id-6 input.sk-toggleable__control:checked~div.sk-toggleable__content {max-height: 200px;max-width: 100%;overflow: auto;}#sk-container-id-6 input.sk-toggleable__control:checked~label.sk-toggleable__label-arrow:before {content: \"▾\";}#sk-container-id-6 div.sk-estimator input.sk-toggleable__control:checked~label.sk-toggleable__label {background-color: #d4ebff;}#sk-container-id-6 div.sk-label input.sk-toggleable__control:checked~label.sk-toggleable__label {background-color: #d4ebff;}#sk-container-id-6 input.sk-hidden--visually {border: 0;clip: rect(1px 1px 1px 1px);clip: rect(1px, 1px, 1px, 1px);height: 1px;margin: -1px;overflow: hidden;padding: 0;position: absolute;width: 1px;}#sk-container-id-6 div.sk-estimator {font-family: monospace;background-color: #f0f8ff;border: 1px dotted black;border-radius: 0.25em;box-sizing: border-box;margin-bottom: 0.5em;}#sk-container-id-6 div.sk-estimator:hover {background-color: #d4ebff;}#sk-container-id-6 div.sk-parallel-item::after {content: \"\";width: 100%;border-bottom: 1px solid gray;flex-grow: 1;}#sk-container-id-6 div.sk-label:hover label.sk-toggleable__label {background-color: #d4ebff;}#sk-container-id-6 div.sk-serial::before {content: \"\";position: absolute;border-left: 1px solid gray;box-sizing: border-box;top: 0;bottom: 0;left: 50%;z-index: 0;}#sk-container-id-6 div.sk-serial {display: flex;flex-direction: column;align-items: center;background-color: white;padding-right: 0.2em;padding-left: 0.2em;position: relative;}#sk-container-id-6 div.sk-item {position: relative;z-index: 1;}#sk-container-id-6 div.sk-parallel {display: flex;align-items: stretch;justify-content: center;background-color: white;position: relative;}#sk-container-id-6 div.sk-item::before, #sk-container-id-6 div.sk-parallel-item::before {content: \"\";position: absolute;border-left: 1px solid gray;box-sizing: border-box;top: 0;bottom: 0;left: 50%;z-index: -1;}#sk-container-id-6 div.sk-parallel-item {display: flex;flex-direction: column;z-index: 1;position: relative;background-color: white;}#sk-container-id-6 div.sk-parallel-item:first-child::after {align-self: flex-end;width: 50%;}#sk-container-id-6 div.sk-parallel-item:last-child::after {align-self: flex-start;width: 50%;}#sk-container-id-6 div.sk-parallel-item:only-child::after {width: 0;}#sk-container-id-6 div.sk-dashed-wrapped {border: 1px dashed gray;margin: 0 0.4em 0.5em 0.4em;box-sizing: border-box;padding-bottom: 0.4em;background-color: white;}#sk-container-id-6 div.sk-label label {font-family: monospace;font-weight: bold;display: inline-block;line-height: 1.2em;}#sk-container-id-6 div.sk-label-container {text-align: center;}#sk-container-id-6 div.sk-container {/* jupyter's `normalize.less` sets `[hidden] { display: none; }` but bootstrap.min.css set `[hidden] { display: none !important; }` so we also need the `!important` here to be able to override the default hidden behavior on the sphinx rendered scikit-learn.org. See: https://github.com/scikit-learn/scikit-learn/issues/21755 */display: inline-block !important;position: relative;}#sk-container-id-6 div.sk-text-repr-fallback {display: none;}</style><div id=\"sk-container-id-6\" class=\"sk-top-container\"><div class=\"sk-text-repr-fallback\"><pre> ARIMA(0,1,2)(0,0,0)[0]          </pre><b>In a Jupyter environment, please rerun this cell to show the HTML representation or trust the notebook. <br />On GitHub, the HTML representation is unable to render, please try loading this page with nbviewer.org.</b></div><div class=\"sk-container\" hidden><div class=\"sk-item\"><div class=\"sk-estimator sk-toggleable\"><input class=\"sk-toggleable__control sk-hidden--visually\" id=\"sk-estimator-id-6\" type=\"checkbox\" checked><label for=\"sk-estimator-id-6\" class=\"sk-toggleable__label sk-toggleable__label-arrow\">ARIMA</label><div class=\"sk-toggleable__content\"><pre> ARIMA(0,1,2)(0,0,0)[0]          </pre></div></div></div></div></div>"
      ],
      "text/plain": [
       "ARIMA(order=(0, 1, 2), scoring_args={}, suppress_warnings=True,\n",
       "      with_intercept=False)"
      ]
     },
     "execution_count": 61,
     "metadata": {},
     "output_type": "execute_result"
    }
   ],
   "source": [
    "# Training model\n",
    "x_train = np.array(train_data.index).reshape(-1, 1)\n",
    "y_train = np.array(train_data['Price'])\n",
    "\n",
    "# Tìm mô hình ARIMA tối ưu nhất\n",
    "model = auto_arima(y_train, trace=True, error_action='ignore', suppress_warnings=True)\n",
    "model.fit(y_train)"
   ]
  },
  {
   "cell_type": "code",
   "execution_count": 62,
   "id": "cab3fd23-c516-4b5f-a9a1-65d99ef1536c",
   "metadata": {},
   "outputs": [],
   "source": [
    "# Testing model \n",
    "x_test = np.array(test_data.index).reshape(-1, 1)\n",
    "y_test = np.array(test_data['Price'])\n",
    "y_pred = model.predict(n_periods=len(y_test))"
   ]
  },
  {
   "cell_type": "code",
   "execution_count": 63,
   "id": "60b4611e-adb2-48a3-845b-9a30fc814bef",
   "metadata": {},
   "outputs": [
    {
     "name": "stdout",
     "output_type": "stream",
     "text": [
      "Predict closing prices for the next 30 days:\n",
      "[1.35397826 1.35045024 1.35045024 1.35045024 1.35045024 1.35045024\n",
      " 1.35045024 1.35045024 1.35045024 1.35045024 1.35045024 1.35045024\n",
      " 1.35045024 1.35045024 1.35045024 1.35045024 1.35045024 1.35045024\n",
      " 1.35045024 1.35045024 1.35045024 1.35045024 1.35045024 1.35045024\n",
      " 1.35045024 1.35045024 1.35045024 1.35045024 1.35045024 1.35045024]\n"
     ]
    }
   ],
   "source": [
    "# Dự đoán 30 ngày tiếp theo\n",
    "last_index =  df.index[-1]\n",
    "last_data = pd.RangeIndex(start=last_index, stop=last_index+30, step=1)\n",
    "\n",
    "x_next_30_days = np.array(range(last_index+1, last_index+31)).reshape(-1, 1)\n",
    "y_next_30_days = model.predict(n_periods=len(x_next_30_days))\n",
    "\n",
    "print('Predict closing prices for the next 30 days:')\n",
    "print(y_next_30_days)"
   ]
  },
  {
   "cell_type": "code",
   "execution_count": 64,
   "id": "834925ba-f218-4c81-a4da-6755bb604e20",
   "metadata": {},
   "outputs": [
    {
     "name": "stdout",
     "output_type": "stream",
     "text": [
      "- Calculate Error Values -\n",
      "MAE:  0.12031996910033892\n",
      "MAPE:  7.906009946165986\n",
      "RMSE:  0.14511916327607097\n"
     ]
    },
    {
     "data": {
      "image/png": "[encoded data removed]",
      "text/plain": [
       "<Figure size 640x480 with 1 Axes>"
      ]
     },
     "metadata": {},
     "output_type": "display_data"
    }
   ],
   "source": [
    "# Đánh giá mô hình dựa trên các đánh giá sai số và vẽ đồ thị đường\n",
    "evaluate(y_test, y_pred)\n",
    "\n",
    "plt.plot(train_data.index, train_data['Price'])\n",
    "plt.plot(test_data.index, test_data['Price'])\n",
    "plt.plot(test_data.index, y_pred)\n",
    "plt.plot(last_data,y_next_30_days)\n",
    "plt.legend(['Train', 'Test', 'Predictions','Next30Day'])\n",
    "plt.show()"
   ]
  },
  {
   "cell_type": "markdown",
   "id": "7fd07f99",
   "metadata": {},
   "source": [
    "# Heating Oil - 8:2"
   ]
  },
  {
   "cell_type": "code",
   "execution_count": 65,
   "id": "1499adf0",
   "metadata": {},
   "outputs": [],
   "source": [
    "# Đọc file dữ liệu, loại bỏ những dòng bị thiếu và chuẩn hóa dữ liệu\n",
    "df= pd.read_csv('Heating Oil Futures Historical Data.csv')\n",
    "df = df.dropna() # Drop missing values"
   ]
  },
  {
   "cell_type": "code",
   "execution_count": 66,
   "id": "92015829-26cc-4390-b481-047e77bc6552",
   "metadata": {},
   "outputs": [
    {
     "data": {
      "text/html": [
       "<div>\n",
       "<style scoped>\n",
       "    .dataframe tbody tr th:only-of-type {\n",
       "        vertical-align: middle;\n",
       "    }\n",
       "\n",
       "    .dataframe tbody tr th {\n",
       "        vertical-align: top;\n",
       "    }\n",
       "\n",
       "    .dataframe thead th {\n",
       "        text-align: right;\n",
       "    }\n",
       "</style>\n",
       "<table border=\"1\" class=\"dataframe\">\n",
       "  <thead>\n",
       "    <tr style=\"text-align: right;\">\n",
       "      <th></th>\n",
       "      <th>Date</th>\n",
       "      <th>Price</th>\n",
       "      <th>Open</th>\n",
       "      <th>High</th>\n",
       "      <th>Low</th>\n",
       "      <th>Vol.</th>\n",
       "      <th>Change %</th>\n",
       "    </tr>\n",
       "  </thead>\n",
       "  <tbody>\n",
       "    <tr>\n",
       "      <th>0</th>\n",
       "      <td>27-03-2024</td>\n",
       "      <td>2.5986</td>\n",
       "      <td>2.6109</td>\n",
       "      <td>2.6172</td>\n",
       "      <td>2.5884</td>\n",
       "      <td>20970</td>\n",
       "      <td>-0.88</td>\n",
       "    </tr>\n",
       "    <tr>\n",
       "      <th>1</th>\n",
       "      <td>26-03-2024</td>\n",
       "      <td>2.6218</td>\n",
       "      <td>2.6845</td>\n",
       "      <td>2.6870</td>\n",
       "      <td>2.6097</td>\n",
       "      <td>24090</td>\n",
       "      <td>-2.12</td>\n",
       "    </tr>\n",
       "    <tr>\n",
       "      <th>2</th>\n",
       "      <td>25-03-2024</td>\n",
       "      <td>2.6786</td>\n",
       "      <td>2.6644</td>\n",
       "      <td>2.7062</td>\n",
       "      <td>2.6533</td>\n",
       "      <td>29060</td>\n",
       "      <td>0.95</td>\n",
       "    </tr>\n",
       "    <tr>\n",
       "      <th>3</th>\n",
       "      <td>22-03-2024</td>\n",
       "      <td>2.6534</td>\n",
       "      <td>2.6630</td>\n",
       "      <td>2.6904</td>\n",
       "      <td>2.6471</td>\n",
       "      <td>27590</td>\n",
       "      <td>-0.58</td>\n",
       "    </tr>\n",
       "    <tr>\n",
       "      <th>4</th>\n",
       "      <td>21-03-2024</td>\n",
       "      <td>2.6688</td>\n",
       "      <td>2.6932</td>\n",
       "      <td>2.7026</td>\n",
       "      <td>2.6360</td>\n",
       "      <td>24850</td>\n",
       "      <td>-1.00</td>\n",
       "    </tr>\n",
       "    <tr>\n",
       "      <th>...</th>\n",
       "      <td>...</td>\n",
       "      <td>...</td>\n",
       "      <td>...</td>\n",
       "      <td>...</td>\n",
       "      <td>...</td>\n",
       "      <td>...</td>\n",
       "      <td>...</td>\n",
       "    </tr>\n",
       "    <tr>\n",
       "      <th>1377</th>\n",
       "      <td>08-01-2019</td>\n",
       "      <td>1.8270</td>\n",
       "      <td>1.7810</td>\n",
       "      <td>1.8296</td>\n",
       "      <td>1.7757</td>\n",
       "      <td>57590</td>\n",
       "      <td>2.73</td>\n",
       "    </tr>\n",
       "    <tr>\n",
       "      <th>1378</th>\n",
       "      <td>07-01-2019</td>\n",
       "      <td>1.7784</td>\n",
       "      <td>1.7809</td>\n",
       "      <td>1.8245</td>\n",
       "      <td>1.7764</td>\n",
       "      <td>57180</td>\n",
       "      <td>0.52</td>\n",
       "    </tr>\n",
       "    <tr>\n",
       "      <th>1379</th>\n",
       "      <td>04-01-2019</td>\n",
       "      <td>1.7692</td>\n",
       "      <td>1.7300</td>\n",
       "      <td>1.8035</td>\n",
       "      <td>1.7236</td>\n",
       "      <td>61140</td>\n",
       "      <td>1.56</td>\n",
       "    </tr>\n",
       "    <tr>\n",
       "      <th>1380</th>\n",
       "      <td>03-01-2019</td>\n",
       "      <td>1.7420</td>\n",
       "      <td>1.7008</td>\n",
       "      <td>1.7466</td>\n",
       "      <td>1.6801</td>\n",
       "      <td>56550</td>\n",
       "      <td>2.43</td>\n",
       "    </tr>\n",
       "    <tr>\n",
       "      <th>1381</th>\n",
       "      <td>02-01-2019</td>\n",
       "      <td>1.7006</td>\n",
       "      <td>1.6895</td>\n",
       "      <td>1.7489</td>\n",
       "      <td>1.6424</td>\n",
       "      <td>65510</td>\n",
       "      <td>0.89</td>\n",
       "    </tr>\n",
       "  </tbody>\n",
       "</table>\n",
       "<p>1319 rows × 7 columns</p>\n",
       "</div>"
      ],
      "text/plain": [
       "            Date   Price    Open    High     Low   Vol.  Change %\n",
       "0     27-03-2024  2.5986  2.6109  2.6172  2.5884  20970     -0.88\n",
       "1     26-03-2024  2.6218  2.6845  2.6870  2.6097  24090     -2.12\n",
       "2     25-03-2024  2.6786  2.6644  2.7062  2.6533  29060      0.95\n",
       "3     22-03-2024  2.6534  2.6630  2.6904  2.6471  27590     -0.58\n",
       "4     21-03-2024  2.6688  2.6932  2.7026  2.6360  24850     -1.00\n",
       "...          ...     ...     ...     ...     ...    ...       ...\n",
       "1377  08-01-2019  1.8270  1.7810  1.8296  1.7757  57590      2.73\n",
       "1378  07-01-2019  1.7784  1.7809  1.8245  1.7764  57180      0.52\n",
       "1379  04-01-2019  1.7692  1.7300  1.8035  1.7236  61140      1.56\n",
       "1380  03-01-2019  1.7420  1.7008  1.7466  1.6801  56550      2.43\n",
       "1381  02-01-2019  1.7006  1.6895  1.7489  1.6424  65510      0.89\n",
       "\n",
       "[1319 rows x 7 columns]"
      ]
     },
     "execution_count": 66,
     "metadata": {},
     "output_type": "execute_result"
    }
   ],
   "source": [
    "def convert_volume_to_number(volume_str):\n",
    "    if isinstance(volume_str, float):\n",
    "        return volume_str\n",
    "    if volume_str[-1] == 'K':\n",
    "        return int(float(volume_str[:-1]) * 1000)\n",
    "    elif volume_str[-1] == 'M':\n",
    "        return int(float(volume_str[:-1]) * 1000000)\n",
    "    elif volume_str[-1] == 'B':\n",
    "        return int(float(volume_str[:-1]) * 1000000000)\n",
    "    else:\n",
    "        return volume_str\n",
    "\n",
    "\n",
    "def convert_change_to_number(change_str):\n",
    "    new_change = float(change_str.strip('%'))\n",
    "    return new_change\n",
    "\n",
    "def convert_str_to_number(str):\n",
    "    return float(str.replace(',', ''))\n",
    "\n",
    "df['Vol.'] = df['Vol.'] .apply(convert_volume_to_number)\n",
    "df['Change %'] = df['Change %'].apply(convert_change_to_number)\n",
    "df['Date'] = pd.to_datetime(df['Date'])\n",
    "df[\"Date\"] = df[\"Date\"].dt.strftime('%d-%m-%Y')\n",
    "df"
   ]
  },
  {
   "cell_type": "code",
   "execution_count": 67,
   "id": "abe8b527-9d5f-4dbd-9cee-23fabed9d9ef",
   "metadata": {},
   "outputs": [
    {
     "name": "stdout",
     "output_type": "stream",
     "text": [
      "<class 'pandas.core.frame.DataFrame'>\n",
      "Index: 1319 entries, 0 to 1381\n",
      "Data columns (total 7 columns):\n",
      " #   Column    Non-Null Count  Dtype  \n",
      "---  ------    --------------  -----  \n",
      " 0   Date      1319 non-null   object \n",
      " 1   Price     1319 non-null   float64\n",
      " 2   Open      1319 non-null   float64\n",
      " 3   High      1319 non-null   float64\n",
      " 4   Low       1319 non-null   float64\n",
      " 5   Vol.      1319 non-null   int64  \n",
      " 6   Change %  1319 non-null   float64\n",
      "dtypes: float64(5), int64(1), object(1)\n",
      "memory usage: 82.4+ KB\n"
     ]
    }
   ],
   "source": [
    "df.info()"
   ]
  },
  {
   "cell_type": "code",
   "execution_count": 68,
   "id": "77faf11e-414a-44b1-a443-349116ae3c04",
   "metadata": {},
   "outputs": [],
   "source": [
    "# Chuyển đổi cột 'Price' thành mảng NumPy\n",
    "df = df[['Price']]\n",
    "df = df.dropna() # Drop missing values\n",
    "df = df.reset_index(drop=True) # Reset the index"
   ]
  },
  {
   "cell_type": "code",
   "execution_count": 69,
   "id": "fc79a722-a97a-422d-94f0-b2b0e35d03e2",
   "metadata": {},
   "outputs": [],
   "source": [
    "# Tách dữ liệu train-test 8:2\n",
    "train_size = int(0.8 * len(df))\n",
    "test_size = len(df)-train_size\n",
    "train_data = df[:train_size]\n",
    "test_data = df[train_size:train_size+test_size]"
   ]
  },
  {
   "cell_type": "code",
   "execution_count": 70,
   "id": "4376b262-503f-48aa-966e-e9cc4cd5a42a",
   "metadata": {},
   "outputs": [],
   "source": [
    "# Tạo hàm đánh giá sai số cho dự đoán (sử dụng MAE, MAPE, RMSE)\n",
    "def evaluate(test,pred):\n",
    "  print('- Calculate Error Values -')\n",
    "  test_mae = mean_absolute_error(test, pred)\n",
    "  print('MAE: ', test_mae)\n",
    "\n",
    "  test_ape = np.abs((test - pred) / test)\n",
    "  test_mape = np.mean(test_ape) * 100\n",
    "  print('MAPE: ', test_mape)\n",
    "\n",
    "  test_mse = mean_squared_error(test, pred)\n",
    "  test_rmse = np.sqrt(test_mse)\n",
    "  print('RMSE: ', test_rmse)"
   ]
  },
  {
   "cell_type": "code",
   "execution_count": 71,
   "id": "bd6f0722-8352-4ca0-beb4-b4d508763966",
   "metadata": {},
   "outputs": [
    {
     "name": "stdout",
     "output_type": "stream",
     "text": [
      "Performing stepwise search to minimize aic\n",
      " ARIMA(2,1,2)(0,0,0)[0] intercept   : AIC=-2181.074, Time=1.72 sec\n",
      " ARIMA(0,1,0)(0,0,0)[0] intercept   : AIC=-2151.392, Time=0.18 sec\n",
      " ARIMA(1,1,0)(0,0,0)[0] intercept   : AIC=-2164.458, Time=0.21 sec\n",
      " ARIMA(0,1,1)(0,0,0)[0] intercept   : AIC=-2165.815, Time=0.69 sec\n",
      " ARIMA(0,1,0)(0,0,0)[0]             : AIC=-2153.318, Time=0.10 sec\n",
      " ARIMA(1,1,2)(0,0,0)[0] intercept   : AIC=-2166.454, Time=0.84 sec\n",
      " ARIMA(2,1,1)(0,0,0)[0] intercept   : AIC=-2177.397, Time=1.26 sec\n",
      " ARIMA(3,1,2)(0,0,0)[0] intercept   : AIC=-2174.329, Time=1.54 sec\n",
      " ARIMA(2,1,3)(0,0,0)[0] intercept   : AIC=-2183.238, Time=1.56 sec\n",
      " ARIMA(1,1,3)(0,0,0)[0] intercept   : AIC=-2180.826, Time=1.67 sec\n",
      " ARIMA(3,1,3)(0,0,0)[0] intercept   : AIC=-2188.486, Time=1.81 sec\n",
      " ARIMA(4,1,3)(0,0,0)[0] intercept   : AIC=-2186.923, Time=2.46 sec\n",
      " ARIMA(3,1,4)(0,0,0)[0] intercept   : AIC=-2183.938, Time=2.13 sec\n",
      " ARIMA(2,1,4)(0,0,0)[0] intercept   : AIC=-2184.591, Time=2.68 sec\n",
      " ARIMA(4,1,2)(0,0,0)[0] intercept   : AIC=-2171.328, Time=1.91 sec\n",
      " ARIMA(4,1,4)(0,0,0)[0] intercept   : AIC=-2186.216, Time=2.30 sec\n",
      " ARIMA(3,1,3)(0,0,0)[0]             : AIC=-2190.490, Time=1.09 sec\n",
      " ARIMA(2,1,3)(0,0,0)[0]             : AIC=-2185.094, Time=0.93 sec\n",
      " ARIMA(3,1,2)(0,0,0)[0]             : AIC=-2179.008, Time=0.88 sec\n",
      " ARIMA(4,1,3)(0,0,0)[0]             : AIC=-2189.116, Time=1.22 sec\n",
      " ARIMA(3,1,4)(0,0,0)[0]             : AIC=-2188.968, Time=1.32 sec\n",
      " ARIMA(2,1,2)(0,0,0)[0]             : AIC=-2183.014, Time=0.72 sec\n",
      " ARIMA(2,1,4)(0,0,0)[0]             : AIC=-2186.420, Time=1.12 sec\n",
      " ARIMA(4,1,2)(0,0,0)[0]             : AIC=-2180.373, Time=1.20 sec\n",
      " ARIMA(4,1,4)(0,0,0)[0]             : AIC=-2189.349, Time=1.84 sec\n",
      "\n",
      "Best model:  ARIMA(3,1,3)(0,0,0)[0]          \n",
      "Total fit time: 33.386 seconds\n"
     ]
    },
    {
     "data": {
      "text/html": [
       "<style>#sk-container-id-7 {color: black;background-color: white;}#sk-container-id-7 pre{padding: 0;}#sk-container-id-7 div.sk-toggleable {background-color: white;}#sk-container-id-7 label.sk-toggleable__label {cursor: pointer;display: block;width: 100%;margin-bottom: 0;padding: 0.3em;box-sizing: border-box;text-align: center;}#sk-container-id-7 label.sk-toggleable__label-arrow:before {content: \"▸\";float: left;margin-right: 0.25em;color: #696969;}#sk-container-id-7 label.sk-toggleable__label-arrow:hover:before {color: black;}#sk-container-id-7 div.sk-estimator:hover label.sk-toggleable__label-arrow:before {color: black;}#sk-container-id-7 div.sk-toggleable__content {max-height: 0;max-width: 0;overflow: hidden;text-align: left;background-color: #f0f8ff;}#sk-container-id-7 div.sk-toggleable__content pre {margin: 0.2em;color: black;border-radius: 0.25em;background-color: #f0f8ff;}#sk-container-id-7 input.sk-toggleable__control:checked~div.sk-toggleable__content {max-height: 200px;max-width: 100%;overflow: auto;}#sk-container-id-7 input.sk-toggleable__control:checked~label.sk-toggleable__label-arrow:before {content: \"▾\";}#sk-container-id-7 div.sk-estimator input.sk-toggleable__control:checked~label.sk-toggleable__label {background-color: #d4ebff;}#sk-container-id-7 div.sk-label input.sk-toggleable__control:checked~label.sk-toggleable__label {background-color: #d4ebff;}#sk-container-id-7 input.sk-hidden--visually {border: 0;clip: rect(1px 1px 1px 1px);clip: rect(1px, 1px, 1px, 1px);height: 1px;margin: -1px;overflow: hidden;padding: 0;position: absolute;width: 1px;}#sk-container-id-7 div.sk-estimator {font-family: monospace;background-color: #f0f8ff;border: 1px dotted black;border-radius: 0.25em;box-sizing: border-box;margin-bottom: 0.5em;}#sk-container-id-7 div.sk-estimator:hover {background-color: #d4ebff;}#sk-container-id-7 div.sk-parallel-item::after {content: \"\";width: 100%;border-bottom: 1px solid gray;flex-grow: 1;}#sk-container-id-7 div.sk-label:hover label.sk-toggleable__label {background-color: #d4ebff;}#sk-container-id-7 div.sk-serial::before {content: \"\";position: absolute;border-left: 1px solid gray;box-sizing: border-box;top: 0;bottom: 0;left: 50%;z-index: 0;}#sk-container-id-7 div.sk-serial {display: flex;flex-direction: column;align-items: center;background-color: white;padding-right: 0.2em;padding-left: 0.2em;position: relative;}#sk-container-id-7 div.sk-item {position: relative;z-index: 1;}#sk-container-id-7 div.sk-parallel {display: flex;align-items: stretch;justify-content: center;background-color: white;position: relative;}#sk-container-id-7 div.sk-item::before, #sk-container-id-7 div.sk-parallel-item::before {content: \"\";position: absolute;border-left: 1px solid gray;box-sizing: border-box;top: 0;bottom: 0;left: 50%;z-index: -1;}#sk-container-id-7 div.sk-parallel-item {display: flex;flex-direction: column;z-index: 1;position: relative;background-color: white;}#sk-container-id-7 div.sk-parallel-item:first-child::after {align-self: flex-end;width: 50%;}#sk-container-id-7 div.sk-parallel-item:last-child::after {align-self: flex-start;width: 50%;}#sk-container-id-7 div.sk-parallel-item:only-child::after {width: 0;}#sk-container-id-7 div.sk-dashed-wrapped {border: 1px dashed gray;margin: 0 0.4em 0.5em 0.4em;box-sizing: border-box;padding-bottom: 0.4em;background-color: white;}#sk-container-id-7 div.sk-label label {font-family: monospace;font-weight: bold;display: inline-block;line-height: 1.2em;}#sk-container-id-7 div.sk-label-container {text-align: center;}#sk-container-id-7 div.sk-container {/* jupyter's `normalize.less` sets `[hidden] { display: none; }` but bootstrap.min.css set `[hidden] { display: none !important; }` so we also need the `!important` here to be able to override the default hidden behavior on the sphinx rendered scikit-learn.org. See: https://github.com/scikit-learn/scikit-learn/issues/21755 */display: inline-block !important;position: relative;}#sk-container-id-7 div.sk-text-repr-fallback {display: none;}</style><div id=\"sk-container-id-7\" class=\"sk-top-container\"><div class=\"sk-text-repr-fallback\"><pre> ARIMA(3,1,3)(0,0,0)[0]          </pre><b>In a Jupyter environment, please rerun this cell to show the HTML representation or trust the notebook. <br />On GitHub, the HTML representation is unable to render, please try loading this page with nbviewer.org.</b></div><div class=\"sk-container\" hidden><div class=\"sk-item\"><div class=\"sk-estimator sk-toggleable\"><input class=\"sk-toggleable__control sk-hidden--visually\" id=\"sk-estimator-id-7\" type=\"checkbox\" checked><label for=\"sk-estimator-id-7\" class=\"sk-toggleable__label sk-toggleable__label-arrow\">ARIMA</label><div class=\"sk-toggleable__content\"><pre> ARIMA(3,1,3)(0,0,0)[0]          </pre></div></div></div></div></div>"
      ],
      "text/plain": [
       "ARIMA(order=(3, 1, 3), scoring_args={}, suppress_warnings=True,\n",
       "      with_intercept=False)"
      ]
     },
     "execution_count": 71,
     "metadata": {},
     "output_type": "execute_result"
    }
   ],
   "source": [
    "# Training model\n",
    "x_train = np.array(train_data.index).reshape(-1, 1)\n",
    "y_train = np.array(train_data['Price'])\n",
    "\n",
    "# Tìm mô hình ARIMA tối ưu nhất\n",
    "model = auto_arima(y_train, trace=True, error_action='ignore', suppress_warnings=True)\n",
    "model.fit(y_train)"
   ]
  },
  {
   "cell_type": "code",
   "execution_count": 72,
   "id": "2156e287-8889-4c25-9bc1-403b66610e46",
   "metadata": {},
   "outputs": [],
   "source": [
    "# Testing model \n",
    "x_test = np.array(test_data.index).reshape(-1, 1)\n",
    "y_test = np.array(test_data['Price'])\n",
    "y_pred = model.predict(n_periods=len(y_test))"
   ]
  },
  {
   "cell_type": "code",
   "execution_count": 73,
   "id": "68daa0e5-cbc8-4c54-a54f-b4b40fb0e8d2",
   "metadata": {},
   "outputs": [
    {
     "name": "stdout",
     "output_type": "stream",
     "text": [
      "Predict closing prices for the next 30 days:\n",
      "[1.83224639 1.82139974 1.80977724 1.80888587 1.80098095 1.7980355\n",
      " 1.79532264 1.79197724 1.79054852 1.78862401 1.78727921 1.78631107\n",
      " 1.78531886 1.78467131 1.78408381 1.783605   1.78324841 1.7829311\n",
      " 1.78268973 1.78249169 1.78232767 1.78219994 1.78209335 1.78200822\n",
      " 1.78193967 1.78188344 1.78183858 1.781802   1.78177242 1.78174861]\n"
     ]
    }
   ],
   "source": [
    "# Dự đoán 30 ngày tiếp theo\n",
    "last_index =  df.index[-1]\n",
    "last_data = pd.RangeIndex(start=last_index, stop=last_index+30, step=1)\n",
    "\n",
    "x_next_30_days = np.array(range(last_index+1, last_index+31)).reshape(-1, 1)\n",
    "y_next_30_days = model.predict(n_periods=len(x_next_30_days))\n",
    "\n",
    "print('Predict closing prices for the next 30 days:')\n",
    "print(y_next_30_days)"
   ]
  },
  {
   "cell_type": "code",
   "execution_count": 74,
   "id": "fab14b3d-1a5e-4da9-a1f1-51080505bb76",
   "metadata": {},
   "outputs": [
    {
     "name": "stdout",
     "output_type": "stream",
     "text": [
      "- Calculate Error Values -\n",
      "MAE:  0.158980663572051\n",
      "MAPE:  8.03433178381279\n",
      "RMSE:  0.17813671120547991\n"
     ]
    },
    {
     "data": {
      "image/png": "[encoded data removed]",
      "text/plain": [
       "<Figure size 640x480 with 1 Axes>"
      ]
     },
     "metadata": {},
     "output_type": "display_data"
    }
   ],
   "source": [
    "# Đánh giá mô hình dựa trên các đánh giá sai số và vẽ đồ thị đường\n",
    "evaluate(y_test, y_pred)\n",
    "\n",
    "plt.plot(train_data.index, train_data['Price'])\n",
    "plt.plot(test_data.index, test_data['Price'])\n",
    "plt.plot(test_data.index, y_pred)\n",
    "plt.plot(last_data,y_next_30_days)\n",
    "plt.legend(['Train', 'Test', 'Predictions','Next30Day'])\n",
    "plt.show()"
   ]
  },
  {
   "cell_type": "markdown",
   "id": "259889f1",
   "metadata": {},
   "source": [
    "# Train-Test 9:1"
   ]
  },
  {
   "cell_type": "markdown",
   "id": "700b376d",
   "metadata": {},
   "source": [
    "# Crude Oil WTI - 9:1"
   ]
  },
  {
   "cell_type": "code",
   "execution_count": 75,
   "id": "515e8534",
   "metadata": {},
   "outputs": [],
   "source": [
    "# Đọc file dữ liệu và loại bỏ những dòng bị thiếu\n",
    "df= pd.read_csv('Crude Oil WTI Futures Historical Data.csv')\n",
    "df = df.dropna() # Drop missing values"
   ]
  },
  {
   "cell_type": "code",
   "execution_count": 76,
   "id": "567adaa4-9fd0-426e-9eb5-1cd1309717e4",
   "metadata": {},
   "outputs": [
    {
     "data": {
      "text/html": [
       "<div>\n",
       "<style scoped>\n",
       "    .dataframe tbody tr th:only-of-type {\n",
       "        vertical-align: middle;\n",
       "    }\n",
       "\n",
       "    .dataframe tbody tr th {\n",
       "        vertical-align: top;\n",
       "    }\n",
       "\n",
       "    .dataframe thead th {\n",
       "        text-align: right;\n",
       "    }\n",
       "</style>\n",
       "<table border=\"1\" class=\"dataframe\">\n",
       "  <thead>\n",
       "    <tr style=\"text-align: right;\">\n",
       "      <th></th>\n",
       "      <th>Date</th>\n",
       "      <th>Price</th>\n",
       "      <th>Open</th>\n",
       "      <th>High</th>\n",
       "      <th>Low</th>\n",
       "      <th>Vol.</th>\n",
       "      <th>Change %</th>\n",
       "    </tr>\n",
       "  </thead>\n",
       "  <tbody>\n",
       "    <tr>\n",
       "      <th>0</th>\n",
       "      <td>27-03-2024</td>\n",
       "      <td>81.35</td>\n",
       "      <td>81.29</td>\n",
       "      <td>81.74</td>\n",
       "      <td>80.55</td>\n",
       "      <td>249960</td>\n",
       "      <td>-0.33</td>\n",
       "    </tr>\n",
       "    <tr>\n",
       "      <th>1</th>\n",
       "      <td>26-03-2024</td>\n",
       "      <td>81.62</td>\n",
       "      <td>81.94</td>\n",
       "      <td>82.36</td>\n",
       "      <td>81.22</td>\n",
       "      <td>235850</td>\n",
       "      <td>-0.40</td>\n",
       "    </tr>\n",
       "    <tr>\n",
       "      <th>2</th>\n",
       "      <td>25-03-2024</td>\n",
       "      <td>81.95</td>\n",
       "      <td>80.85</td>\n",
       "      <td>82.48</td>\n",
       "      <td>80.59</td>\n",
       "      <td>300360</td>\n",
       "      <td>1.64</td>\n",
       "    </tr>\n",
       "    <tr>\n",
       "      <th>3</th>\n",
       "      <td>22-03-2024</td>\n",
       "      <td>80.63</td>\n",
       "      <td>80.84</td>\n",
       "      <td>81.45</td>\n",
       "      <td>80.42</td>\n",
       "      <td>231100</td>\n",
       "      <td>-0.54</td>\n",
       "    </tr>\n",
       "    <tr>\n",
       "      <th>4</th>\n",
       "      <td>21-03-2024</td>\n",
       "      <td>81.07</td>\n",
       "      <td>81.49</td>\n",
       "      <td>81.92</td>\n",
       "      <td>80.30</td>\n",
       "      <td>266860</td>\n",
       "      <td>-0.75</td>\n",
       "    </tr>\n",
       "    <tr>\n",
       "      <th>...</th>\n",
       "      <td>...</td>\n",
       "      <td>...</td>\n",
       "      <td>...</td>\n",
       "      <td>...</td>\n",
       "      <td>...</td>\n",
       "      <td>...</td>\n",
       "      <td>...</td>\n",
       "    </tr>\n",
       "    <tr>\n",
       "      <th>1379</th>\n",
       "      <td>08-01-2019</td>\n",
       "      <td>49.78</td>\n",
       "      <td>48.73</td>\n",
       "      <td>49.95</td>\n",
       "      <td>48.31</td>\n",
       "      <td>765980</td>\n",
       "      <td>2.60</td>\n",
       "    </tr>\n",
       "    <tr>\n",
       "      <th>1380</th>\n",
       "      <td>07-01-2019</td>\n",
       "      <td>48.52</td>\n",
       "      <td>48.30</td>\n",
       "      <td>49.79</td>\n",
       "      <td>48.11</td>\n",
       "      <td>819940</td>\n",
       "      <td>1.17</td>\n",
       "    </tr>\n",
       "    <tr>\n",
       "      <th>1381</th>\n",
       "      <td>04-01-2019</td>\n",
       "      <td>47.96</td>\n",
       "      <td>46.90</td>\n",
       "      <td>49.22</td>\n",
       "      <td>46.65</td>\n",
       "      <td>817280</td>\n",
       "      <td>1.85</td>\n",
       "    </tr>\n",
       "    <tr>\n",
       "      <th>1382</th>\n",
       "      <td>03-01-2019</td>\n",
       "      <td>47.09</td>\n",
       "      <td>46.26</td>\n",
       "      <td>47.49</td>\n",
       "      <td>45.35</td>\n",
       "      <td>788720</td>\n",
       "      <td>1.18</td>\n",
       "    </tr>\n",
       "    <tr>\n",
       "      <th>1383</th>\n",
       "      <td>02-01-2019</td>\n",
       "      <td>46.54</td>\n",
       "      <td>45.80</td>\n",
       "      <td>47.78</td>\n",
       "      <td>44.35</td>\n",
       "      <td>850480</td>\n",
       "      <td>1.42</td>\n",
       "    </tr>\n",
       "  </tbody>\n",
       "</table>\n",
       "<p>1296 rows × 7 columns</p>\n",
       "</div>"
      ],
      "text/plain": [
       "            Date  Price   Open   High    Low    Vol.  Change %\n",
       "0     27-03-2024  81.35  81.29  81.74  80.55  249960     -0.33\n",
       "1     26-03-2024  81.62  81.94  82.36  81.22  235850     -0.40\n",
       "2     25-03-2024  81.95  80.85  82.48  80.59  300360      1.64\n",
       "3     22-03-2024  80.63  80.84  81.45  80.42  231100     -0.54\n",
       "4     21-03-2024  81.07  81.49  81.92  80.30  266860     -0.75\n",
       "...          ...    ...    ...    ...    ...     ...       ...\n",
       "1379  08-01-2019  49.78  48.73  49.95  48.31  765980      2.60\n",
       "1380  07-01-2019  48.52  48.30  49.79  48.11  819940      1.17\n",
       "1381  04-01-2019  47.96  46.90  49.22  46.65  817280      1.85\n",
       "1382  03-01-2019  47.09  46.26  47.49  45.35  788720      1.18\n",
       "1383  02-01-2019  46.54  45.80  47.78  44.35  850480      1.42\n",
       "\n",
       "[1296 rows x 7 columns]"
      ]
     },
     "execution_count": 76,
     "metadata": {},
     "output_type": "execute_result"
    }
   ],
   "source": [
    "def convert_volume_to_number(volume_str):\n",
    "    if isinstance(volume_str, float):\n",
    "        return volume_str\n",
    "    if volume_str[-1] == 'K':\n",
    "        return int(float(volume_str[:-1]) * 1000)\n",
    "    elif volume_str[-1] == 'M':\n",
    "        return int(float(volume_str[:-1]) * 1000000)\n",
    "    elif volume_str[-1] == 'B':\n",
    "        return int(float(volume_str[:-1]) * 1000000000)\n",
    "    else:\n",
    "        return volume_str\n",
    "\n",
    "\n",
    "def convert_change_to_number(change_str):\n",
    "    new_change = float(change_str.strip('%'))\n",
    "    return new_change\n",
    "\n",
    "def convert_str_to_number(str):\n",
    "    return float(str.replace(',', ''))\n",
    "\n",
    "df['Vol.'] = df['Vol.'] .apply(convert_volume_to_number)\n",
    "df['Change %'] = df['Change %'].apply(convert_change_to_number)\n",
    "df['Date'] = pd.to_datetime(df['Date'])\n",
    "df[\"Date\"] = df[\"Date\"].dt.strftime('%d-%m-%Y')\n",
    "df"
   ]
  },
  {
   "cell_type": "code",
   "execution_count": 77,
   "id": "30d412b2-a418-45d5-8365-aa6b47317b40",
   "metadata": {},
   "outputs": [
    {
     "name": "stdout",
     "output_type": "stream",
     "text": [
      "<class 'pandas.core.frame.DataFrame'>\n",
      "Index: 1296 entries, 0 to 1383\n",
      "Data columns (total 7 columns):\n",
      " #   Column    Non-Null Count  Dtype  \n",
      "---  ------    --------------  -----  \n",
      " 0   Date      1296 non-null   object \n",
      " 1   Price     1296 non-null   float64\n",
      " 2   Open      1296 non-null   float64\n",
      " 3   High      1296 non-null   float64\n",
      " 4   Low       1296 non-null   float64\n",
      " 5   Vol.      1296 non-null   int64  \n",
      " 6   Change %  1296 non-null   float64\n",
      "dtypes: float64(5), int64(1), object(1)\n",
      "memory usage: 81.0+ KB\n"
     ]
    }
   ],
   "source": [
    "df.info()"
   ]
  },
  {
   "cell_type": "code",
   "execution_count": 78,
   "id": "b0778b9c-9943-4caf-a742-983f731a61fd",
   "metadata": {},
   "outputs": [],
   "source": [
    "# Chuyển đổi cột 'Price' thành mảng NumPy\n",
    "df = df[['Price']]\n",
    "df = df.dropna() # Drop missing values\n",
    "df = df.reset_index(drop=True) # Reset the index"
   ]
  },
  {
   "cell_type": "code",
   "execution_count": 79,
   "id": "be15c358-ffe0-4383-bec8-b256bc6b3f4d",
   "metadata": {},
   "outputs": [],
   "source": [
    "# Tách dữ liệu train-test 9:1\n",
    "train_size = int(0.9 * len(df))\n",
    "test_size = len(df)-train_size\n",
    "train_data = df[:train_size]\n",
    "test_data = df[train_size:train_size+test_size]"
   ]
  },
  {
   "cell_type": "code",
   "execution_count": 80,
   "id": "88f331a0-ee4e-4fd6-b6da-a9f3c896f59f",
   "metadata": {},
   "outputs": [],
   "source": [
    "# Tạo hàm đánh giá sai số cho dự đoán (sử dụng MAE, MAPE, RMSE)\n",
    "def evaluate(test,pred):\n",
    "  print('- Calculate Error Values -')\n",
    "  test_mae = mean_absolute_error(test, pred)\n",
    "  print('MAE: ', test_mae)\n",
    "\n",
    "  test_ape = np.abs((test - pred) / test)\n",
    "  test_mape = np.mean(test_ape) * 100\n",
    "  print('MAPE: ', test_mape)\n",
    "\n",
    "  test_mse = mean_squared_error(test, pred)\n",
    "  test_rmse = np.sqrt(test_mse)\n",
    "  print('RMSE: ', test_rmse)"
   ]
  },
  {
   "cell_type": "code",
   "execution_count": 81,
   "id": "fd5d4b0b-c310-4dce-b37a-ae89acd0c250",
   "metadata": {},
   "outputs": [
    {
     "name": "stdout",
     "output_type": "stream",
     "text": [
      "Performing stepwise search to minimize aic\n",
      " ARIMA(2,1,2)(0,0,0)[0] intercept   : AIC=5704.935, Time=1.20 sec\n",
      " ARIMA(0,1,0)(0,0,0)[0] intercept   : AIC=5788.834, Time=0.02 sec\n",
      " ARIMA(1,1,0)(0,0,0)[0] intercept   : AIC=5720.827, Time=0.13 sec\n",
      " ARIMA(0,1,1)(0,0,0)[0] intercept   : AIC=5705.399, Time=0.17 sec\n",
      " ARIMA(0,1,0)(0,0,0)[0]             : AIC=5786.879, Time=0.03 sec\n",
      " ARIMA(1,1,2)(0,0,0)[0] intercept   : AIC=5702.968, Time=0.47 sec\n",
      " ARIMA(0,1,2)(0,0,0)[0] intercept   : AIC=5702.439, Time=0.20 sec\n",
      " ARIMA(0,1,3)(0,0,0)[0] intercept   : AIC=5703.107, Time=0.29 sec\n",
      " ARIMA(1,1,1)(0,0,0)[0] intercept   : AIC=5701.435, Time=0.32 sec\n",
      " ARIMA(2,1,1)(0,0,0)[0] intercept   : AIC=5702.995, Time=0.40 sec\n",
      " ARIMA(2,1,0)(0,0,0)[0] intercept   : AIC=5709.048, Time=0.15 sec\n",
      " ARIMA(1,1,1)(0,0,0)[0]             : AIC=5699.561, Time=0.13 sec\n",
      " ARIMA(0,1,1)(0,0,0)[0]             : AIC=5703.498, Time=0.08 sec\n",
      " ARIMA(1,1,0)(0,0,0)[0]             : AIC=5718.901, Time=0.05 sec\n",
      " ARIMA(2,1,1)(0,0,0)[0]             : AIC=5701.130, Time=0.20 sec\n",
      " ARIMA(1,1,2)(0,0,0)[0]             : AIC=5701.104, Time=0.23 sec\n",
      " ARIMA(0,1,2)(0,0,0)[0]             : AIC=5700.555, Time=0.10 sec\n",
      " ARIMA(2,1,0)(0,0,0)[0]             : AIC=5707.140, Time=0.10 sec\n",
      " ARIMA(2,1,2)(0,0,0)[0]             : AIC=5703.066, Time=0.77 sec\n",
      "\n",
      "Best model:  ARIMA(1,1,1)(0,0,0)[0]          \n",
      "Total fit time: 5.035 seconds\n"
     ]
    },
    {
     "data": {
      "text/html": [
       "<style>#sk-container-id-8 {color: black;background-color: white;}#sk-container-id-8 pre{padding: 0;}#sk-container-id-8 div.sk-toggleable {background-color: white;}#sk-container-id-8 label.sk-toggleable__label {cursor: pointer;display: block;width: 100%;margin-bottom: 0;padding: 0.3em;box-sizing: border-box;text-align: center;}#sk-container-id-8 label.sk-toggleable__label-arrow:before {content: \"▸\";float: left;margin-right: 0.25em;color: #696969;}#sk-container-id-8 label.sk-toggleable__label-arrow:hover:before {color: black;}#sk-container-id-8 div.sk-estimator:hover label.sk-toggleable__label-arrow:before {color: black;}#sk-container-id-8 div.sk-toggleable__content {max-height: 0;max-width: 0;overflow: hidden;text-align: left;background-color: #f0f8ff;}#sk-container-id-8 div.sk-toggleable__content pre {margin: 0.2em;color: black;border-radius: 0.25em;background-color: #f0f8ff;}#sk-container-id-8 input.sk-toggleable__control:checked~div.sk-toggleable__content {max-height: 200px;max-width: 100%;overflow: auto;}#sk-container-id-8 input.sk-toggleable__control:checked~label.sk-toggleable__label-arrow:before {content: \"▾\";}#sk-container-id-8 div.sk-estimator input.sk-toggleable__control:checked~label.sk-toggleable__label {background-color: #d4ebff;}#sk-container-id-8 div.sk-label input.sk-toggleable__control:checked~label.sk-toggleable__label {background-color: #d4ebff;}#sk-container-id-8 input.sk-hidden--visually {border: 0;clip: rect(1px 1px 1px 1px);clip: rect(1px, 1px, 1px, 1px);height: 1px;margin: -1px;overflow: hidden;padding: 0;position: absolute;width: 1px;}#sk-container-id-8 div.sk-estimator {font-family: monospace;background-color: #f0f8ff;border: 1px dotted black;border-radius: 0.25em;box-sizing: border-box;margin-bottom: 0.5em;}#sk-container-id-8 div.sk-estimator:hover {background-color: #d4ebff;}#sk-container-id-8 div.sk-parallel-item::after {content: \"\";width: 100%;border-bottom: 1px solid gray;flex-grow: 1;}#sk-container-id-8 div.sk-label:hover label.sk-toggleable__label {background-color: #d4ebff;}#sk-container-id-8 div.sk-serial::before {content: \"\";position: absolute;border-left: 1px solid gray;box-sizing: border-box;top: 0;bottom: 0;left: 50%;z-index: 0;}#sk-container-id-8 div.sk-serial {display: flex;flex-direction: column;align-items: center;background-color: white;padding-right: 0.2em;padding-left: 0.2em;position: relative;}#sk-container-id-8 div.sk-item {position: relative;z-index: 1;}#sk-container-id-8 div.sk-parallel {display: flex;align-items: stretch;justify-content: center;background-color: white;position: relative;}#sk-container-id-8 div.sk-item::before, #sk-container-id-8 div.sk-parallel-item::before {content: \"\";position: absolute;border-left: 1px solid gray;box-sizing: border-box;top: 0;bottom: 0;left: 50%;z-index: -1;}#sk-container-id-8 div.sk-parallel-item {display: flex;flex-direction: column;z-index: 1;position: relative;background-color: white;}#sk-container-id-8 div.sk-parallel-item:first-child::after {align-self: flex-end;width: 50%;}#sk-container-id-8 div.sk-parallel-item:last-child::after {align-self: flex-start;width: 50%;}#sk-container-id-8 div.sk-parallel-item:only-child::after {width: 0;}#sk-container-id-8 div.sk-dashed-wrapped {border: 1px dashed gray;margin: 0 0.4em 0.5em 0.4em;box-sizing: border-box;padding-bottom: 0.4em;background-color: white;}#sk-container-id-8 div.sk-label label {font-family: monospace;font-weight: bold;display: inline-block;line-height: 1.2em;}#sk-container-id-8 div.sk-label-container {text-align: center;}#sk-container-id-8 div.sk-container {/* jupyter's `normalize.less` sets `[hidden] { display: none; }` but bootstrap.min.css set `[hidden] { display: none !important; }` so we also need the `!important` here to be able to override the default hidden behavior on the sphinx rendered scikit-learn.org. See: https://github.com/scikit-learn/scikit-learn/issues/21755 */display: inline-block !important;position: relative;}#sk-container-id-8 div.sk-text-repr-fallback {display: none;}</style><div id=\"sk-container-id-8\" class=\"sk-top-container\"><div class=\"sk-text-repr-fallback\"><pre> ARIMA(1,1,1)(0,0,0)[0]          </pre><b>In a Jupyter environment, please rerun this cell to show the HTML representation or trust the notebook. <br />On GitHub, the HTML representation is unable to render, please try loading this page with nbviewer.org.</b></div><div class=\"sk-container\" hidden><div class=\"sk-item\"><div class=\"sk-estimator sk-toggleable\"><input class=\"sk-toggleable__control sk-hidden--visually\" id=\"sk-estimator-id-8\" type=\"checkbox\" checked><label for=\"sk-estimator-id-8\" class=\"sk-toggleable__label sk-toggleable__label-arrow\">ARIMA</label><div class=\"sk-toggleable__content\"><pre> ARIMA(1,1,1)(0,0,0)[0]          </pre></div></div></div></div></div>"
      ],
      "text/plain": [
       "ARIMA(order=(1, 1, 1), scoring_args={}, suppress_warnings=True,\n",
       "      with_intercept=False)"
      ]
     },
     "execution_count": 81,
     "metadata": {},
     "output_type": "execute_result"
    }
   ],
   "source": [
    "# Training model\n",
    "x_train = np.array(train_data.index).reshape(-1, 1)\n",
    "y_train = np.array(train_data['Price'])\n",
    "\n",
    "# Tìm mô hình ARIMA tối ưu nhất\n",
    "model = auto_arima(y_train, trace=True, error_action='ignore', suppress_warnings=True)\n",
    "model.fit(y_train)"
   ]
  },
  {
   "cell_type": "code",
   "execution_count": 82,
   "id": "e62270b6-8e12-4ff1-92e3-73929ec60a22",
   "metadata": {},
   "outputs": [],
   "source": [
    "# Testing model \n",
    "x_test = np.array(test_data.index).reshape(-1, 1)\n",
    "y_test = np.array(test_data['Price'])\n",
    "y_pred = model.predict(n_periods=len(y_test))"
   ]
  },
  {
   "cell_type": "code",
   "execution_count": 83,
   "id": "057f5174-0577-4697-bf90-ca89d5c4c137",
   "metadata": {},
   "outputs": [
    {
     "name": "stdout",
     "output_type": "stream",
     "text": [
      "Predict closing prices for the next 30 days:\n",
      "[60.21090338 60.15629172 60.14267931 60.1392863  60.13844056 60.13822976\n",
      " 60.13817721 60.13816412 60.13816085 60.13816004 60.13815983 60.13815978\n",
      " 60.13815977 60.13815977 60.13815977 60.13815977 60.13815977 60.13815977\n",
      " 60.13815977 60.13815977 60.13815977 60.13815977 60.13815977 60.13815977\n",
      " 60.13815977 60.13815977 60.13815977 60.13815977 60.13815977 60.13815977]\n"
     ]
    }
   ],
   "source": [
    "# Dự đoán 30 ngày tiếp theo\n",
    "last_index =  df.index[-1]\n",
    "last_data = pd.RangeIndex(start=last_index, stop=last_index+30, step=1)\n",
    "\n",
    "x_next_30_days = np.array(range(last_index+1, last_index+31)).reshape(-1, 1)\n",
    "y_next_30_days = model.predict(n_periods=len(x_next_30_days))\n",
    "\n",
    "print('Predict closing prices for the next 30 days:')\n",
    "print(y_next_30_days)"
   ]
  },
  {
   "cell_type": "code",
   "execution_count": 84,
   "id": "f3263f1b-81b0-4cd6-a238-8f5f5839494c",
   "metadata": {},
   "outputs": [
    {
     "name": "stdout",
     "output_type": "stream",
     "text": [
      "- Calculate Error Values -\n",
      "MAE:  4.388288638898367\n",
      "MAPE:  8.00188819989623\n",
      "RMSE:  5.2409578412723485\n"
     ]
    },
    {
     "data": {
      "image/png": "[encoded data removed]",
      "text/plain": [
       "<Figure size 640x480 with 1 Axes>"
      ]
     },
     "metadata": {},
     "output_type": "display_data"
    }
   ],
   "source": [
    "# Đánh giá mô hình dựa trên các đánh giá sai số và vẽ đồ thị đường\n",
    "evaluate(y_test, y_pred)\n",
    "\n",
    "plt.plot(train_data.index, train_data['Price'])\n",
    "plt.plot(test_data.index, test_data['Price'])\n",
    "plt.plot(test_data.index, y_pred)\n",
    "plt.plot(last_data,y_next_30_days)\n",
    "plt.legend(['Train', 'Test', 'Predictions','Next30Day'])\n",
    "plt.show()"
   ]
  },
  {
   "cell_type": "markdown",
   "id": "775dba13",
   "metadata": {},
   "source": [
    "# Gasoline RBOB - 9:1"
   ]
  },
  {
   "cell_type": "code",
   "execution_count": 85,
   "id": "f68dc1b0-e473-429c-9ffb-025dc646c4d1",
   "metadata": {},
   "outputs": [],
   "source": [
    "# Đọc file dữ liệu, loại bỏ những dòng bị thiếu và chuẩn hóa dữ liệu\n",
    "df= pd.read_csv('Gasoline RBOB Futures Historical Data.csv')\n",
    "df = df.dropna() # Drop missing values"
   ]
  },
  {
   "cell_type": "code",
   "execution_count": 86,
   "id": "02c8e23f-8fd9-47f8-b495-1d7443e6607a",
   "metadata": {},
   "outputs": [
    {
     "data": {
      "text/html": [
       "<div>\n",
       "<style scoped>\n",
       "    .dataframe tbody tr th:only-of-type {\n",
       "        vertical-align: middle;\n",
       "    }\n",
       "\n",
       "    .dataframe tbody tr th {\n",
       "        vertical-align: top;\n",
       "    }\n",
       "\n",
       "    .dataframe thead th {\n",
       "        text-align: right;\n",
       "    }\n",
       "</style>\n",
       "<table border=\"1\" class=\"dataframe\">\n",
       "  <thead>\n",
       "    <tr style=\"text-align: right;\">\n",
       "      <th></th>\n",
       "      <th>Date</th>\n",
       "      <th>Price</th>\n",
       "      <th>Open</th>\n",
       "      <th>High</th>\n",
       "      <th>Low</th>\n",
       "      <th>Vol.</th>\n",
       "      <th>Change %</th>\n",
       "    </tr>\n",
       "  </thead>\n",
       "  <tbody>\n",
       "    <tr>\n",
       "      <th>0</th>\n",
       "      <td>27-03-2024</td>\n",
       "      <td>2.6847</td>\n",
       "      <td>2.6878</td>\n",
       "      <td>2.6976</td>\n",
       "      <td>2.6877</td>\n",
       "      <td>150</td>\n",
       "      <td>-0.59</td>\n",
       "    </tr>\n",
       "    <tr>\n",
       "      <th>1</th>\n",
       "      <td>26-03-2024</td>\n",
       "      <td>2.7006</td>\n",
       "      <td>2.7489</td>\n",
       "      <td>2.7500</td>\n",
       "      <td>2.6980</td>\n",
       "      <td>390</td>\n",
       "      <td>-1.74</td>\n",
       "    </tr>\n",
       "    <tr>\n",
       "      <th>2</th>\n",
       "      <td>25-03-2024</td>\n",
       "      <td>2.7484</td>\n",
       "      <td>2.7370</td>\n",
       "      <td>2.7603</td>\n",
       "      <td>2.7310</td>\n",
       "      <td>620</td>\n",
       "      <td>1.11</td>\n",
       "    </tr>\n",
       "    <tr>\n",
       "      <th>4</th>\n",
       "      <td>22-03-2024</td>\n",
       "      <td>2.7398</td>\n",
       "      <td>2.7090</td>\n",
       "      <td>2.7456</td>\n",
       "      <td>2.7090</td>\n",
       "      <td>610</td>\n",
       "      <td>0.47</td>\n",
       "    </tr>\n",
       "    <tr>\n",
       "      <th>5</th>\n",
       "      <td>21-03-2024</td>\n",
       "      <td>2.7271</td>\n",
       "      <td>2.7370</td>\n",
       "      <td>2.7376</td>\n",
       "      <td>2.7119</td>\n",
       "      <td>150</td>\n",
       "      <td>-0.22</td>\n",
       "    </tr>\n",
       "    <tr>\n",
       "      <th>...</th>\n",
       "      <td>...</td>\n",
       "      <td>...</td>\n",
       "      <td>...</td>\n",
       "      <td>...</td>\n",
       "      <td>...</td>\n",
       "      <td>...</td>\n",
       "      <td>...</td>\n",
       "    </tr>\n",
       "    <tr>\n",
       "      <th>1616</th>\n",
       "      <td>08-01-2019</td>\n",
       "      <td>1.4740</td>\n",
       "      <td>1.3466</td>\n",
       "      <td>1.3722</td>\n",
       "      <td>1.3385</td>\n",
       "      <td>74920</td>\n",
       "      <td>1.62</td>\n",
       "    </tr>\n",
       "    <tr>\n",
       "      <th>1617</th>\n",
       "      <td>07-01-2019</td>\n",
       "      <td>1.4505</td>\n",
       "      <td>1.3560</td>\n",
       "      <td>1.3945</td>\n",
       "      <td>1.3389</td>\n",
       "      <td>79090</td>\n",
       "      <td>5.95</td>\n",
       "    </tr>\n",
       "    <tr>\n",
       "      <th>1619</th>\n",
       "      <td>04-01-2019</td>\n",
       "      <td>1.4515</td>\n",
       "      <td>1.3364</td>\n",
       "      <td>1.3981</td>\n",
       "      <td>1.3293</td>\n",
       "      <td>66360</td>\n",
       "      <td>0.96</td>\n",
       "    </tr>\n",
       "    <tr>\n",
       "      <th>1620</th>\n",
       "      <td>03-01-2019</td>\n",
       "      <td>1.4377</td>\n",
       "      <td>1.3160</td>\n",
       "      <td>1.3676</td>\n",
       "      <td>1.3016</td>\n",
       "      <td>57750</td>\n",
       "      <td>1.60</td>\n",
       "    </tr>\n",
       "    <tr>\n",
       "      <th>1621</th>\n",
       "      <td>02-01-2019</td>\n",
       "      <td>1.4150</td>\n",
       "      <td>1.3136</td>\n",
       "      <td>1.3790</td>\n",
       "      <td>1.2685</td>\n",
       "      <td>87520</td>\n",
       "      <td>7.81</td>\n",
       "    </tr>\n",
       "  </tbody>\n",
       "</table>\n",
       "<p>1330 rows × 7 columns</p>\n",
       "</div>"
      ],
      "text/plain": [
       "            Date   Price    Open    High     Low   Vol.  Change %\n",
       "0     27-03-2024  2.6847  2.6878  2.6976  2.6877    150     -0.59\n",
       "1     26-03-2024  2.7006  2.7489  2.7500  2.6980    390     -1.74\n",
       "2     25-03-2024  2.7484  2.7370  2.7603  2.7310    620      1.11\n",
       "4     22-03-2024  2.7398  2.7090  2.7456  2.7090    610      0.47\n",
       "5     21-03-2024  2.7271  2.7370  2.7376  2.7119    150     -0.22\n",
       "...          ...     ...     ...     ...     ...    ...       ...\n",
       "1616  08-01-2019  1.4740  1.3466  1.3722  1.3385  74920      1.62\n",
       "1617  07-01-2019  1.4505  1.3560  1.3945  1.3389  79090      5.95\n",
       "1619  04-01-2019  1.4515  1.3364  1.3981  1.3293  66360      0.96\n",
       "1620  03-01-2019  1.4377  1.3160  1.3676  1.3016  57750      1.60\n",
       "1621  02-01-2019  1.4150  1.3136  1.3790  1.2685  87520      7.81\n",
       "\n",
       "[1330 rows x 7 columns]"
      ]
     },
     "execution_count": 86,
     "metadata": {},
     "output_type": "execute_result"
    }
   ],
   "source": [
    "def convert_volume_to_number(volume_str):\n",
    "    if isinstance(volume_str, float):\n",
    "        return volume_str\n",
    "    if volume_str[-1] == 'K':\n",
    "        return int(float(volume_str[:-1]) * 1000)\n",
    "    elif volume_str[-1] == 'M':\n",
    "        return int(float(volume_str[:-1]) * 1000000)\n",
    "    elif volume_str[-1] == 'B':\n",
    "        return int(float(volume_str[:-1]) * 1000000000)\n",
    "    else:\n",
    "        return volume_str\n",
    "\n",
    "\n",
    "def convert_change_to_number(change_str):\n",
    "    new_change = float(change_str.strip('%'))\n",
    "    return new_change\n",
    "\n",
    "def convert_str_to_number(str):\n",
    "    return float(str.replace(',', ''))\n",
    "\n",
    "df['Vol.'] = df['Vol.'] .apply(convert_volume_to_number)\n",
    "df['Change %'] = df['Change %'].apply(convert_change_to_number)\n",
    "df['Date'] = pd.to_datetime(df['Date'])\n",
    "df[\"Date\"] = df[\"Date\"].dt.strftime('%d-%m-%Y')\n",
    "df"
   ]
  },
  {
   "cell_type": "code",
   "execution_count": 87,
   "id": "f2dbc5f6-4dcc-4c1e-940e-aec4d2b837d9",
   "metadata": {},
   "outputs": [
    {
     "name": "stdout",
     "output_type": "stream",
     "text": [
      "<class 'pandas.core.frame.DataFrame'>\n",
      "Index: 1330 entries, 0 to 1621\n",
      "Data columns (total 7 columns):\n",
      " #   Column    Non-Null Count  Dtype  \n",
      "---  ------    --------------  -----  \n",
      " 0   Date      1330 non-null   object \n",
      " 1   Price     1330 non-null   float64\n",
      " 2   Open      1330 non-null   float64\n",
      " 3   High      1330 non-null   float64\n",
      " 4   Low       1330 non-null   float64\n",
      " 5   Vol.      1330 non-null   int64  \n",
      " 6   Change %  1330 non-null   float64\n",
      "dtypes: float64(5), int64(1), object(1)\n",
      "memory usage: 83.1+ KB\n"
     ]
    }
   ],
   "source": [
    "df.info()"
   ]
  },
  {
   "cell_type": "code",
   "execution_count": 88,
   "id": "03dca756-987b-4b46-bf67-4d7370dc25ff",
   "metadata": {},
   "outputs": [],
   "source": [
    "# Chuyển đổi cột 'Price' thành mảng NumPy\n",
    "df = df[['Price']]\n",
    "df = df.dropna() # Drop missing values\n",
    "df = df.reset_index(drop=True) # Reset the index"
   ]
  },
  {
   "cell_type": "code",
   "execution_count": 89,
   "id": "e85e09fe-63b0-4ddc-85e4-2e30a0663fff",
   "metadata": {},
   "outputs": [],
   "source": [
    "# Tách dữ liệu train-test 9:1\n",
    "train_size = int(0.9 * len(df))\n",
    "test_size = len(df)-train_size\n",
    "train_data = df[:train_size]\n",
    "test_data = df[train_size:train_size+test_size]"
   ]
  },
  {
   "cell_type": "code",
   "execution_count": 90,
   "id": "20806f01-6275-4b78-aed0-1c28a7c8abe5",
   "metadata": {},
   "outputs": [],
   "source": [
    "# Tạo hàm đánh giá sai số cho dự đoán (sử dụng MAE, MAPE, RMSE)\n",
    "def evaluate(test,pred):\n",
    "  print('- Calculate Error Values -')\n",
    "  test_mae = mean_absolute_error(test, pred)\n",
    "  print('MAE: ', test_mae)\n",
    "\n",
    "  test_ape = np.abs((test - pred) / test)\n",
    "  test_mape = np.mean(test_ape) * 100\n",
    "  print('MAPE: ', test_mape)\n",
    "\n",
    "  test_mse = mean_squared_error(test, pred)\n",
    "  test_rmse = np.sqrt(test_mse)\n",
    "  print('RMSE: ', test_rmse)"
   ]
  },
  {
   "cell_type": "code",
   "execution_count": 91,
   "id": "6b4cbfd4-1d49-46f1-a5f5-03a68f6f5bc7",
   "metadata": {},
   "outputs": [
    {
     "name": "stdout",
     "output_type": "stream",
     "text": [
      "Performing stepwise search to minimize aic\n",
      " ARIMA(2,1,2)(0,0,0)[0] intercept   : AIC=-3209.646, Time=0.81 sec\n",
      " ARIMA(0,1,0)(0,0,0)[0] intercept   : AIC=-3124.606, Time=0.20 sec\n",
      " ARIMA(1,1,0)(0,0,0)[0] intercept   : AIC=-3180.533, Time=0.14 sec\n",
      " ARIMA(0,1,1)(0,0,0)[0] intercept   : AIC=-3202.153, Time=0.31 sec\n",
      " ARIMA(0,1,0)(0,0,0)[0]             : AIC=-3126.340, Time=0.11 sec\n",
      " ARIMA(1,1,2)(0,0,0)[0] intercept   : AIC=-3211.828, Time=0.39 sec\n",
      " ARIMA(0,1,2)(0,0,0)[0] intercept   : AIC=-3213.734, Time=0.39 sec\n",
      " ARIMA(0,1,3)(0,0,0)[0] intercept   : AIC=-3211.867, Time=0.46 sec\n",
      " ARIMA(1,1,1)(0,0,0)[0] intercept   : AIC=-3212.986, Time=1.04 sec\n",
      " ARIMA(1,1,3)(0,0,0)[0] intercept   : AIC=-3209.889, Time=0.43 sec\n",
      " ARIMA(0,1,2)(0,0,0)[0]             : AIC=-3214.965, Time=0.31 sec\n",
      " ARIMA(0,1,1)(0,0,0)[0]             : AIC=-3203.559, Time=0.22 sec\n",
      " ARIMA(1,1,2)(0,0,0)[0]             : AIC=-3213.043, Time=0.31 sec\n",
      " ARIMA(0,1,3)(0,0,0)[0]             : AIC=-3213.077, Time=0.33 sec\n",
      " ARIMA(1,1,1)(0,0,0)[0]             : AIC=-3214.150, Time=0.39 sec\n",
      " ARIMA(1,1,3)(0,0,0)[0]             : AIC=-3211.101, Time=0.47 sec\n",
      "\n",
      "Best model:  ARIMA(0,1,2)(0,0,0)[0]          \n",
      "Total fit time: 6.310 seconds\n"
     ]
    },
    {
     "data": {
      "text/html": [
       "<style>#sk-container-id-9 {color: black;background-color: white;}#sk-container-id-9 pre{padding: 0;}#sk-container-id-9 div.sk-toggleable {background-color: white;}#sk-container-id-9 label.sk-toggleable__label {cursor: pointer;display: block;width: 100%;margin-bottom: 0;padding: 0.3em;box-sizing: border-box;text-align: center;}#sk-container-id-9 label.sk-toggleable__label-arrow:before {content: \"▸\";float: left;margin-right: 0.25em;color: #696969;}#sk-container-id-9 label.sk-toggleable__label-arrow:hover:before {color: black;}#sk-container-id-9 div.sk-estimator:hover label.sk-toggleable__label-arrow:before {color: black;}#sk-container-id-9 div.sk-toggleable__content {max-height: 0;max-width: 0;overflow: hidden;text-align: left;background-color: #f0f8ff;}#sk-container-id-9 div.sk-toggleable__content pre {margin: 0.2em;color: black;border-radius: 0.25em;background-color: #f0f8ff;}#sk-container-id-9 input.sk-toggleable__control:checked~div.sk-toggleable__content {max-height: 200px;max-width: 100%;overflow: auto;}#sk-container-id-9 input.sk-toggleable__control:checked~label.sk-toggleable__label-arrow:before {content: \"▾\";}#sk-container-id-9 div.sk-estimator input.sk-toggleable__control:checked~label.sk-toggleable__label {background-color: #d4ebff;}#sk-container-id-9 div.sk-label input.sk-toggleable__control:checked~label.sk-toggleable__label {background-color: #d4ebff;}#sk-container-id-9 input.sk-hidden--visually {border: 0;clip: rect(1px 1px 1px 1px);clip: rect(1px, 1px, 1px, 1px);height: 1px;margin: -1px;overflow: hidden;padding: 0;position: absolute;width: 1px;}#sk-container-id-9 div.sk-estimator {font-family: monospace;background-color: #f0f8ff;border: 1px dotted black;border-radius: 0.25em;box-sizing: border-box;margin-bottom: 0.5em;}#sk-container-id-9 div.sk-estimator:hover {background-color: #d4ebff;}#sk-container-id-9 div.sk-parallel-item::after {content: \"\";width: 100%;border-bottom: 1px solid gray;flex-grow: 1;}#sk-container-id-9 div.sk-label:hover label.sk-toggleable__label {background-color: #d4ebff;}#sk-container-id-9 div.sk-serial::before {content: \"\";position: absolute;border-left: 1px solid gray;box-sizing: border-box;top: 0;bottom: 0;left: 50%;z-index: 0;}#sk-container-id-9 div.sk-serial {display: flex;flex-direction: column;align-items: center;background-color: white;padding-right: 0.2em;padding-left: 0.2em;position: relative;}#sk-container-id-9 div.sk-item {position: relative;z-index: 1;}#sk-container-id-9 div.sk-parallel {display: flex;align-items: stretch;justify-content: center;background-color: white;position: relative;}#sk-container-id-9 div.sk-item::before, #sk-container-id-9 div.sk-parallel-item::before {content: \"\";position: absolute;border-left: 1px solid gray;box-sizing: border-box;top: 0;bottom: 0;left: 50%;z-index: -1;}#sk-container-id-9 div.sk-parallel-item {display: flex;flex-direction: column;z-index: 1;position: relative;background-color: white;}#sk-container-id-9 div.sk-parallel-item:first-child::after {align-self: flex-end;width: 50%;}#sk-container-id-9 div.sk-parallel-item:last-child::after {align-self: flex-start;width: 50%;}#sk-container-id-9 div.sk-parallel-item:only-child::after {width: 0;}#sk-container-id-9 div.sk-dashed-wrapped {border: 1px dashed gray;margin: 0 0.4em 0.5em 0.4em;box-sizing: border-box;padding-bottom: 0.4em;background-color: white;}#sk-container-id-9 div.sk-label label {font-family: monospace;font-weight: bold;display: inline-block;line-height: 1.2em;}#sk-container-id-9 div.sk-label-container {text-align: center;}#sk-container-id-9 div.sk-container {/* jupyter's `normalize.less` sets `[hidden] { display: none; }` but bootstrap.min.css set `[hidden] { display: none !important; }` so we also need the `!important` here to be able to override the default hidden behavior on the sphinx rendered scikit-learn.org. See: https://github.com/scikit-learn/scikit-learn/issues/21755 */display: inline-block !important;position: relative;}#sk-container-id-9 div.sk-text-repr-fallback {display: none;}</style><div id=\"sk-container-id-9\" class=\"sk-top-container\"><div class=\"sk-text-repr-fallback\"><pre> ARIMA(0,1,2)(0,0,0)[0]          </pre><b>In a Jupyter environment, please rerun this cell to show the HTML representation or trust the notebook. <br />On GitHub, the HTML representation is unable to render, please try loading this page with nbviewer.org.</b></div><div class=\"sk-container\" hidden><div class=\"sk-item\"><div class=\"sk-estimator sk-toggleable\"><input class=\"sk-toggleable__control sk-hidden--visually\" id=\"sk-estimator-id-9\" type=\"checkbox\" checked><label for=\"sk-estimator-id-9\" class=\"sk-toggleable__label sk-toggleable__label-arrow\">ARIMA</label><div class=\"sk-toggleable__content\"><pre> ARIMA(0,1,2)(0,0,0)[0]          </pre></div></div></div></div></div>"
      ],
      "text/plain": [
       "ARIMA(order=(0, 1, 2), scoring_args={}, suppress_warnings=True,\n",
       "      with_intercept=False)"
      ]
     },
     "execution_count": 91,
     "metadata": {},
     "output_type": "execute_result"
    }
   ],
   "source": [
    "# Training model\n",
    "x_train = np.array(train_data.index).reshape(-1, 1)\n",
    "y_train = np.array(train_data['Price'])\n",
    "\n",
    "# Tìm mô hình ARIMA tối ưu nhất\n",
    "model = auto_arima(y_train, trace=True, error_action='ignore', suppress_warnings=True)\n",
    "model.fit(y_train)"
   ]
  },
  {
   "cell_type": "code",
   "execution_count": 92,
   "id": "f2f54944-1d9d-4aa8-a2fb-9b8fc387509d",
   "metadata": {},
   "outputs": [],
   "source": [
    "# Testing model \n",
    "x_test = np.array(test_data.index).reshape(-1, 1)\n",
    "y_test = np.array(test_data['Price'])\n",
    "y_pred = model.predict(n_periods=len(y_test))"
   ]
  },
  {
   "cell_type": "code",
   "execution_count": 93,
   "id": "956ddfbd-be48-4d79-9634-b31de37fd52b",
   "metadata": {},
   "outputs": [
    {
     "name": "stdout",
     "output_type": "stream",
     "text": [
      "Predict closing prices for the next 30 days:\n",
      "[1.50322192 1.49827472 1.49827472 1.49827472 1.49827472 1.49827472\n",
      " 1.49827472 1.49827472 1.49827472 1.49827472 1.49827472 1.49827472\n",
      " 1.49827472 1.49827472 1.49827472 1.49827472 1.49827472 1.49827472\n",
      " 1.49827472 1.49827472 1.49827472 1.49827472 1.49827472 1.49827472\n",
      " 1.49827472 1.49827472 1.49827472 1.49827472 1.49827472 1.49827472]\n"
     ]
    }
   ],
   "source": [
    "# Dự đoán 30 ngày tiếp theo\n",
    "last_index =  df.index[-1]\n",
    "last_data = pd.RangeIndex(start=last_index, stop=last_index+30, step=1)\n",
    "\n",
    "x_next_30_days = np.array(range(last_index+1, last_index+31)).reshape(-1, 1)\n",
    "y_next_30_days = model.predict(n_periods=len(x_next_30_days))\n",
    "\n",
    "print('Predict closing prices for the next 30 days:')\n",
    "print(y_next_30_days)"
   ]
  },
  {
   "cell_type": "code",
   "execution_count": 94,
   "id": "60338eeb-5c62-4b9c-ac7a-f55a7f84ad82",
   "metadata": {},
   "outputs": [
    {
     "name": "stdout",
     "output_type": "stream",
     "text": [
      "- Calculate Error Values -\n",
      "MAE:  0.06174282832143775\n",
      "MAPE:  3.9993901747143736\n",
      "RMSE:  0.07330806543302511\n"
     ]
    },
    {
     "data": {
      "image/png": "[encoded data removed]",
      "text/plain": [
       "<Figure size 640x480 with 1 Axes>"
      ]
     },
     "metadata": {},
     "output_type": "display_data"
    }
   ],
   "source": [
    "# Đánh giá mô hình dựa trên các đánh giá sai số và vẽ đồ thị đường\n",
    "evaluate(y_test, y_pred)\n",
    "\n",
    "plt.plot(train_data.index, train_data['Price'])\n",
    "plt.plot(test_data.index, test_data['Price'])\n",
    "plt.plot(test_data.index, y_pred)\n",
    "plt.plot(last_data,y_next_30_days)\n",
    "plt.legend(['Train', 'Test', 'Predictions','Next30Day'])\n",
    "plt.show()"
   ]
  },
  {
   "cell_type": "markdown",
   "id": "460347cb",
   "metadata": {},
   "source": [
    "# Heating Oil - 9:1"
   ]
  },
  {
   "cell_type": "code",
   "execution_count": 95,
   "id": "091cafef-546a-4401-8e42-782373178dfe",
   "metadata": {},
   "outputs": [],
   "source": [
    "# Đọc file dữ liệu, loại bỏ những dòng bị thiếu và chuẩn hóa dữ liệu\n",
    "df= pd.read_csv('Heating Oil Futures Historical Data.csv')\n",
    "df = df.dropna() # Drop missing values"
   ]
  },
  {
   "cell_type": "code",
   "execution_count": 96,
   "id": "960b3059-5e76-48c0-acbe-3fb01ccfaf3b",
   "metadata": {},
   "outputs": [
    {
     "data": {
      "text/html": [
       "<div>\n",
       "<style scoped>\n",
       "    .dataframe tbody tr th:only-of-type {\n",
       "        vertical-align: middle;\n",
       "    }\n",
       "\n",
       "    .dataframe tbody tr th {\n",
       "        vertical-align: top;\n",
       "    }\n",
       "\n",
       "    .dataframe thead th {\n",
       "        text-align: right;\n",
       "    }\n",
       "</style>\n",
       "<table border=\"1\" class=\"dataframe\">\n",
       "  <thead>\n",
       "    <tr style=\"text-align: right;\">\n",
       "      <th></th>\n",
       "      <th>Date</th>\n",
       "      <th>Price</th>\n",
       "      <th>Open</th>\n",
       "      <th>High</th>\n",
       "      <th>Low</th>\n",
       "      <th>Vol.</th>\n",
       "      <th>Change %</th>\n",
       "    </tr>\n",
       "  </thead>\n",
       "  <tbody>\n",
       "    <tr>\n",
       "      <th>0</th>\n",
       "      <td>27-03-2024</td>\n",
       "      <td>2.5986</td>\n",
       "      <td>2.6109</td>\n",
       "      <td>2.6172</td>\n",
       "      <td>2.5884</td>\n",
       "      <td>20970</td>\n",
       "      <td>-0.88</td>\n",
       "    </tr>\n",
       "    <tr>\n",
       "      <th>1</th>\n",
       "      <td>26-03-2024</td>\n",
       "      <td>2.6218</td>\n",
       "      <td>2.6845</td>\n",
       "      <td>2.6870</td>\n",
       "      <td>2.6097</td>\n",
       "      <td>24090</td>\n",
       "      <td>-2.12</td>\n",
       "    </tr>\n",
       "    <tr>\n",
       "      <th>2</th>\n",
       "      <td>25-03-2024</td>\n",
       "      <td>2.6786</td>\n",
       "      <td>2.6644</td>\n",
       "      <td>2.7062</td>\n",
       "      <td>2.6533</td>\n",
       "      <td>29060</td>\n",
       "      <td>0.95</td>\n",
       "    </tr>\n",
       "    <tr>\n",
       "      <th>3</th>\n",
       "      <td>22-03-2024</td>\n",
       "      <td>2.6534</td>\n",
       "      <td>2.6630</td>\n",
       "      <td>2.6904</td>\n",
       "      <td>2.6471</td>\n",
       "      <td>27590</td>\n",
       "      <td>-0.58</td>\n",
       "    </tr>\n",
       "    <tr>\n",
       "      <th>4</th>\n",
       "      <td>21-03-2024</td>\n",
       "      <td>2.6688</td>\n",
       "      <td>2.6932</td>\n",
       "      <td>2.7026</td>\n",
       "      <td>2.6360</td>\n",
       "      <td>24850</td>\n",
       "      <td>-1.00</td>\n",
       "    </tr>\n",
       "    <tr>\n",
       "      <th>...</th>\n",
       "      <td>...</td>\n",
       "      <td>...</td>\n",
       "      <td>...</td>\n",
       "      <td>...</td>\n",
       "      <td>...</td>\n",
       "      <td>...</td>\n",
       "      <td>...</td>\n",
       "    </tr>\n",
       "    <tr>\n",
       "      <th>1377</th>\n",
       "      <td>08-01-2019</td>\n",
       "      <td>1.8270</td>\n",
       "      <td>1.7810</td>\n",
       "      <td>1.8296</td>\n",
       "      <td>1.7757</td>\n",
       "      <td>57590</td>\n",
       "      <td>2.73</td>\n",
       "    </tr>\n",
       "    <tr>\n",
       "      <th>1378</th>\n",
       "      <td>07-01-2019</td>\n",
       "      <td>1.7784</td>\n",
       "      <td>1.7809</td>\n",
       "      <td>1.8245</td>\n",
       "      <td>1.7764</td>\n",
       "      <td>57180</td>\n",
       "      <td>0.52</td>\n",
       "    </tr>\n",
       "    <tr>\n",
       "      <th>1379</th>\n",
       "      <td>04-01-2019</td>\n",
       "      <td>1.7692</td>\n",
       "      <td>1.7300</td>\n",
       "      <td>1.8035</td>\n",
       "      <td>1.7236</td>\n",
       "      <td>61140</td>\n",
       "      <td>1.56</td>\n",
       "    </tr>\n",
       "    <tr>\n",
       "      <th>1380</th>\n",
       "      <td>03-01-2019</td>\n",
       "      <td>1.7420</td>\n",
       "      <td>1.7008</td>\n",
       "      <td>1.7466</td>\n",
       "      <td>1.6801</td>\n",
       "      <td>56550</td>\n",
       "      <td>2.43</td>\n",
       "    </tr>\n",
       "    <tr>\n",
       "      <th>1381</th>\n",
       "      <td>02-01-2019</td>\n",
       "      <td>1.7006</td>\n",
       "      <td>1.6895</td>\n",
       "      <td>1.7489</td>\n",
       "      <td>1.6424</td>\n",
       "      <td>65510</td>\n",
       "      <td>0.89</td>\n",
       "    </tr>\n",
       "  </tbody>\n",
       "</table>\n",
       "<p>1319 rows × 7 columns</p>\n",
       "</div>"
      ],
      "text/plain": [
       "            Date   Price    Open    High     Low   Vol.  Change %\n",
       "0     27-03-2024  2.5986  2.6109  2.6172  2.5884  20970     -0.88\n",
       "1     26-03-2024  2.6218  2.6845  2.6870  2.6097  24090     -2.12\n",
       "2     25-03-2024  2.6786  2.6644  2.7062  2.6533  29060      0.95\n",
       "3     22-03-2024  2.6534  2.6630  2.6904  2.6471  27590     -0.58\n",
       "4     21-03-2024  2.6688  2.6932  2.7026  2.6360  24850     -1.00\n",
       "...          ...     ...     ...     ...     ...    ...       ...\n",
       "1377  08-01-2019  1.8270  1.7810  1.8296  1.7757  57590      2.73\n",
       "1378  07-01-2019  1.7784  1.7809  1.8245  1.7764  57180      0.52\n",
       "1379  04-01-2019  1.7692  1.7300  1.8035  1.7236  61140      1.56\n",
       "1380  03-01-2019  1.7420  1.7008  1.7466  1.6801  56550      2.43\n",
       "1381  02-01-2019  1.7006  1.6895  1.7489  1.6424  65510      0.89\n",
       "\n",
       "[1319 rows x 7 columns]"
      ]
     },
     "execution_count": 96,
     "metadata": {},
     "output_type": "execute_result"
    }
   ],
   "source": [
    "def convert_volume_to_number(volume_str):\n",
    "    if isinstance(volume_str, float):\n",
    "        return volume_str\n",
    "    if volume_str[-1] == 'K':\n",
    "        return int(float(volume_str[:-1]) * 1000)\n",
    "    elif volume_str[-1] == 'M':\n",
    "        return int(float(volume_str[:-1]) * 1000000)\n",
    "    elif volume_str[-1] == 'B':\n",
    "        return int(float(volume_str[:-1]) * 1000000000)\n",
    "    else:\n",
    "        return volume_str\n",
    "\n",
    "\n",
    "def convert_change_to_number(change_str):\n",
    "    new_change = float(change_str.strip('%'))\n",
    "    return new_change\n",
    "\n",
    "def convert_str_to_number(str):\n",
    "    return float(str.replace(',', ''))\n",
    "\n",
    "df['Vol.'] = df['Vol.'] .apply(convert_volume_to_number)\n",
    "df['Change %'] = df['Change %'].apply(convert_change_to_number)\n",
    "df['Date'] = pd.to_datetime(df['Date'])\n",
    "df[\"Date\"] = df[\"Date\"].dt.strftime('%d-%m-%Y')\n",
    "df"
   ]
  },
  {
   "cell_type": "code",
   "execution_count": 97,
   "id": "c452295d-df51-4f43-a505-b5767c84da34",
   "metadata": {},
   "outputs": [
    {
     "name": "stdout",
     "output_type": "stream",
     "text": [
      "<class 'pandas.core.frame.DataFrame'>\n",
      "Index: 1319 entries, 0 to 1381\n",
      "Data columns (total 7 columns):\n",
      " #   Column    Non-Null Count  Dtype  \n",
      "---  ------    --------------  -----  \n",
      " 0   Date      1319 non-null   object \n",
      " 1   Price     1319 non-null   float64\n",
      " 2   Open      1319 non-null   float64\n",
      " 3   High      1319 non-null   float64\n",
      " 4   Low       1319 non-null   float64\n",
      " 5   Vol.      1319 non-null   int64  \n",
      " 6   Change %  1319 non-null   float64\n",
      "dtypes: float64(5), int64(1), object(1)\n",
      "memory usage: 82.4+ KB\n"
     ]
    }
   ],
   "source": [
    "df.info()"
   ]
  },
  {
   "cell_type": "code",
   "execution_count": 98,
   "id": "7f6ab5b7-ccf2-4f9f-bd1b-983d5de2df69",
   "metadata": {},
   "outputs": [],
   "source": [
    "# Chuyển đổi cột 'Price' thành mảng NumPy\n",
    "df = df[['Price']]\n",
    "df = df.dropna() # Drop missing values\n",
    "df = df.reset_index(drop=True) # Reset the index"
   ]
  },
  {
   "cell_type": "code",
   "execution_count": 99,
   "id": "bd5e5b3c-0bf3-41f9-9358-c6503e4a4191",
   "metadata": {},
   "outputs": [],
   "source": [
    "# Tách dữ liệu train-test 9:1\n",
    "train_size = int(0.9 * len(df))\n",
    "test_size = len(df)-train_size\n",
    "train_data = df[:train_size]\n",
    "test_data = df[train_size:train_size+test_size]"
   ]
  },
  {
   "cell_type": "code",
   "execution_count": 100,
   "id": "b52170e9-ce10-4cf5-816a-6692ec6debfe",
   "metadata": {},
   "outputs": [],
   "source": [
    "# Tạo hàm đánh giá sai số cho dự đoán (sử dụng MAE, MAPE, RMSE)\n",
    "def evaluate(test,pred):\n",
    "  print('- Calculate Error Values -')\n",
    "  test_mae = mean_absolute_error(test, pred)\n",
    "  print('MAE: ', test_mae)\n",
    "\n",
    "  test_ape = np.abs((test - pred) / test)\n",
    "  test_mape = np.mean(test_ape) * 100\n",
    "  print('MAPE: ', test_mape)\n",
    "\n",
    "  test_mse = mean_squared_error(test, pred)\n",
    "  test_rmse = np.sqrt(test_mse)\n",
    "  print('RMSE: ', test_rmse)"
   ]
  },
  {
   "cell_type": "code",
   "execution_count": 101,
   "id": "8d04f066-b096-436e-b0d6-f982e3450cf5",
   "metadata": {},
   "outputs": [
    {
     "name": "stdout",
     "output_type": "stream",
     "text": [
      "Performing stepwise search to minimize aic\n",
      " ARIMA(2,1,2)(0,0,0)[0] intercept   : AIC=-2569.588, Time=1.41 sec\n",
      " ARIMA(0,1,0)(0,0,0)[0] intercept   : AIC=-2538.496, Time=0.18 sec\n",
      " ARIMA(1,1,0)(0,0,0)[0] intercept   : AIC=-2552.071, Time=0.20 sec\n",
      " ARIMA(0,1,1)(0,0,0)[0] intercept   : AIC=-2553.488, Time=0.27 sec\n",
      " ARIMA(0,1,0)(0,0,0)[0]             : AIC=-2540.449, Time=0.09 sec\n",
      " ARIMA(1,1,2)(0,0,0)[0] intercept   : AIC=-2554.192, Time=0.89 sec\n",
      " ARIMA(2,1,1)(0,0,0)[0] intercept   : AIC=-2566.364, Time=1.37 sec\n",
      " ARIMA(3,1,2)(0,0,0)[0] intercept   : AIC=-2561.749, Time=1.71 sec\n",
      " ARIMA(2,1,3)(0,0,0)[0] intercept   : AIC=-2572.673, Time=2.05 sec\n",
      " ARIMA(1,1,3)(0,0,0)[0] intercept   : AIC=-2569.890, Time=1.46 sec\n",
      " ARIMA(3,1,3)(0,0,0)[0] intercept   : AIC=-2577.427, Time=2.69 sec\n",
      " ARIMA(4,1,3)(0,0,0)[0] intercept   : AIC=-2576.613, Time=2.38 sec\n",
      " ARIMA(3,1,4)(0,0,0)[0] intercept   : AIC=-2573.320, Time=2.41 sec\n",
      " ARIMA(2,1,4)(0,0,0)[0] intercept   : AIC=-2574.184, Time=2.22 sec\n",
      " ARIMA(4,1,2)(0,0,0)[0] intercept   : AIC=-2560.349, Time=2.22 sec\n",
      " ARIMA(4,1,4)(0,0,0)[0] intercept   : AIC=-2576.129, Time=2.62 sec\n",
      " ARIMA(3,1,3)(0,0,0)[0]             : AIC=-2580.294, Time=1.18 sec\n",
      " ARIMA(2,1,3)(0,0,0)[0]             : AIC=-2574.597, Time=0.99 sec\n",
      " ARIMA(3,1,2)(0,0,0)[0]             : AIC=-2568.493, Time=1.55 sec\n",
      " ARIMA(4,1,3)(0,0,0)[0]             : AIC=-2578.727, Time=1.49 sec\n",
      " ARIMA(3,1,4)(0,0,0)[0]             : AIC=-2577.907, Time=1.50 sec\n",
      " ARIMA(2,1,2)(0,0,0)[0]             : AIC=-2571.550, Time=0.78 sec\n",
      " ARIMA(2,1,4)(0,0,0)[0]             : AIC=-2576.096, Time=1.32 sec\n",
      " ARIMA(4,1,2)(0,0,0)[0]             : AIC=-2564.128, Time=1.17 sec\n",
      " ARIMA(4,1,4)(0,0,0)[0]             : AIC=-2579.046, Time=1.44 sec\n",
      "\n",
      "Best model:  ARIMA(3,1,3)(0,0,0)[0]          \n",
      "Total fit time: 35.611 seconds\n"
     ]
    },
    {
     "data": {
      "text/html": [
       "<style>#sk-container-id-10 {color: black;background-color: white;}#sk-container-id-10 pre{padding: 0;}#sk-container-id-10 div.sk-toggleable {background-color: white;}#sk-container-id-10 label.sk-toggleable__label {cursor: pointer;display: block;width: 100%;margin-bottom: 0;padding: 0.3em;box-sizing: border-box;text-align: center;}#sk-container-id-10 label.sk-toggleable__label-arrow:before {content: \"▸\";float: left;margin-right: 0.25em;color: #696969;}#sk-container-id-10 label.sk-toggleable__label-arrow:hover:before {color: black;}#sk-container-id-10 div.sk-estimator:hover label.sk-toggleable__label-arrow:before {color: black;}#sk-container-id-10 div.sk-toggleable__content {max-height: 0;max-width: 0;overflow: hidden;text-align: left;background-color: #f0f8ff;}#sk-container-id-10 div.sk-toggleable__content pre {margin: 0.2em;color: black;border-radius: 0.25em;background-color: #f0f8ff;}#sk-container-id-10 input.sk-toggleable__control:checked~div.sk-toggleable__content {max-height: 200px;max-width: 100%;overflow: auto;}#sk-container-id-10 input.sk-toggleable__control:checked~label.sk-toggleable__label-arrow:before {content: \"▾\";}#sk-container-id-10 div.sk-estimator input.sk-toggleable__control:checked~label.sk-toggleable__label {background-color: #d4ebff;}#sk-container-id-10 div.sk-label input.sk-toggleable__control:checked~label.sk-toggleable__label {background-color: #d4ebff;}#sk-container-id-10 input.sk-hidden--visually {border: 0;clip: rect(1px 1px 1px 1px);clip: rect(1px, 1px, 1px, 1px);height: 1px;margin: -1px;overflow: hidden;padding: 0;position: absolute;width: 1px;}#sk-container-id-10 div.sk-estimator {font-family: monospace;background-color: #f0f8ff;border: 1px dotted black;border-radius: 0.25em;box-sizing: border-box;margin-bottom: 0.5em;}#sk-container-id-10 div.sk-estimator:hover {background-color: #d4ebff;}#sk-container-id-10 div.sk-parallel-item::after {content: \"\";width: 100%;border-bottom: 1px solid gray;flex-grow: 1;}#sk-container-id-10 div.sk-label:hover label.sk-toggleable__label {background-color: #d4ebff;}#sk-container-id-10 div.sk-serial::before {content: \"\";position: absolute;border-left: 1px solid gray;box-sizing: border-box;top: 0;bottom: 0;left: 50%;z-index: 0;}#sk-container-id-10 div.sk-serial {display: flex;flex-direction: column;align-items: center;background-color: white;padding-right: 0.2em;padding-left: 0.2em;position: relative;}#sk-container-id-10 div.sk-item {position: relative;z-index: 1;}#sk-container-id-10 div.sk-parallel {display: flex;align-items: stretch;justify-content: center;background-color: white;position: relative;}#sk-container-id-10 div.sk-item::before, #sk-container-id-10 div.sk-parallel-item::before {content: \"\";position: absolute;border-left: 1px solid gray;box-sizing: border-box;top: 0;bottom: 0;left: 50%;z-index: -1;}#sk-container-id-10 div.sk-parallel-item {display: flex;flex-direction: column;z-index: 1;position: relative;background-color: white;}#sk-container-id-10 div.sk-parallel-item:first-child::after {align-self: flex-end;width: 50%;}#sk-container-id-10 div.sk-parallel-item:last-child::after {align-self: flex-start;width: 50%;}#sk-container-id-10 div.sk-parallel-item:only-child::after {width: 0;}#sk-container-id-10 div.sk-dashed-wrapped {border: 1px dashed gray;margin: 0 0.4em 0.5em 0.4em;box-sizing: border-box;padding-bottom: 0.4em;background-color: white;}#sk-container-id-10 div.sk-label label {font-family: monospace;font-weight: bold;display: inline-block;line-height: 1.2em;}#sk-container-id-10 div.sk-label-container {text-align: center;}#sk-container-id-10 div.sk-container {/* jupyter's `normalize.less` sets `[hidden] { display: none; }` but bootstrap.min.css set `[hidden] { display: none !important; }` so we also need the `!important` here to be able to override the default hidden behavior on the sphinx rendered scikit-learn.org. See: https://github.com/scikit-learn/scikit-learn/issues/21755 */display: inline-block !important;position: relative;}#sk-container-id-10 div.sk-text-repr-fallback {display: none;}</style><div id=\"sk-container-id-10\" class=\"sk-top-container\"><div class=\"sk-text-repr-fallback\"><pre> ARIMA(3,1,3)(0,0,0)[0]          </pre><b>In a Jupyter environment, please rerun this cell to show the HTML representation or trust the notebook. <br />On GitHub, the HTML representation is unable to render, please try loading this page with nbviewer.org.</b></div><div class=\"sk-container\" hidden><div class=\"sk-item\"><div class=\"sk-estimator sk-toggleable\"><input class=\"sk-toggleable__control sk-hidden--visually\" id=\"sk-estimator-id-10\" type=\"checkbox\" checked><label for=\"sk-estimator-id-10\" class=\"sk-toggleable__label sk-toggleable__label-arrow\">ARIMA</label><div class=\"sk-toggleable__content\"><pre> ARIMA(3,1,3)(0,0,0)[0]          </pre></div></div></div></div></div>"
      ],
      "text/plain": [
       "ARIMA(order=(3, 1, 3), scoring_args={}, suppress_warnings=True,\n",
       "      with_intercept=False)"
      ]
     },
     "execution_count": 101,
     "metadata": {},
     "output_type": "execute_result"
    }
   ],
   "source": [
    "# Training model\n",
    "x_train = np.array(train_data.index).reshape(-1, 1)\n",
    "y_train = np.array(train_data['Price'])\n",
    "\n",
    "# Tìm mô hình ARIMA tối ưu nhất\n",
    "model = auto_arima(y_train, trace=True, error_action='ignore', suppress_warnings=True)\n",
    "model.fit(y_train)"
   ]
  },
  {
   "cell_type": "code",
   "execution_count": 102,
   "id": "95b4284c-307c-4e27-a4d3-a3b211f213d2",
   "metadata": {},
   "outputs": [],
   "source": [
    "# Testing model \n",
    "x_test = np.array(test_data.index).reshape(-1, 1)\n",
    "y_test = np.array(test_data['Price'])\n",
    "y_pred = model.predict(n_periods=len(y_test))"
   ]
  },
  {
   "cell_type": "code",
   "execution_count": 103,
   "id": "86e07511-d6fc-45a6-8fc1-02fc46101cfa",
   "metadata": {},
   "outputs": [
    {
     "name": "stdout",
     "output_type": "stream",
     "text": [
      "Predict closing prices for the next 30 days:\n",
      "[1.98183126 1.97345147 1.96961258 1.96751987 1.96355436 1.96206904\n",
      " 1.9600571  1.9584661  1.95743257 1.95630166 1.95554281 1.95487487\n",
      " 1.9543052  1.95387985 1.95350089 1.95320369 1.95296011 1.95275556\n",
      " 1.95259313 1.9524573  1.95234678 1.95225676 1.9521823  1.95212187\n",
      " 1.95207218 1.95203148 1.95199825 1.95197095 1.95194865 1.95193038]\n"
     ]
    }
   ],
   "source": [
    "# Dự đoán 30 ngày tiếp theo\n",
    "last_index =  df.index[-1]\n",
    "last_data = pd.RangeIndex(start=last_index, stop=last_index+30, step=1)\n",
    "\n",
    "x_next_30_days = np.array(range(last_index+1, last_index+31)).reshape(-1, 1)\n",
    "y_next_30_days = model.predict(n_periods=len(x_next_30_days))\n",
    "\n",
    "print('Predict closing prices for the next 30 days:')\n",
    "print(y_next_30_days)"
   ]
  },
  {
   "cell_type": "code",
   "execution_count": 104,
   "id": "a49ff8bf-9225-45fc-af9d-2de940c6fa18",
   "metadata": {},
   "outputs": [
    {
     "name": "stdout",
     "output_type": "stream",
     "text": [
      "- Calculate Error Values -\n",
      "MAE:  0.08031257456740354\n",
      "MAPE:  4.133209002975269\n",
      "RMSE:  0.09426010201012178\n"
     ]
    },
    {
     "data": {
      "image/png": "[encoded data removed]",
      "text/plain": [
       "<Figure size 640x480 with 1 Axes>"
      ]
     },
     "metadata": {},
     "output_type": "display_data"
    }
   ],
   "source": [
    "# Đánh giá mô hình dựa trên các đánh giá sai số và vẽ đồ thị đường\n",
    "evaluate(y_test, y_pred)\n",
    "\n",
    "plt.plot(train_data.index, train_data['Price'])\n",
    "plt.plot(test_data.index, test_data['Price'])\n",
    "plt.plot(test_data.index, y_pred)\n",
    "plt.plot(last_data,y_next_30_days)\n",
    "plt.legend(['Train', 'Test', 'Predictions','Next30Day'])\n",
    "plt.show()"
   ]
  }
 ],
 "metadata": {
  "kernelspec": {
   "display_name": "Python 3 (ipykernel)",
   "language": "python",
   "name": "python3"
  },
  "language_info": {
   "codemirror_mode": {
    "name": "ipython",
    "version": 3
   },
   "file_extension": ".py",
   "mimetype": "text/x-python",
   "name": "python",
   "nbconvert_exporter": "python",
   "pygments_lexer": "ipython3",
   "version": "3.11.7"
  }
 },
 "nbformat": 4,
 "nbformat_minor": 5
}
